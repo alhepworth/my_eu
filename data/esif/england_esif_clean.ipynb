{
 "cells": [
  {
   "cell_type": "markdown",
   "metadata": {},
   "source": [
    "# ESIF (ERDF)"
   ]
  },
  {
   "cell_type": "code",
   "execution_count": null,
   "metadata": {},
   "outputs": [],
   "source": [
    "import json\n",
    "import re\n",
    "\n",
    "import pandas as pd"
   ]
  },
  {
   "cell_type": "markdown",
   "metadata": {},
   "source": [
    "## Load and Clean"
   ]
  },
  {
   "cell_type": "code",
   "execution_count": null,
   "metadata": {},
   "outputs": [],
   "source": [
    "raw_esif = pd.read_excel('input/ESIF_2014-2020__List_of_beneficiaries_July_2018_Final.xlsx', skiprows=9)\n",
    "raw_esif.shape"
   ]
  },
  {
   "cell_type": "code",
   "execution_count": null,
   "metadata": {},
   "outputs": [],
   "source": [
    "raw_esif.head()"
   ]
  },
  {
   "cell_type": "code",
   "execution_count": null,
   "metadata": {},
   "outputs": [],
   "source": [
    "esif = raw_esif.rename(columns={\n",
    "    'Bénéficiaire': 'beneficiary',\n",
    "    'Nom du projet': 'project',\n",
    "    'Fonds': 'funds',\n",
    "    'Unnamed: 3': 'priority_axis',\n",
    "    'Résumé du projet': 'summary',\n",
    "    'Date de commencement': 'start_date',\n",
    "    'Date de fin': 'end_date',\n",
    "    'Investissement FEDER/FSE £m': 'eu_investment',\n",
    "    'Coût total du projet £m': 'project_cost',\n",
    "    '% du projet cofinancé par l’UE': 'prop_eu_financed',\n",
    "    'Localisation (code postal)': 'raw_postcode',\n",
    "    'Zone de partenariat économique local': 'economic_zone',\n",
    "    'Pays': 'country',\n",
    "    'Type et axe du soutien (catégorie d’intervention)': 'category'\n",
    "}).copy()\n",
    "esif.head()"
   ]
  },
  {
   "cell_type": "code",
   "execution_count": null,
   "metadata": {},
   "outputs": [],
   "source": []
  },
  {
   "cell_type": "code",
   "execution_count": null,
   "metadata": {},
   "outputs": [],
   "source": []
  },
  {
   "cell_type": "markdown",
   "metadata": {},
   "source": [
    "### Country\n",
    "\n",
    "It is all England, so we can drop the column."
   ]
  },
  {
   "cell_type": "code",
   "execution_count": null,
   "metadata": {},
   "outputs": [],
   "source": [
    "esif.country.unique()"
   ]
  },
  {
   "cell_type": "code",
   "execution_count": null,
   "metadata": {},
   "outputs": [],
   "source": [
    "esif.drop('country', axis=1, inplace=True)"
   ]
  },
  {
   "cell_type": "markdown",
   "metadata": {},
   "source": [
    "### Beneficiary"
   ]
  },
  {
   "cell_type": "code",
   "execution_count": null,
   "metadata": {},
   "outputs": [],
   "source": [
    "esif.beneficiary[esif.beneficiary.str.strip() != esif.beneficiary]"
   ]
  },
  {
   "cell_type": "code",
   "execution_count": null,
   "metadata": {},
   "outputs": [],
   "source": [
    "esif.beneficiary = esif.beneficiary.str.strip()"
   ]
  },
  {
   "cell_type": "markdown",
   "metadata": {},
   "source": [
    "### Project\n",
    "\n",
    "In the absence of any IDs, do we have any duplicates? Sometimes the same project gets both ERDF and ESF funding. There do appear to be a couple of duplicates.\n",
    "\n",
    "TODO: Probably worth writing up [Northern Powerhouse Investment Fund](https://www.npif.co.uk/) --- it's a big one with no description."
   ]
  },
  {
   "cell_type": "code",
   "execution_count": null,
   "metadata": {},
   "outputs": [],
   "source": [
    "esif.project[esif.project.str.contains('\\n')]"
   ]
  },
  {
   "cell_type": "code",
   "execution_count": null,
   "metadata": {},
   "outputs": [],
   "source": [
    "esif.project = esif.project.str.replace('\\n', ' ')"
   ]
  },
  {
   "cell_type": "code",
   "execution_count": null,
   "metadata": {},
   "outputs": [],
   "source": [
    "esif.project[esif.project.str.strip() != esif.project] # lots\n",
    "esif.project = esif.project.str.strip()"
   ]
  },
  {
   "cell_type": "code",
   "execution_count": null,
   "metadata": {},
   "outputs": [],
   "source": [
    "esif.project.unique().shape"
   ]
  },
  {
   "cell_type": "code",
   "execution_count": null,
   "metadata": {},
   "outputs": [],
   "source": [
    "esif[esif.duplicated(['beneficiary', 'project', 'funds'], keep=False)].sort_values('project')"
   ]
  },
  {
   "cell_type": "code",
   "execution_count": null,
   "metadata": {},
   "outputs": [],
   "source": [
    "duplicate_project = esif.duplicated([\n",
    "    'beneficiary', 'project', 'funds', 'eu_investment', 'project_cost'\n",
    "])\n",
    "esif[duplicate_project].sort_values('project')"
   ]
  },
  {
   "cell_type": "code",
   "execution_count": null,
   "metadata": {},
   "outputs": [],
   "source": [
    "esif = esif[~duplicate_project].copy()"
   ]
  },
  {
   "cell_type": "markdown",
   "metadata": {},
   "source": [
    "### Summary"
   ]
  },
  {
   "cell_type": "code",
   "execution_count": null,
   "metadata": {},
   "outputs": [],
   "source": [
    "esif.summary.isna().sum()"
   ]
  },
  {
   "cell_type": "code",
   "execution_count": null,
   "metadata": {},
   "outputs": [],
   "source": [
    "(esif.summary != esif.summary.str.strip()).sum() # lots\n",
    "esif.summary = esif.summary.str.strip()"
   ]
  },
  {
   "cell_type": "markdown",
   "metadata": {},
   "source": [
    "### Funds"
   ]
  },
  {
   "cell_type": "code",
   "execution_count": null,
   "metadata": {},
   "outputs": [],
   "source": [
    "esif.funds.isna().sum()"
   ]
  },
  {
   "cell_type": "code",
   "execution_count": null,
   "metadata": {},
   "outputs": [],
   "source": [
    "esif.funds.unique()"
   ]
  },
  {
   "cell_type": "code",
   "execution_count": null,
   "metadata": {},
   "outputs": [],
   "source": [
    "esif.funds = esif.funds.str.strip().str.replace('ESF.+', 'ESF')\n",
    "esif.funds.unique()"
   ]
  },
  {
   "cell_type": "markdown",
   "metadata": {},
   "source": [
    "### Priority Axis\n",
    "\n",
    "The ESF and ERDF priority axes are different.\n",
    "\n",
    "- [ESF](https://assets.publishing.service.gov.uk/government/uploads/system/uploads/attachment_data/file/461596/ESF_Operational_Programme_2014_-_2020_V.01.pdf) (p. 6) --- three of them\n",
    "- [ERDF](https://assets.publishing.service.gov.uk/government/uploads/system/uploads/attachment_data/file/706955/ESIF_Online_Publication_2018_FINAL_150518.pdf) (p. 3) --- nine of them\n",
    "\n",
    "We could clean these up, if they're useful."
   ]
  },
  {
   "cell_type": "code",
   "execution_count": null,
   "metadata": {},
   "outputs": [],
   "source": [
    "esif.priority_axis.isna().sum()"
   ]
  },
  {
   "cell_type": "code",
   "execution_count": null,
   "metadata": {},
   "outputs": [],
   "source": [
    "esif.priority_axis.unique()"
   ]
  },
  {
   "cell_type": "markdown",
   "metadata": {},
   "source": [
    "### Project Cost\n",
    "\n",
    "Unfortunately, there are some junk values, but they look salvageable."
   ]
  },
  {
   "cell_type": "code",
   "execution_count": null,
   "metadata": {},
   "outputs": [],
   "source": [
    "esif.project_cost.isna().sum()"
   ]
  },
  {
   "cell_type": "code",
   "execution_count": null,
   "metadata": {},
   "outputs": [],
   "source": [
    "esif.project_cost = esif.project_cost.map(str).str.strip()\n",
    "project_cost_bad = esif.project_cost.str.match(re.compile(r'.*[^0-9.].*'))\n",
    "esif.project_cost[project_cost_bad]"
   ]
  },
  {
   "cell_type": "code",
   "execution_count": null,
   "metadata": {},
   "outputs": [],
   "source": [
    "project_cost_fixed = esif.project_cost[project_cost_bad].\\\n",
    "    str.replace(r'\\.00$', '').str.replace('[^0-9]', '')\n",
    "project_cost_fixed"
   ]
  },
  {
   "cell_type": "code",
   "execution_count": null,
   "metadata": {},
   "outputs": [],
   "source": [
    "esif.loc[project_cost_bad, 'project_cost'] = project_cost_fixed\n",
    "esif.project_cost = esif.project_cost.astype('float64')\n",
    "esif.project_cost.describe()"
   ]
  },
  {
   "cell_type": "markdown",
   "metadata": {},
   "source": [
    "### EU Investment\n",
    "\n",
    "Ditto."
   ]
  },
  {
   "cell_type": "code",
   "execution_count": null,
   "metadata": {},
   "outputs": [],
   "source": [
    "esif.eu_investment.isna().sum()"
   ]
  },
  {
   "cell_type": "code",
   "execution_count": null,
   "metadata": {},
   "outputs": [],
   "source": [
    "esif.eu_investment = esif.eu_investment.map(str).str.strip()\n",
    "eu_investment_bad = esif.eu_investment.str.match(re.compile(r'.*[^0-9.].*'))\n",
    "esif.eu_investment[eu_investment_bad]"
   ]
  },
  {
   "cell_type": "code",
   "execution_count": null,
   "metadata": {},
   "outputs": [],
   "source": [
    "eu_investment_fixed = esif.eu_investment[eu_investment_bad].\\\n",
    "    str.replace(r'\\.00$', '').str.replace('[^0-9]', '')\n",
    "eu_investment_fixed"
   ]
  },
  {
   "cell_type": "code",
   "execution_count": null,
   "metadata": {},
   "outputs": [],
   "source": [
    "esif.loc[eu_investment_bad, 'eu_investment'] = eu_investment_fixed\n",
    "esif.eu_investment = esif.eu_investment.astype('float64')\n",
    "esif.eu_investment.describe()"
   ]
  },
  {
   "cell_type": "markdown",
   "metadata": {},
   "source": [
    "### Overfunding\n",
    "\n",
    "This is generally pretty good, but there is one project that apparently is overfunded. It looks like it's the total cost that is wrong, based on http://www.worksbetter.co.uk/funding . So, increase the total cost."
   ]
  },
  {
   "cell_type": "code",
   "execution_count": null,
   "metadata": {},
   "outputs": [],
   "source": [
    "overfunded = esif.eu_investment > esif.project_cost\n",
    "esif[overfunded]"
   ]
  },
  {
   "cell_type": "code",
   "execution_count": null,
   "metadata": {},
   "outputs": [],
   "source": [
    "esif.loc[overfunded, 'project_cost'] = esif.eu_investment[overfunded] / esif.prop_eu_financed[overfunded]\n",
    "esif.loc[esif.eu_investment > esif.project_cost].shape"
   ]
  },
  {
   "cell_type": "markdown",
   "metadata": {},
   "source": [
    "### Prop EU Financed\n",
    "\n",
    "This provides a useful check. The [ESF guidance for 2014-2020](https://assets.publishing.service.gov.uk/government/uploads/system/uploads/attachment_data/file/710305/ESF_Guidance_for_2014_2020_v2.pdf) says that contributions over 50% are unlikely in the UK.\n",
    "\n",
    "#### North of Tyne Community Led Local delivery\n",
    "\n",
    "Looks like an extra 0 in the project cost. [\n",
    "North of Tyne Community Led Local Development](https://www.newcastle.gov.uk/business/business-support-and-advice/north-tyne-community-led-local-development):\n",
    "\n",
    "> The Strategy asks for £2.5m of European funds, split between £0.9m ERDF and £1.6m ESF. About 15% of the funds (+ the match-funding provided by the Accountable Body and partners) will be used to support project development, promotion, management and administration of the CLLD programme. In total, when combining European funds and match-funding, the programme amounts to nearly £4.7m.\n",
    "\n",
    "\n",
    "#### Solent Community Grants Programme\n",
    "\n",
    "It looks like they have about £2.5, but it may be split between several programmes. [Solent LEP - European Social Fund Calls for Proposals](https://solentlep.org.uk/what-we-do/news/european-social-fund-calls-for-proposals/):\n",
    "\n",
    "> £1,000,000 of ESF funding is available to develop and deliver a Solent Apprenticeship Hub. ...\n",
    "> £640,000 of ESF funding is being made available under the 'Solent Jobs Programme' ...\n",
    "> The Solent Community Grants Programme makes grants available to grass-roots and community-led organisations. A further £880,000 of ESF funding is being made available to continue activity which address exclusion, by engaging local people in improving their own lives and that of their local communities.\n",
    "\n",
    "#### AEGIS in Communities\n",
    "\n",
    "Can't find anything about this one. Going to reduce EU investment by half."
   ]
  },
  {
   "cell_type": "code",
   "execution_count": null,
   "metadata": {},
   "outputs": [],
   "source": [
    "esif.prop_eu_financed.isna().sum()"
   ]
  },
  {
   "cell_type": "code",
   "execution_count": null,
   "metadata": {},
   "outputs": [],
   "source": [
    "esif.prop_eu_financed.describe()"
   ]
  },
  {
   "cell_type": "code",
   "execution_count": null,
   "metadata": {},
   "outputs": [],
   "source": [
    "esif['actual_prop'] = esif.eu_investment / esif.project_cost\n",
    "esif.actual_prop.describe()"
   ]
  },
  {
   "cell_type": "code",
   "execution_count": null,
   "metadata": {},
   "outputs": [],
   "source": [
    "esif[(esif.actual_prop - esif.prop_eu_financed).abs() > 0.05]"
   ]
  },
  {
   "cell_type": "code",
   "execution_count": null,
   "metadata": {},
   "outputs": [],
   "source": [
    "esif.loc[(esif.index == 678) & (esif.project_cost == 32000000.0), 'project_cost'] = 32000000.0 / 10\n",
    "esif.loc[(esif.index == 774) & (esif.eu_investment == 5000000.0), 'eu_investment'] = 5000000.0 / 2\n",
    "esif.loc[(esif.index == 874) & (esif.eu_investment == 1900000.0), 'eu_investment'] = 1900000.0 / 2\n",
    "esif['actual_prop'] = esif.eu_investment / esif.project_cost"
   ]
  },
  {
   "cell_type": "code",
   "execution_count": null,
   "metadata": {},
   "outputs": [],
   "source": [
    "esif[(esif.actual_prop - esif.prop_eu_financed).abs() > 0.05]"
   ]
  },
  {
   "cell_type": "code",
   "execution_count": null,
   "metadata": {},
   "outputs": [],
   "source": [
    "esif.drop('actual_prop', axis=1, inplace=True)"
   ]
  },
  {
   "cell_type": "markdown",
   "metadata": {},
   "source": [
    "### Postcode\n",
    "\n",
    "- Only one missing; drop it.\n",
    "- Mostly good. A few retired. A few typos (e.g. NN11D should be NN1 1DF)."
   ]
  },
  {
   "cell_type": "code",
   "execution_count": null,
   "metadata": {},
   "outputs": [],
   "source": [
    "[esif.shape, esif.raw_postcode.isna().sum()]"
   ]
  },
  {
   "cell_type": "code",
   "execution_count": null,
   "metadata": {},
   "outputs": [],
   "source": [
    "esif[esif.raw_postcode.isna()]"
   ]
  },
  {
   "cell_type": "code",
   "execution_count": null,
   "metadata": {},
   "outputs": [],
   "source": [
    "esif = esif[~esif.raw_postcode.isna()].copy()"
   ]
  },
  {
   "cell_type": "code",
   "execution_count": null,
   "metadata": {},
   "outputs": [],
   "source": [
    "ukpostcodes = pd.read_csv('../postcodes/input/ukpostcodes.csv.gz')\n",
    "ukpostcodes.shape"
   ]
  },
  {
   "cell_type": "code",
   "execution_count": null,
   "metadata": {},
   "outputs": [],
   "source": [
    "esif.raw_postcode.isin(ukpostcodes.postcode).sum()"
   ]
  },
  {
   "cell_type": "code",
   "execution_count": null,
   "metadata": {},
   "outputs": [],
   "source": [
    "esif['postcode'] = esif.raw_postcode.\\\n",
    "    str.upper().\\\n",
    "    str.strip().\\\n",
    "    str.replace(r'[^A-Z0-9]', '').\\\n",
    "    str.replace(r'^(\\S+)([0-9][A-Z]{2})$', r'\\1 \\2')"
   ]
  },
  {
   "cell_type": "code",
   "execution_count": null,
   "metadata": {},
   "outputs": [],
   "source": [
    "esif.postcode.isin(ukpostcodes.postcode).sum()"
   ]
  },
  {
   "cell_type": "code",
   "execution_count": null,
   "metadata": {},
   "outputs": [],
   "source": [
    "esif.postcode[~esif.postcode.isin(ukpostcodes.postcode)].unique()"
   ]
  },
  {
   "cell_type": "code",
   "execution_count": null,
   "metadata": {},
   "outputs": [],
   "source": [
    "esif[~esif.postcode.isin(ukpostcodes.postcode)]"
   ]
  },
  {
   "cell_type": "code",
   "execution_count": null,
   "metadata": {},
   "outputs": [],
   "source": [
    "esif = esif[esif.postcode.isin(ukpostcodes.postcode)].copy()"
   ]
  },
  {
   "cell_type": "markdown",
   "metadata": {},
   "source": [
    "### Start and End Dates\n",
    "\n",
    "Generally good. Just one anomaly: The [Marches Growth Hub appears to have got started in October 2015](https://www.marchesgrowthhub.co.uk/assets/marchesgrowthhubreviewevaluationreport.pdf), but for now I will just drop it."
   ]
  },
  {
   "cell_type": "code",
   "execution_count": null,
   "metadata": {},
   "outputs": [],
   "source": [
    "[esif.start_date.isna().sum(), esif.start_date.dtype]"
   ]
  },
  {
   "cell_type": "code",
   "execution_count": null,
   "metadata": {},
   "outputs": [],
   "source": [
    "[esif.end_date.isna().sum(), esif.end_date.dtype]"
   ]
  },
  {
   "cell_type": "code",
   "execution_count": null,
   "metadata": {},
   "outputs": [],
   "source": [
    "esif[esif.start_date >= esif.end_date]"
   ]
  },
  {
   "cell_type": "code",
   "execution_count": null,
   "metadata": {},
   "outputs": [],
   "source": [
    "esif = esif[esif.start_date < esif.end_date].copy()\n",
    "esif.shape"
   ]
  },
  {
   "cell_type": "code",
   "execution_count": null,
   "metadata": {},
   "outputs": [],
   "source": [
    "esif.start_date.describe()"
   ]
  },
  {
   "cell_type": "code",
   "execution_count": null,
   "metadata": {},
   "outputs": [],
   "source": [
    "esif.end_date.describe()"
   ]
  },
  {
   "cell_type": "markdown",
   "metadata": {},
   "source": [
    "### Category\n",
    "\n",
    "Needs some cleaning up, but we could get most of these out by number from [this table](https://eur-lex.europa.eu/legal-content/EN/TXT/?uri=CELEX%3A32014R0215)."
   ]
  },
  {
   "cell_type": "code",
   "execution_count": null,
   "metadata": {},
   "outputs": [],
   "source": [
    "esif.category.isna().sum()"
   ]
  },
  {
   "cell_type": "code",
   "execution_count": null,
   "metadata": {},
   "outputs": [],
   "source": [
    "esif.category.unique()"
   ]
  },
  {
   "cell_type": "markdown",
   "metadata": {},
   "source": [
    "## Save Data"
   ]
  },
  {
   "cell_type": "code",
   "execution_count": null,
   "metadata": {},
   "outputs": [],
   "source": [
    "clean_esif = esif.drop([\n",
    "    'priority_axis', 'prop_eu_financed', 'raw_postcode', 'economic_zone', 'category'\n",
    "], axis=1)\n",
    "clean_esif.head()"
   ]
  },
  {
   "cell_type": "code",
   "execution_count": null,
   "metadata": {},
   "outputs": [],
   "source": [
    "clean_esif['my_eu_id'] = clean_esif.funds.str.lower() + '_england_' + clean_esif.index.map(str)\n",
    "clean_esif.my_eu_id.head()"
   ]
  },
  {
   "cell_type": "code",
   "execution_count": null,
   "metadata": {},
   "outputs": [],
   "source": [
    "clean_esif.to_pickle('output/esif_england_2014_2020.pkl.gz')"
   ]
  },
  {
   "cell_type": "markdown",
   "metadata": {},
   "source": [
    "## Save Map Data"
   ]
  },
  {
   "cell_type": "code",
   "execution_count": null,
   "metadata": {},
   "outputs": [],
   "source": [
    "clean_esif_locations = pd.merge(clean_esif, ukpostcodes, validate='m:1')\n",
    "clean_esif_locations.head()"
   ]
  },
  {
   "cell_type": "code",
   "execution_count": null,
   "metadata": {},
   "outputs": [],
   "source": [
    "def make_esif_data_geo_json(data):\n",
    "    def make_feature(row):\n",
    "        properties = {\n",
    "            property: row[property]\n",
    "            for property in ['beneficiary', 'project', 'project_cost', 'eu_investment']\n",
    "        }\n",
    "        return {\n",
    "            'type': 'Feature',\n",
    "            'geometry': {\n",
    "                \"type\": \"Point\",\n",
    "                \"coordinates\": [row['longitude'], row['latitude']]\n",
    "            },\n",
    "            'properties': properties\n",
    "        }\n",
    "    features = list(data.apply(make_feature, axis=1))\n",
    "    return { 'type': 'FeatureCollection', 'features': features }\n",
    "with open('output/beneficiaries.geo.json', 'w') as file:\n",
    "    json.dump(make_esif_data_geo_json(clean_esif_locations), file, sort_keys=True)"
   ]
  },
  {
   "cell_type": "code",
   "execution_count": null,
   "metadata": {},
   "outputs": [],
   "source": []
  }
 ],
 "metadata": {
  "kernelspec": {
   "display_name": "Python 3",
   "language": "python",
   "name": "python3"
  },
  "language_info": {
   "codemirror_mode": {
    "name": "ipython",
    "version": 3
   },
   "file_extension": ".py",
   "mimetype": "text/x-python",
   "name": "python",
   "nbconvert_exporter": "python",
   "pygments_lexer": "ipython3",
   "version": "3.6.5"
  }
 },
 "nbformat": 4,
 "nbformat_minor": 2
}
