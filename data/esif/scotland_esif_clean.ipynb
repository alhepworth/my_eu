{
 "cells": [
  {
   "cell_type": "markdown",
   "metadata": {},
   "source": [
    "# Scotland ESF and ERDF"
   ]
  },
  {
   "cell_type": "code",
   "execution_count": null,
   "metadata": {},
   "outputs": [],
   "source": [
    "import json\n",
    "import re\n",
    "\n",
    "import pandas as pd"
   ]
  },
  {
   "cell_type": "code",
   "execution_count": null,
   "metadata": {},
   "outputs": [],
   "source": [
    "raw_esif = pd.read_excel('input/ESF and ERDF operations funding - approved to May 2018.xlsx', skiprows=7)\n",
    "raw_esif.shape"
   ]
  },
  {
   "cell_type": "code",
   "execution_count": null,
   "metadata": {},
   "outputs": [],
   "source": [
    "# Drop extra columns, and space between rows\n",
    "raw_esif = raw_esif[~raw_esif['Programme '].isnull()]\n",
    "raw_esif = raw_esif[raw_esif['Operation Name'] !='Operation Name']\n",
    "raw_esif.shape"
   ]
  },
  {
   "cell_type": "code",
   "execution_count": null,
   "metadata": {},
   "outputs": [],
   "source": [
    "raw_esif.columns"
   ]
  },
  {
   "cell_type": "code",
   "execution_count": null,
   "metadata": {},
   "outputs": [],
   "source": [
    "#Add missing column names\n",
    "esif = raw_esif.rename(index=str, columns={\n",
    "    'Recipient organisation1': 'beneficiary',\n",
    "    'Operation Name': 'project',\n",
    "    'Description': 'summary',\n",
    "    'Start and end dates': 'start_and_end_dates',\n",
    "    'ESF/ ERDF Grant requested': 'eu_investment',\n",
    "    'Total eligible expenditure': 'project_cost',\n",
    "    'Union co-financing rate' : 'prop_eu_financed',\n",
    "    'Programme ': 'funds',\n",
    "    'Investment Priority': 'investment_priority',\n",
    "    'Postcode ': 'raw_postcode',\n",
    "    \"Categories of Intervention\": \"nuts_area\", \n",
    "    \"Unnamed: 11\": \"category\", \n",
    "    \"Unnamed: 12\": \"intervention_field_2\", \n",
    "    \"Unnamed: 13\": \"intervention_field_3\", \n",
    "    \"Unnamed: 14\": \"form_of_finance\", \n",
    "    \"Unnamed: 15\": \"territory_type\", \n",
    "    \"Unnamed: 16\": \"economic_activity\"})\n",
    "esif.head()"
   ]
  },
  {
   "cell_type": "code",
   "execution_count": null,
   "metadata": {},
   "outputs": [],
   "source": [
    "esif.dtypes"
   ]
  },
  {
   "cell_type": "markdown",
   "metadata": {},
   "source": [
    "### Benificiary"
   ]
  },
  {
   "cell_type": "code",
   "execution_count": null,
   "metadata": {},
   "outputs": [],
   "source": [
    "esif.beneficiary[esif.beneficiary.str.strip() != esif.beneficiary]"
   ]
  },
  {
   "cell_type": "code",
   "execution_count": null,
   "metadata": {},
   "outputs": [],
   "source": [
    "esif.beneficiary = esif.beneficiary.str.strip()"
   ]
  },
  {
   "cell_type": "code",
   "execution_count": null,
   "metadata": {},
   "outputs": [],
   "source": [
    "esif.project.unique().shape"
   ]
  },
  {
   "cell_type": "markdown",
   "metadata": {},
   "source": [
    "### Project\n",
    "\n",
    "In the absence of any IDs, do we have any duplicates? Sometimes the same project gets both ERDF and ESF funding. "
   ]
  },
  {
   "cell_type": "code",
   "execution_count": null,
   "metadata": {},
   "outputs": [],
   "source": [
    "esif.project[esif.project.str.strip() != esif.project] # lots\n",
    "esif.project = esif.project.str.strip()"
   ]
  },
  {
   "cell_type": "code",
   "execution_count": null,
   "metadata": {},
   "outputs": [],
   "source": [
    "esif.project.unique().shape"
   ]
  },
  {
   "cell_type": "code",
   "execution_count": null,
   "metadata": {},
   "outputs": [],
   "source": [
    "esif[esif.duplicated(['beneficiary', 'project', 'funds'], keep=False)].sort_values('project')"
   ]
  },
  {
   "cell_type": "markdown",
   "metadata": {},
   "source": [
    "Doesn't look like there are actually any duplicates"
   ]
  },
  {
   "cell_type": "markdown",
   "metadata": {},
   "source": [
    "### Summary\n"
   ]
  },
  {
   "cell_type": "code",
   "execution_count": null,
   "metadata": {},
   "outputs": [],
   "source": [
    "esif.summary.isna().sum()"
   ]
  },
  {
   "cell_type": "code",
   "execution_count": null,
   "metadata": {},
   "outputs": [],
   "source": [
    "(esif.summary != esif.summary.str.strip()).sum() # lots\n",
    "esif.summary = esif.summary.str.strip()"
   ]
  },
  {
   "cell_type": "markdown",
   "metadata": {},
   "source": [
    "### Funds"
   ]
  },
  {
   "cell_type": "code",
   "execution_count": null,
   "metadata": {},
   "outputs": [],
   "source": [
    "esif.funds.isna().sum()"
   ]
  },
  {
   "cell_type": "code",
   "execution_count": null,
   "metadata": {},
   "outputs": [],
   "source": [
    "esif.funds.unique()"
   ]
  },
  {
   "cell_type": "markdown",
   "metadata": {},
   "source": [
    "### Project Cost"
   ]
  },
  {
   "cell_type": "code",
   "execution_count": null,
   "metadata": {},
   "outputs": [],
   "source": [
    "esif.project_cost.isna().sum()"
   ]
  },
  {
   "cell_type": "code",
   "execution_count": null,
   "metadata": {},
   "outputs": [],
   "source": [
    "esif.project_cost = esif.project_cost.map(str).str.strip()\n",
    "project_cost_bad = esif.project_cost.str.match(re.compile(r'.*[^0-9.].*'))\n",
    "esif.project_cost[project_cost_bad]"
   ]
  },
  {
   "cell_type": "code",
   "execution_count": null,
   "metadata": {},
   "outputs": [],
   "source": [
    "esif.project_cost = esif.project_cost.astype('float')"
   ]
  },
  {
   "cell_type": "markdown",
   "metadata": {},
   "source": [
    "### EU Investment\n"
   ]
  },
  {
   "cell_type": "code",
   "execution_count": null,
   "metadata": {},
   "outputs": [],
   "source": [
    "esif.eu_investment.isna().sum()"
   ]
  },
  {
   "cell_type": "code",
   "execution_count": null,
   "metadata": {},
   "outputs": [],
   "source": [
    "esif.eu_investment = esif.eu_investment.map(str).str.strip()\n",
    "eu_investment_bad = esif.eu_investment.str.match(re.compile(r'.*[^0-9.].*'))\n",
    "esif.eu_investment[eu_investment_bad]"
   ]
  },
  {
   "cell_type": "code",
   "execution_count": null,
   "metadata": {},
   "outputs": [],
   "source": [
    "esif.eu_investment = esif.eu_investment.astype('float')"
   ]
  },
  {
   "cell_type": "markdown",
   "metadata": {},
   "source": [
    "### Overfunding\n"
   ]
  },
  {
   "cell_type": "code",
   "execution_count": null,
   "metadata": {},
   "outputs": [],
   "source": [
    "overfunded = (esif.eu_investment > esif.project_cost)\n",
    "esif[overfunded]"
   ]
  },
  {
   "cell_type": "markdown",
   "metadata": {},
   "source": [
    "### Prop EU Financed\n",
    "\n",
    "This provides a useful check. The [ESF guidance for 2014-2020](https://assets.publishing.service.gov.uk/government/uploads/system/uploads/attachment_data/file/710305/ESF_Guidance_for_2014_2020_v2.pdf) says that contributions over 50% are unlikely in the UK.\n",
    "\n",
    "Need to look at these and see what is going on"
   ]
  },
  {
   "cell_type": "code",
   "execution_count": null,
   "metadata": {},
   "outputs": [],
   "source": [
    "esif.prop_eu_financed.isna().sum()"
   ]
  },
  {
   "cell_type": "code",
   "execution_count": null,
   "metadata": {},
   "outputs": [],
   "source": [
    "esif.prop_eu_financed = esif.prop_eu_financed.astype('float')"
   ]
  },
  {
   "cell_type": "code",
   "execution_count": null,
   "metadata": {},
   "outputs": [],
   "source": [
    "esif.prop_eu_financed.describe()"
   ]
  },
  {
   "cell_type": "code",
   "execution_count": null,
   "metadata": {},
   "outputs": [],
   "source": [
    "esif['actual_prop'] = esif.eu_investment / esif.project_cost\n",
    "esif.actual_prop.describe()"
   ]
  },
  {
   "cell_type": "code",
   "execution_count": null,
   "metadata": {},
   "outputs": [],
   "source": [
    "esif[(esif.actual_prop - esif.prop_eu_financed).abs() > 0.05]"
   ]
  },
  {
   "cell_type": "markdown",
   "metadata": {},
   "source": [
    "### Postcode\n"
   ]
  },
  {
   "cell_type": "code",
   "execution_count": null,
   "metadata": {},
   "outputs": [],
   "source": [
    "[esif.shape, esif.raw_postcode.isna().sum()]"
   ]
  },
  {
   "cell_type": "code",
   "execution_count": null,
   "metadata": {},
   "outputs": [],
   "source": [
    "ukpostcodes = pd.read_csv('../postcodes/input/ukpostcodes.csv.gz')\n",
    "ukpostcodes.shape"
   ]
  },
  {
   "cell_type": "code",
   "execution_count": null,
   "metadata": {},
   "outputs": [],
   "source": [
    "esif.raw_postcode.isin(ukpostcodes.postcode).sum()"
   ]
  },
  {
   "cell_type": "code",
   "execution_count": null,
   "metadata": {},
   "outputs": [],
   "source": [
    "esif['postcode'] = esif.raw_postcode.\\\n",
    "    str.upper().\\\n",
    "    str.strip().\\\n",
    "    str.replace(r'[^A-Z0-9]', '').\\\n",
    "    str.replace(r'^(\\S+)([0-9][A-Z]{2})$', r'\\1 \\2')"
   ]
  },
  {
   "cell_type": "code",
   "execution_count": null,
   "metadata": {},
   "outputs": [],
   "source": [
    "esif.postcode.isin(ukpostcodes.postcode).sum()"
   ]
  },
  {
   "cell_type": "code",
   "execution_count": null,
   "metadata": {},
   "outputs": [],
   "source": [
    "esif.postcode[~esif.postcode.isin(ukpostcodes.postcode)].unique()"
   ]
  },
  {
   "cell_type": "code",
   "execution_count": null,
   "metadata": {},
   "outputs": [],
   "source": [
    "esif[~esif.postcode.isin(ukpostcodes.postcode)]"
   ]
  },
  {
   "cell_type": "code",
   "execution_count": null,
   "metadata": {},
   "outputs": [],
   "source": [
    "esif = esif[esif.postcode.isin(ukpostcodes.postcode)].copy()"
   ]
  },
  {
   "cell_type": "markdown",
   "metadata": {},
   "source": [
    "### Start and End Dates"
   ]
  },
  {
   "cell_type": "code",
   "execution_count": null,
   "metadata": {},
   "outputs": [],
   "source": [
    "date_rx = r'[0-9]{2}/[0-9]{1,2}/[0-9]{4}'\n",
    "date_range_rx = re.compile(r'({})\\s*[–-]\\s*({})'.format(date_rx, date_rx))\n",
    "esif.start_and_end_dates[~esif.start_and_end_dates.str.match(date_range_rx)]"
   ]
  },
  {
   "cell_type": "code",
   "execution_count": null,
   "metadata": {},
   "outputs": [],
   "source": [
    "# Not sure how those 3s got there, but it looks safe to remove them.\n",
    "date_range_rx = re.compile(r'({})\\s*[–-]\\s*3?({})'.format(date_rx, date_rx))\n",
    "esif.start_and_end_dates[~esif.start_and_end_dates.str.match(date_range_rx)]"
   ]
  },
  {
   "cell_type": "code",
   "execution_count": null,
   "metadata": {},
   "outputs": [],
   "source": [
    "esif['start_date'] = pd.to_datetime(\n",
    "    esif.start_and_end_dates.str.replace(date_range_rx, r'\\1'),\n",
    "    dayfirst=True)\n",
    "esif['end_date'] = pd.to_datetime(\n",
    "    esif.start_and_end_dates.str.replace(date_range_rx, r'\\2'),\n",
    "    dayfirst=True)"
   ]
  },
  {
   "cell_type": "code",
   "execution_count": null,
   "metadata": {},
   "outputs": [],
   "source": [
    "esif[['start_date', 'end_date']].describe()"
   ]
  },
  {
   "cell_type": "code",
   "execution_count": null,
   "metadata": {},
   "outputs": [],
   "source": [
    "(esif.start_date > esif.end_date).sum()"
   ]
  },
  {
   "cell_type": "markdown",
   "metadata": {},
   "source": [
    "### Category\n"
   ]
  },
  {
   "cell_type": "code",
   "execution_count": null,
   "metadata": {},
   "outputs": [],
   "source": [
    "esif.category.isna().sum()"
   ]
  },
  {
   "cell_type": "code",
   "execution_count": null,
   "metadata": {},
   "outputs": [],
   "source": [
    "esif.category.unique()"
   ]
  },
  {
   "cell_type": "markdown",
   "metadata": {},
   "source": [
    "## Save Data"
   ]
  },
  {
   "cell_type": "code",
   "execution_count": null,
   "metadata": {},
   "outputs": [],
   "source": [
    "esif.columns"
   ]
  },
  {
   "cell_type": "code",
   "execution_count": null,
   "metadata": {},
   "outputs": [],
   "source": [
    "clean_esif = esif.drop([\n",
    "    'start_and_end_dates', 'prop_eu_financed', 'raw_postcode', 'category',\n",
    "    'investment_priority', 'nuts_area', 'intervention_field_2', 'intervention_field_3',\n",
    "    'form_of_finance', 'territory_type', 'economic_activity', 'actual_prop'\n",
    "], axis=1)\n",
    "clean_esif.head()"
   ]
  },
  {
   "cell_type": "code",
   "execution_count": null,
   "metadata": {},
   "outputs": [],
   "source": [
    "clean_esif['my_eu_id'] = clean_esif.funds.str.lower() + '_scotland_' + clean_esif.index.map(str)\n",
    "clean_esif.my_eu_id.head()"
   ]
  },
  {
   "cell_type": "code",
   "execution_count": null,
   "metadata": {},
   "outputs": [],
   "source": [
    "clean_esif.to_pickle('output/esif_scotland.pkl.gz')"
   ]
  },
  {
   "cell_type": "markdown",
   "metadata": {},
   "source": [
    "## Save Map Data"
   ]
  },
  {
   "cell_type": "code",
   "execution_count": null,
   "metadata": {},
   "outputs": [],
   "source": [
    "clean_esif_locations = pd.merge(clean_esif, ukpostcodes, validate='m:1')\n",
    "clean_esif_locations.head()"
   ]
  },
  {
   "cell_type": "code",
   "execution_count": null,
   "metadata": {},
   "outputs": [],
   "source": [
    "def make_esif_data_geo_json(data):\n",
    "    def make_feature(row):\n",
    "        properties = {\n",
    "            property: row[property]\n",
    "            for property in ['beneficiary', 'project', 'project_cost', 'eu_investment']\n",
    "        }\n",
    "        return {\n",
    "            'type': 'Feature',\n",
    "            'geometry': {\n",
    "                \"type\": \"Point\",\n",
    "                \"coordinates\": [row['longitude'], row['latitude']]\n",
    "            },\n",
    "            'properties': properties\n",
    "        }\n",
    "    features = list(data.apply(make_feature, axis=1))\n",
    "    return { 'type': 'FeatureCollection', 'features': features }\n",
    "with open('output/scotland_data.geo.json', 'w') as file:\n",
    "    json.dump(make_esif_data_geo_json(clean_esif_locations), file, sort_keys=True)"
   ]
  },
  {
   "cell_type": "code",
   "execution_count": null,
   "metadata": {},
   "outputs": [],
   "source": []
  }
 ],
 "metadata": {
  "kernelspec": {
   "display_name": "Python 3",
   "language": "python",
   "name": "python3"
  },
  "language_info": {
   "codemirror_mode": {
    "name": "ipython",
    "version": 3
   },
   "file_extension": ".py",
   "mimetype": "text/x-python",
   "name": "python",
   "nbconvert_exporter": "python",
   "pygments_lexer": "ipython3",
   "version": "3.6.5"
  }
 },
 "nbformat": 4,
 "nbformat_minor": 2
}
