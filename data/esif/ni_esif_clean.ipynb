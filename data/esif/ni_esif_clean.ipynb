{
 "cells": [
  {
   "cell_type": "code",
   "execution_count": null,
   "metadata": {},
   "outputs": [],
   "source": [
    "import json\n",
    "import re\n",
    "\n",
    "import pandas as pd"
   ]
  },
  {
   "cell_type": "code",
   "execution_count": null,
   "metadata": {},
   "outputs": [],
   "source": [
    "raw_esif = pd.read_excel('input/ESF-Call-1-Successful-applications-by-Constituency-and-Council.XLS', skiprows=3)\n",
    "raw_esif.shape"
   ]
  },
  {
   "cell_type": "code",
   "execution_count": null,
   "metadata": {},
   "outputs": [],
   "source": [
    "raw_esif.columns"
   ]
  },
  {
   "cell_type": "code",
   "execution_count": null,
   "metadata": {},
   "outputs": [],
   "source": [
    "# Just look at the columns we're interested in, rename them and remove null rows. Also clean Org name\n",
    "ni_funding_call1_2014 = raw_esif[[\n",
    "    'ORGANISATION NAME', 'PROJECT TITLE', 'TOTAL ELIGIBLE PROJECT COST\\n',\n",
    "    'ESF SOUGHT\\n', 'PRIORITY / THEMATIC OBJECTIVE'\n",
    "]]\n",
    "ni_funding_call1_2014 = ni_funding_call1_2014.rename(\n",
    "    index=str, columns={\n",
    "        'TOTAL ELIGIBLE PROJECT COST\\n': 'project_cost', \n",
    "        'ESF SOUGHT\\n': 'eu_investment', \n",
    "        'ORGANISATION NAME': 'beneficiary',\n",
    "        'PRIORITY / THEMATIC OBJECTIVE': 'investment_priority', \n",
    "        'PROJECT TITLE': 'project'\n",
    "    })\n",
    "ni_funding_call1_2014 = ni_funding_call1_2014[~ni_funding_call1_2014['beneficiary'].isnull()]\n",
    "ni_funding_call1_2014['beneficiary'] = ni_funding_call1_2014['beneficiary'].\\\n",
    "    str.replace(\"THE\", \"\").str.replace(\"LIMITED\", \"\").str.replace(\"PLC\", \"\").\\\n",
    "    str.replace(\"LLC\", \"\").str.replace(\"LBG\", \"\").str.replace(\"LTD\", \"\").\\\n",
    "    str.strip().str.upper()\n",
    "ni_funding_call1_2014.head()"
   ]
  },
  {
   "cell_type": "code",
   "execution_count": null,
   "metadata": {},
   "outputs": [],
   "source": [
    "ni_funding_call2_2014 = pd.read_excel('input/ESF-Call-2-successful-applications-by-constituency-and-council-area.xls', skiprows=2)\n",
    "ni_funding_call2_2014.head()"
   ]
  },
  {
   "cell_type": "code",
   "execution_count": null,
   "metadata": {},
   "outputs": [],
   "source": [
    "ni_funding_call2_2014.columns"
   ]
  },
  {
   "cell_type": "code",
   "execution_count": null,
   "metadata": {},
   "outputs": [],
   "source": [
    "# Just look at the columns we're interested in and rename them. Also clean Org name\n",
    "ni_funding_call2_2014 = ni_funding_call2_2014[[\n",
    "    'Organisation Name', 'Project Title', 'Investment Priority',\n",
    "    'Total Eligible Project Cost', 'Programme Contribution (EU and DfE) - 65%'\n",
    "]]\n",
    "ni_funding_call2_2014 = ni_funding_call2_2014.rename(\n",
    "    index=str, columns={\n",
    "        'Programme Contribution (EU and DfE) - 65%': 'eu_investment',\n",
    "        'Organisation Name': 'beneficiary',\n",
    "        'Project Title': 'project',\n",
    "        'Investment Priority': 'investment_priority',\n",
    "        'Total Eligible Project Cost': 'project_cost'\n",
    "    })\n",
    "ni_funding_call2_2014['beneficiary'] = ni_funding_call2_2014['beneficiary'].\\\n",
    "    str.replace(\"THE\", \"\").str.replace(\"LIMITED\", \"\").str.replace(\"PLC\", \"\").\\\n",
    "    str.replace(\"LLC\", \"\").str.replace(\"LBG\", \"\").str.replace(\"LTD\", \"\").\\\n",
    "    str.strip().str.upper()\n",
    "ni_funding_call2_2014.head()"
   ]
  },
  {
   "cell_type": "code",
   "execution_count": null,
   "metadata": {},
   "outputs": [],
   "source": [
    "# Concatenate the data for call 1 and call 2 \n",
    "ni_funding_2014 = pd.concat([ni_funding_call2_2014, ni_funding_call1_2014], sort=True)\n",
    "ni_funding_2014.sort_values(axis=0, by='beneficiary').head()"
   ]
  },
  {
   "cell_type": "code",
   "execution_count": null,
   "metadata": {},
   "outputs": [],
   "source": [
    "# Manually find locations for all NI organisations\n",
    "ni_locations_lookup = pd.DataFrame([\n",
    "    ('ACCEPTABLE ENTERPRISES', 'BT403AW'),\n",
    "    ('ACCEPTABLE ENTERPRISES LTD', 'BT403AW'),       \n",
    "    ('ACCESS CENTRE LTD', 'BT152GG'),\n",
    "    ('ACCESS CENTRE NI', 'BT152GG'),\n",
    "    ('ACTION DEAF YOUTH', 'BT42LS'),\n",
    "    ('ACTION MENTAL HEALTH', 'BT234YH'),\n",
    "    ('ACTION ON HEARING LOSS', 'BT28GA'),\n",
    "    ('ACTION ON HEARING LOSS (FORMERLY RNID)', 'BT28GA'),\n",
    "    ('ACTIVE COMMUNITIES NETWORK LIMITED', 'BT132JF'),\n",
    "    ('APPLEBY CAREERS PROJECT LTD', 'BT617AE'),\n",
    "    ('ASHTON COMMUNITY TRUST', 'BT152BP'),\n",
    "    ('ASSOCIATION FOR REAL CHANGE NI', 'BT126TA'),\n",
    "    ('BARNARDOS', 'BT43HE'),\n",
    "    (\"BARNARDO’S\", 'BT43HE'),\n",
    "    ('BRYSON CHARITABLE GROUP', 'BT27FE'),\n",
    "    ('BELFAST METROPOLITAN COLLEGE', 'BT1 1HS'),\n",
    "    ('CLANRYE GROUP', 'BT358SW'),\n",
    "    ('CLANRYE GROUP LIMITED', 'BT358SW'),\n",
    "    ('COMPASS ADVOCACY NETWORK', 'BT536JR'),\n",
    "    ('COMPASS ADVOCACY NETWORK (CAN)', 'BT536JR'),                           \n",
    "    ('CUSTOMISED TRAINING SERVICES', 'BT828AS'), \n",
    "    ('CUSTOMIZED TRAINING SERVICES', 'BT828AS'),\n",
    "    ('CUSTOMIZED TRAINING SERVICES LTD', 'BT828AS'),\n",
    "    ('DERRY & STRABANE DISTRICT COUNCIL', 'BT487NN'),                           \n",
    "    ('DERRY YOUTH & COMMUNITY WORKSHOP LIMITED', 'BT486PJ'),                           \n",
    "    ('DERRY YOUTH AND COMMUNITY WORKSHOP LTD', 'BT486PJ'),\n",
    "    ('DFPF LTD T/A PEOPLE 1ST', 'BT96SP'),                           \n",
    "    ('DISABILITY ACTION', 'BT39ED'),                           \n",
    "    ('ENTERPRISE NORTHERN IRELAND', 'BT490HE'),                           \n",
    "    ('ENTERPRISE NORTHERN IRELAND LTD', 'BT490HE'),                           \n",
    "    ('EXTERN GROUP', 'BT364PE'),                           \n",
    "    ('EXTERN N.I.', 'BT364PE'),                            \n",
    "    ('EXTERN NORTHERN IRELAND', 'BT364PE'),                            \n",
    "    ('FERMANAGH & OMAGH DISTRICT COUNCIL (FODC)', 'BT797BL'),                            \n",
    "    ('FERMANAGH AND OMAGH DISTRICT COUNCIL', 'BT797BL'), \n",
    "    ('FIRST STEPS WOMEN CENTRE (FSWC)', 'BT701DX'),                            \n",
    "    ('FIRST STEPS WOMEN\\'S CENTRE', 'BT701DX'),                            \n",
    "    ('GEMS NORTHERN IRELAND LTD', 'BT27DB'), \n",
    "    ('GEMS NI LTD', 'BT27DB'),\n",
    "    ('GREENLIGHT GATEWAY', 'BT546EZ'),                            \n",
    "    ('INCLUDE YOUTH', 'BT11QA'),                            \n",
    "    ('JOB DIRECTIONS LTD', 'BT828AR'),                            \n",
    "    ('KILCOOLEY WOMENS CENTRE', 'BT191QS'),\n",
    "    ('LIMAVADY COMMUNITY DEVELOPMENT INITIATIVE (LCDI)', 'BT490AQ'),                           \n",
    "    ('MENCAP', 'BT86BT'),                          \n",
    "    ('NETWORK PERSONNEL', 'BT455AJ'),                           \n",
    "    ('NETWORK PERSONNEL (NP)', 'BT455AJ'),                           \n",
    "    ('NETWORK PERSONNEL LTD', 'BT455AJ'),                           \n",
    "    ('NETWORK PERSONNEL LTD.', 'BT455AJ'),                           \n",
    "    ('NIACRO', 'BT27GS'),                                       \n",
    "    ('NOW GROUP', 'BT124GN'),\n",
    "    ('NOW PROJECT LTD T/A NOW GROUP', 'BT124GN'), \n",
    "    ('ORCHARDVILLE SOCIETY LTD', 'BT6 8ED'),\n",
    "    ('PEOPLEPLUS (WORKS) NI LIMITED', 'BT490LP'), \n",
    "    ('Poleglass Community Association @ Sally Gardens (PCA)', 'BT170UJ'),\n",
    "    ('POLEGLASS COMMUNITY ASSOCIATION @ SALLY GARDENS (PCA)', 'BT170UJ'),\n",
    "    ('RAPID', 'BT96EU'),                            \n",
    "    ('RAPID LTD', 'BT96EU'),                             \n",
    "    ('RCD/4RS', 'BT480LU'),                             \n",
    "    ('RCD/4RS REUSE WORKSHOP', 'BT480LU'), \n",
    "    ('REED IN PARTNERSHIP', 'BT323HA'),                             \n",
    "    ('RNIB', 'BT14LS'),                             \n",
    "    ('RNIB NORTHERN IRELAND', 'BT14LS'),                             \n",
    "    ('ROE VALLEY COMMUNITY EDUCATION FORUM LTD', 'BT499BG'),                             \n",
    "    ('SHANKILL WOMEN\\'S CENTRE', 'BT131FD'),                             \n",
    "    ('SOMETHING SPECIAL', 'BT41NT'),   \n",
    "    ('SOUTH WEST COLLEGE', 'BT808DN'),                               \n",
    "    ('SOUTH WEST COLLEGE (SWC)', 'BT808DN'),                               \n",
    "    ('SOUTHERN REGIONAL COLLEGE', 'BT617HF'),                               \n",
    "    ('SPECIALISTERNE NI C.I.C', 'BT41AF'),                               \n",
    "    ('SPRINGBOARD OPPORTUNITIES LIMITED', 'BT12GX'),                               \n",
    "    ('SPRINGBOARD OPPORTUNITIES LTD', 'BT12GX'),                               \n",
    "    ('START360', 'BT11PR'),                               \n",
    "    ('STEPPING STONES NI', 'BT274AA'),                               \n",
    "    ('THE ADVANTAGE FOUNDATION LTD', 'BT388GX'),                               \n",
    "    ('THE APPLEBY TRUST', 'BT617AE'),   \n",
    "    ('THE CEDAR FOUNDATION', 'BT97AS'),                              \n",
    "    ('THE CONSERVATION VOLUNTEERS', 'BT60BP'),                              \n",
    "    ('THE CONSERVATION VOLUNTEERS (TCV)', 'BT60BP'),                              \n",
    "    ('THE ORCHARDVILLE SOCIETY', 'BT68ED'),                              \n",
    "    ('THE PRINCES TRUST', 'BT125GH'),  \n",
    "    (\"THE PRINCE’S TRUST\", 'BT125GH'),\n",
    "    ('THE WOMEN\\'S CENTRE DERRY', 'BT486BB'),                              \n",
    "    ('TRAINING FOR WOMEN NETWORK LTD', 'BT41NY'),         \n",
    "    ('TRIANGLE HOUSING ASSOCIATION LTD', 'BT536BD'),                              \n",
    "    ('TRIAX', 'BT489LH'),                              \n",
    "    ('TYRONE DONEGAL PARTNERSHIP', 'BT785LU'),                              \n",
    "    ('ULSTER SUPPORTED EMPLOYMENT LIMITED', 'BT133JH'),                              \n",
    "    ('UPPER SPRINGFIELD DEVELOPMENT TRUST', 'BT127FP'),                              \n",
    "    ('UPPER SPRINGFIELD DEVELOPMENT TRUST (USDT)', 'BT127FP'),                              \n",
    "    ('USEL', 'BT133JH'),                              \n",
    "    ('WADE TRAINING LTD', 'BT621BA'),                              \n",
    "    ('WOMEN IN BUSINESS NI', 'BT27AQ'),                              \n",
    "    ('WOMEN\\'S TEC', 'BT155EH'),                              \n",
    "    ('WOMEN’S CENTRE DERRY', 'BT486BB'),                              \n",
    "    ('WORKFORCE TRAINING SERVICES', 'BT127AJ'),                              \n",
    "    ('YOUTH ACTION NORTHERN IRELAND', 'BT16AS'),                              \n",
    "    ('YOUTHACTION NORTHERN IRELAND LTD', 'BT16AS')],    \n",
    "columns=['beneficiary', 'raw_postcode'])\n",
    "ni_locations_lookup.head()"
   ]
  },
  {
   "cell_type": "markdown",
   "metadata": {},
   "source": [
    "CUSTOMISED TRAINING SERVICES has more locations. So do DISABILITY ACTION, FERMANAGH AND OMAGH DISTRICT COUNCIL, INCLUDE YOUTH, MENCAP, PEOPLEPLUS (WORKS) NI LIMITED\tTHE CONSERVATION VOLUNTEERS\t"
   ]
  },
  {
   "cell_type": "code",
   "execution_count": null,
   "metadata": {},
   "outputs": [],
   "source": [
    "esif = pd.merge(ni_funding_2014, ni_locations_lookup, how='left', on='beneficiary')\n",
    "esif.shape"
   ]
  },
  {
   "cell_type": "markdown",
   "metadata": {},
   "source": [
    "### Beneficiary"
   ]
  },
  {
   "cell_type": "code",
   "execution_count": null,
   "metadata": {},
   "outputs": [],
   "source": [
    "esif.beneficiary[esif.beneficiary.str.strip() != esif.beneficiary]"
   ]
  },
  {
   "cell_type": "markdown",
   "metadata": {},
   "source": [
    "### Project\n",
    "\n",
    "In the absence of any IDs, do we have any duplicates? \n",
    "\n",
    "All of the duplicates we have look like different amounts for different years"
   ]
  },
  {
   "cell_type": "code",
   "execution_count": null,
   "metadata": {},
   "outputs": [],
   "source": [
    "esif.project[esif.project.str.contains('\\n')]"
   ]
  },
  {
   "cell_type": "code",
   "execution_count": null,
   "metadata": {},
   "outputs": [],
   "source": [
    "esif.project[esif.project.str.strip() != esif.project] # lots\n",
    "esif.project = esif.project.str.strip()"
   ]
  },
  {
   "cell_type": "code",
   "execution_count": null,
   "metadata": {},
   "outputs": [],
   "source": [
    "esif.project.unique().shape"
   ]
  },
  {
   "cell_type": "code",
   "execution_count": null,
   "metadata": {},
   "outputs": [],
   "source": [
    "esif[esif.duplicated(['beneficiary', 'project'], keep=False)].sort_values('project')"
   ]
  },
  {
   "cell_type": "markdown",
   "metadata": {},
   "source": [
    "### Project Cost\n"
   ]
  },
  {
   "cell_type": "code",
   "execution_count": null,
   "metadata": {},
   "outputs": [],
   "source": [
    "esif.project_cost.isna().sum()"
   ]
  },
  {
   "cell_type": "code",
   "execution_count": null,
   "metadata": {},
   "outputs": [],
   "source": [
    "esif.project_cost = esif.project_cost.map(str).str.strip()\n",
    "project_cost_bad = esif.project_cost.str.match(re.compile(r'.*[^0-9.].*'))\n",
    "esif.project_cost[project_cost_bad]"
   ]
  },
  {
   "cell_type": "code",
   "execution_count": null,
   "metadata": {},
   "outputs": [],
   "source": [
    "esif.project_cost = esif.project_cost.astype('float')"
   ]
  },
  {
   "cell_type": "markdown",
   "metadata": {},
   "source": [
    "### EU Investment\n"
   ]
  },
  {
   "cell_type": "code",
   "execution_count": null,
   "metadata": {},
   "outputs": [],
   "source": [
    "esif.eu_investment.isna().sum()"
   ]
  },
  {
   "cell_type": "code",
   "execution_count": null,
   "metadata": {},
   "outputs": [],
   "source": [
    "esif.eu_investment = esif.eu_investment.map(str).str.strip()\n",
    "eu_investment_bad = esif.eu_investment.str.match(re.compile(r'.*[^0-9.].*'))\n",
    "esif.eu_investment[eu_investment_bad]"
   ]
  },
  {
   "cell_type": "code",
   "execution_count": null,
   "metadata": {},
   "outputs": [],
   "source": [
    "esif.eu_investment = esif.eu_investment.astype('float')"
   ]
  },
  {
   "cell_type": "markdown",
   "metadata": {},
   "source": [
    "### Overfunding\n"
   ]
  },
  {
   "cell_type": "code",
   "execution_count": null,
   "metadata": {},
   "outputs": [],
   "source": [
    "overfunded = esif.eu_investment > esif.project_cost\n",
    "esif[overfunded]"
   ]
  },
  {
   "cell_type": "markdown",
   "metadata": {},
   "source": [
    "### Prop EU Financed\n"
   ]
  },
  {
   "cell_type": "code",
   "execution_count": null,
   "metadata": {},
   "outputs": [],
   "source": [
    "esif['actual_prop'] = esif.eu_investment / esif.project_cost\n",
    "esif.actual_prop.describe()"
   ]
  },
  {
   "cell_type": "markdown",
   "metadata": {},
   "source": [
    "### Postcode\n"
   ]
  },
  {
   "cell_type": "code",
   "execution_count": null,
   "metadata": {},
   "outputs": [],
   "source": [
    "[esif.shape, esif.raw_postcode.isna().sum()]"
   ]
  },
  {
   "cell_type": "code",
   "execution_count": null,
   "metadata": {},
   "outputs": [],
   "source": [
    "ukpostcodes = pd.read_csv('../postcodes/input/ukpostcodes.csv.gz')\n",
    "ukpostcodes.shape"
   ]
  },
  {
   "cell_type": "code",
   "execution_count": null,
   "metadata": {},
   "outputs": [],
   "source": [
    "esif.raw_postcode.isin(ukpostcodes.postcode).sum()"
   ]
  },
  {
   "cell_type": "code",
   "execution_count": null,
   "metadata": {},
   "outputs": [],
   "source": [
    "esif['postcode'] = esif.raw_postcode.\\\n",
    "    str.upper().\\\n",
    "    str.strip().\\\n",
    "    str.replace(r'[^A-Z0-9]', '').\\\n",
    "    str.replace(r'^(\\S+)([0-9][A-Z]{2})$', r'\\1 \\2')"
   ]
  },
  {
   "cell_type": "code",
   "execution_count": null,
   "metadata": {},
   "outputs": [],
   "source": [
    "esif.postcode.isin(ukpostcodes.postcode).sum()"
   ]
  },
  {
   "cell_type": "code",
   "execution_count": null,
   "metadata": {},
   "outputs": [],
   "source": [
    "esif.postcode[~esif.postcode.isin(ukpostcodes.postcode)].unique()"
   ]
  },
  {
   "cell_type": "markdown",
   "metadata": {},
   "source": [
    "## Save Data"
   ]
  },
  {
   "cell_type": "code",
   "execution_count": null,
   "metadata": {},
   "outputs": [],
   "source": [
    "esif.columns"
   ]
  },
  {
   "cell_type": "code",
   "execution_count": null,
   "metadata": {},
   "outputs": [],
   "source": [
    "clean_esif = esif.drop([\n",
    "    'investment_priority', 'actual_prop', 'raw_postcode'\n",
    "], axis=1)\n",
    "clean_esif['funds'] = 'ESF'\n",
    "clean_esif['start_date'] = pd.to_datetime('2014-01-01')\n",
    "clean_esif['end_date'] = pd.to_datetime('2021-01-01')\n",
    "clean_esif['summary'] = None\n",
    "clean_esif.head()"
   ]
  },
  {
   "cell_type": "code",
   "execution_count": null,
   "metadata": {},
   "outputs": [],
   "source": [
    "clean_esif['my_eu_id'] = clean_esif.funds.str.lower() + '_ni_' + clean_esif.index.map(str)\n",
    "clean_esif.my_eu_id.head()"
   ]
  },
  {
   "cell_type": "code",
   "execution_count": null,
   "metadata": {},
   "outputs": [],
   "source": [
    "clean_esif.to_pickle('output/esif_ni_2014_2020.pkl.gz')"
   ]
  },
  {
   "cell_type": "markdown",
   "metadata": {},
   "source": [
    "## Save Map Data"
   ]
  },
  {
   "cell_type": "code",
   "execution_count": null,
   "metadata": {},
   "outputs": [],
   "source": [
    "clean_esif_locations = pd.merge(clean_esif, ukpostcodes, validate='m:1')\n",
    "clean_esif_locations.head()"
   ]
  },
  {
   "cell_type": "code",
   "execution_count": null,
   "metadata": {},
   "outputs": [],
   "source": [
    "def make_esif_data_geo_json(data):\n",
    "    def make_feature(row):\n",
    "        properties = {\n",
    "            property: row[property]\n",
    "            for property in ['beneficiary', 'project', 'project_cost', 'eu_investment']\n",
    "        }\n",
    "        return {\n",
    "            'type': 'Feature',\n",
    "            'geometry': {\n",
    "                \"type\": \"Point\",\n",
    "                \"coordinates\": [row['longitude'], row['latitude']]\n",
    "            },\n",
    "            'properties': properties\n",
    "        }\n",
    "    features = list(data.apply(make_feature, axis=1))\n",
    "    return { 'type': 'FeatureCollection', 'features': features }\n",
    "with open('output/ni_data.geo.json', 'w') as file:\n",
    "    json.dump(make_esif_data_geo_json(clean_esif_locations), file, sort_keys=True)"
   ]
  },
  {
   "cell_type": "code",
   "execution_count": null,
   "metadata": {},
   "outputs": [],
   "source": []
  },
  {
   "cell_type": "code",
   "execution_count": null,
   "metadata": {},
   "outputs": [],
   "source": []
  }
 ],
 "metadata": {
  "kernelspec": {
   "display_name": "Python 3",
   "language": "python",
   "name": "python3"
  },
  "language_info": {
   "codemirror_mode": {
    "name": "ipython",
    "version": 3
   },
   "file_extension": ".py",
   "mimetype": "text/x-python",
   "name": "python",
   "nbconvert_exporter": "python",
   "pygments_lexer": "ipython3",
   "version": "3.6.5"
  }
 },
 "nbformat": 4,
 "nbformat_minor": 2
}
