{
 "cells": [
  {
   "cell_type": "markdown",
   "metadata": {},
   "source": [
    "# Common Agricultural Policy (CAP) Data 2014\n"
   ]
  },
  {
   "cell_type": "code",
   "execution_count": null,
   "metadata": {},
   "outputs": [],
   "source": [
    "%matplotlib inline\n",
    "\n",
    "from collections import OrderedDict\n",
    "import json\n",
    "import os\n",
    "\n",
    "import pandas as pd"
   ]
  },
  {
   "cell_type": "code",
   "execution_count": null,
   "metadata": {},
   "outputs": [],
   "source": [
    "DAERA = pd.read_excel('input/2014_All_CAP_Search_Results_Data_P14_1.xls', sheet_name=0)\n",
    "SGRPID = pd.read_excel('input/2014_All_CAP_Search_Results_Data_P14_1.xls', sheet_name=1)\n",
    "WG = pd.read_excel('input/2014_All_CAP_Search_Results_Data_P14_1.xls', sheet_name=2)\n",
    "RPA = pd.read_excel('input/2014_All_CAP_Search_Results_Data_P14_1.xls', sheet_name=3)\n",
    "RPA2 = pd.read_excel('input/2014_All_CAP_Search_Results_Data_P14_1.xls', sheet_name=4)"
   ]
  },
  {
   "cell_type": "code",
   "execution_count": null,
   "metadata": {},
   "outputs": [],
   "source": [
    "RPA2.head()"
   ]
  },
  {
   "cell_type": "code",
   "execution_count": null,
   "metadata": {},
   "outputs": [],
   "source": [
    "[RPA2.PayingAgencyLink.isna().sum(), RPA2.PayingAgencyLink.value_counts()]"
   ]
  },
  {
   "cell_type": "markdown",
   "metadata": {},
   "source": [
    "It looks like we don't have quite the same set of columns, but it's just one junk column at the end:"
   ]
  },
  {
   "cell_type": "code",
   "execution_count": null,
   "metadata": {},
   "outputs": [],
   "source": [
    "all_columns = set([\n",
    "    column\n",
    "    for df in [DAERA, SGRPID, WG, RPA, RPA2]\n",
    "    for column in df.columns\n",
    "])\n",
    "[\n",
    "    all_columns - set(DAERA.columns),\n",
    "    all_columns - set(SGRPID.columns),\n",
    "    all_columns - set(WG.columns),\n",
    "    all_columns - set(RPA.columns),\n",
    "    all_columns - set(RPA2.columns),\n",
    "]"
   ]
  },
  {
   "cell_type": "code",
   "execution_count": null,
   "metadata": {},
   "outputs": [],
   "source": [
    "[WG.Column1.unique(), RPA.Column1.unique(), RPA2.Column1.unique()]"
   ]
  },
  {
   "cell_type": "code",
   "execution_count": null,
   "metadata": {},
   "outputs": [],
   "source": [
    "WG.drop('Column1', axis=1, inplace=True)\n",
    "RPA.drop('Column1', axis=1, inplace=True)\n",
    "RPA2.drop('Column1', axis=1, inplace=True)"
   ]
  },
  {
   "cell_type": "code",
   "execution_count": null,
   "metadata": {},
   "outputs": [],
   "source": [
    "raw_cap = pd.concat([DAERA, SGRPID, WG, RPA, RPA2])\n",
    "raw_cap.shape"
   ]
  },
  {
   "cell_type": "code",
   "execution_count": null,
   "metadata": {},
   "outputs": [],
   "source": [
    "raw_cap.count()"
   ]
  },
  {
   "cell_type": "markdown",
   "metadata": {},
   "source": [
    "## Postcode District Validation\n",
    "\n",
    "Check the supplied postcode prefixes against a list of all valid postcode districts. "
   ]
  },
  {
   "cell_type": "code",
   "execution_count": null,
   "metadata": {},
   "outputs": [],
   "source": [
    "ukpostcodes = pd.read_csv('../postcodes/input/ukpostcodes.csv.gz')\n",
    "ukpostcodes.shape"
   ]
  },
  {
   "cell_type": "code",
   "execution_count": null,
   "metadata": {},
   "outputs": [],
   "source": [
    "ukpostcodes['district'] = ukpostcodes['postcode'].str.replace(r'^(.+)\\s.+$', r'\\1')\n",
    "ukpostcodes['sector'] = ukpostcodes['postcode'].str.replace(r'^(.+)\\s([0-9]).+$', r'\\1 \\2')"
   ]
  },
  {
   "cell_type": "code",
   "execution_count": null,
   "metadata": {},
   "outputs": [],
   "source": [
    "ukpostcodes.head()"
   ]
  },
  {
   "cell_type": "code",
   "execution_count": null,
   "metadata": {},
   "outputs": [],
   "source": [
    "postcode_districts = ukpostcodes['district'].unique()\n",
    "len(postcode_districts)"
   ]
  },
  {
   "cell_type": "code",
   "execution_count": null,
   "metadata": {},
   "outputs": [],
   "source": [
    "postcode_sectors = ukpostcodes['sector'].unique()\n",
    "len(postcode_sectors)"
   ]
  },
  {
   "cell_type": "code",
   "execution_count": null,
   "metadata": {},
   "outputs": [],
   "source": [
    "pd.merge(\n",
    "    pd.DataFrame({'district': postcode_districts}),\n",
    "    raw_cap,\n",
    "    left_on='district', right_on='PostcodePrefix_F202B').shape"
   ]
  },
  {
   "cell_type": "code",
   "execution_count": null,
   "metadata": {},
   "outputs": [],
   "source": [
    "raw_cap['postcode_district'] = raw_cap['PostcodePrefix_F202B'].str.upper().str.strip()\n",
    "pd.merge(\n",
    "    pd.DataFrame({'district': ukpostcodes['district'].unique()}),\n",
    "    raw_cap,\n",
    "    left_on='district', right_on='postcode_district').shape"
   ]
  },
  {
   "cell_type": "code",
   "execution_count": null,
   "metadata": {},
   "outputs": [],
   "source": [
    "raw_cap[raw_cap['postcode_district'].isin(postcode_sectors)]"
   ]
  },
  {
   "cell_type": "code",
   "execution_count": null,
   "metadata": {},
   "outputs": [],
   "source": [
    "def coarsen_sectors():\n",
    "    is_sector = raw_cap['postcode_district'].isin(postcode_sectors)\n",
    "    sectors = raw_cap['postcode_district'][is_sector]\n",
    "    raw_cap.loc[is_sector, 'postcode_district'] = sectors.str.replace(r'^(.+)\\s[0-9]$', r'\\1')\n",
    "coarsen_sectors()\n",
    "pd.merge(\n",
    "    pd.DataFrame({'district': postcode_districts}),\n",
    "    raw_cap,\n",
    "    left_on='district', right_on='postcode_district').shape"
   ]
  },
  {
   "cell_type": "code",
   "execution_count": null,
   "metadata": {},
   "outputs": [],
   "source": [
    "def find_unmatched_districts():\n",
    "    unmatched = raw_cap[~raw_cap['postcode_district'].isin(postcode_districts)]\n",
    "    pairs = unmatched[['PostcodePrefix_F202B', 'TownCity_F202C']]\n",
    "    return pd.DataFrame({\n",
    "        'unmatched': pairs.apply(\n",
    "            lambda x: str(x.PostcodePrefix_F202B) + ' / ' + str(x.TownCity_F202C), axis=1).unique()\n",
    "    }).sort_values('unmatched')\n",
    "find_unmatched_districts()"
   ]
  },
  {
   "cell_type": "markdown",
   "metadata": {},
   "source": [
    "most of these we shouldn't expect to match"
   ]
  },
  {
   "cell_type": "code",
   "execution_count": null,
   "metadata": {},
   "outputs": [],
   "source": [
    "cap = raw_cap[raw_cap['postcode_district'].isin(postcode_districts)].copy()\n",
    "cap.shape"
   ]
  },
  {
   "cell_type": "code",
   "execution_count": null,
   "metadata": {},
   "outputs": [],
   "source": [
    "cap[[\n",
    "    'Year', 'BeneficiaryCode', 'BeneficiaryName_F201',\n",
    "    'OtherEAGFTotal', 'DirectEAGFTotal', 'RuralDevelopmentTotal',\n",
    "    'postcode_district']].to_pickle('output/cap_2014.pkl.gz')"
   ]
  },
  {
   "cell_type": "markdown",
   "metadata": {},
   "source": [
    "## Aggregation to Postcode District"
   ]
  },
  {
   "cell_type": "code",
   "execution_count": null,
   "metadata": {},
   "outputs": [],
   "source": [
    "cap_by_district = cap.groupby(['PayingAgencyLink', 'postcode_district']).aggregate(OrderedDict([\n",
    "    ('OtherEAGFTotal', sum),\n",
    "    ('DirectEAGFTotal', sum),\n",
    "    ('RuralDevelopmentTotal', sum),\n",
    "    ('Total', [sum, len]),\n",
    "    ('Year', max)\n",
    "]))\n",
    "cap_by_district.reset_index(inplace=True)\n",
    "cap_by_district.columns = [\n",
    "    'agency',\n",
    "    'postcode_district',\n",
    "    'otherEAGF',\n",
    "    'directEAGF',\n",
    "    'ruralDevelopment',\n",
    "    'total',\n",
    "    'count',\n",
    "    'year'\n",
    "]\n",
    "PROPERTY_COLUMNS = [\n",
    "    'otherEAGF', 'directEAGF', 'ruralDevelopment', 'total', 'count'\n",
    "]\n",
    "for column in PROPERTY_COLUMNS:\n",
    "    cap_by_district[column] = cap_by_district[column].round().astype('int32')\n",
    "    \n",
    "cap_by_district.shape"
   ]
  },
  {
   "cell_type": "code",
   "execution_count": null,
   "metadata": {},
   "outputs": [],
   "source": [
    "cap_by_district.head()"
   ]
  },
  {
   "cell_type": "code",
   "execution_count": null,
   "metadata": {},
   "outputs": [],
   "source": [
    "cap_by_district.agency.unique()"
   ]
  },
  {
   "cell_type": "code",
   "execution_count": null,
   "metadata": {},
   "outputs": [],
   "source": [
    "cap_by_district.describe()"
   ]
  },
  {
   "cell_type": "markdown",
   "metadata": {},
   "source": [
    "## Aggregation to Postcode Area"
   ]
  },
  {
   "cell_type": "code",
   "execution_count": null,
   "metadata": {},
   "outputs": [],
   "source": [
    "cap['postcode_area'] = \\\n",
    "    cap['postcode_district'].str.replace(r'^([A-Z]{1,2}).+$', r'\\1')\n",
    "cap.head()"
   ]
  },
  {
   "cell_type": "code",
   "execution_count": null,
   "metadata": {},
   "outputs": [],
   "source": [
    "cap_by_area = cap.groupby('postcode_area').sum()\n",
    "\n",
    "cap_by_area = cap.groupby('postcode_area').aggregate(OrderedDict([\n",
    "    ('OtherEAGFTotal', sum),\n",
    "    ('DirectEAGFTotal', sum),\n",
    "    ('RuralDevelopmentTotal', sum),\n",
    "    ('Total', [sum, len]),\n",
    "    ('Year', max)\n",
    "]))\n",
    "cap_by_area.reset_index(inplace=True)\n",
    "cap_by_area.columns = [\n",
    "    'postcode_area',\n",
    "    'otherEAGF',\n",
    "    'directEAGF',\n",
    "    'ruralDevelopment',\n",
    "    'total',\n",
    "    'count',\n",
    "    'year'\n",
    "]\n",
    "print(cap_by_area['total'].max()) # still a 32-bit integer?\n",
    "for column in PROPERTY_COLUMNS:\n",
    "    cap_by_area[column] = cap_by_area[column].round().astype('int32')\n",
    "cap_by_area.head()"
   ]
  },
  {
   "cell_type": "code",
   "execution_count": null,
   "metadata": {},
   "outputs": [],
   "source": [
    "cap_by_area.describe()"
   ]
  },
  {
   "cell_type": "code",
   "execution_count": null,
   "metadata": {},
   "outputs": [],
   "source": [
    "cap_by_area.to_pickle('output/cap_by_area_2014.pkl.gz')"
   ]
  },
  {
   "cell_type": "code",
   "execution_count": null,
   "metadata": {},
   "outputs": [],
   "source": []
  }
 ],
 "metadata": {
  "kernelspec": {
   "display_name": "Python 3",
   "language": "python",
   "name": "python3"
  },
  "language_info": {
   "codemirror_mode": {
    "name": "ipython",
    "version": 3
   },
   "file_extension": ".py",
   "mimetype": "text/x-python",
   "name": "python",
   "nbconvert_exporter": "python",
   "pygments_lexer": "ipython3",
   "version": "3.6.5"
  }
 },
 "nbformat": 4,
 "nbformat_minor": 2
}
