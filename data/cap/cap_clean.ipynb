{
 "cells": [
  {
   "cell_type": "markdown",
   "metadata": {},
   "source": [
    "# Count CAP Beneficiaries (2014-2017)\n",
    "\n",
    "Can we count them?"
   ]
  },
  {
   "cell_type": "code",
   "execution_count": null,
   "metadata": {},
   "outputs": [],
   "source": [
    "import pandas as pd"
   ]
  },
  {
   "cell_type": "code",
   "execution_count": null,
   "metadata": {},
   "outputs": [],
   "source": [
    "cap = pd.concat([\n",
    "    pd.read_pickle('output/cap_{}.pkl.gz'.format(year))\n",
    "    for year in range(2014, 2018)\n",
    "])\n",
    "cap.shape"
   ]
  },
  {
   "cell_type": "code",
   "execution_count": null,
   "metadata": {},
   "outputs": [],
   "source": [
    "cap.describe()"
   ]
  },
  {
   "cell_type": "code",
   "execution_count": null,
   "metadata": {},
   "outputs": [],
   "source": [
    "cap['postcode_area'] = cap['postcode_district'].str.replace(r'^([A-Z]{1,2}).+$', r'\\1')\n",
    "cap.head()"
   ]
  },
  {
   "cell_type": "markdown",
   "metadata": {},
   "source": [
    "## Matching Beneficiaries\n",
    "\n",
    "We seem to have a beneficiary code or beneficiary name for every row each year. Can we match them up between years?"
   ]
  },
  {
   "cell_type": "code",
   "execution_count": null,
   "metadata": {},
   "outputs": [],
   "source": [
    "[\n",
    "    (cap.BeneficiaryName_F201 != cap.BeneficiaryName_F201.str.strip()).sum(),\n",
    "    (cap.BeneficiaryName_F201 != cap.BeneficiaryName_F201.str.upper()).sum()\n",
    "]"
   ]
  },
  {
   "cell_type": "code",
   "execution_count": null,
   "metadata": {},
   "outputs": [],
   "source": [
    "cap['beneficiary'] = cap.BeneficiaryName_F201.str.strip().str.upper()\n",
    "(cap.beneficiary == '*******').sum()"
   ]
  },
  {
   "cell_type": "code",
   "execution_count": null,
   "metadata": {},
   "outputs": [],
   "source": [
    "cap.loc[cap.beneficiary == '*******', 'beneficiary'] = \\\n",
    "    'BC_' + cap.BeneficiaryCode[cap.beneficiary == '*******'].astype('str')\n",
    "(cap.beneficiary == '*******').sum()"
   ]
  },
  {
   "cell_type": "code",
   "execution_count": null,
   "metadata": {},
   "outputs": [],
   "source": [
    "cap[cap.beneficiary.isna()]"
   ]
  },
  {
   "cell_type": "code",
   "execution_count": null,
   "metadata": {},
   "outputs": [],
   "source": [
    "cap = cap[~cap.beneficiary.isna()]"
   ]
  },
  {
   "cell_type": "code",
   "execution_count": null,
   "metadata": {},
   "outputs": [],
   "source": [
    "cap_beneficiaries = cap.groupby(['beneficiary', 'postcode_district', 'postcode_area', 'Year']).sum()\n",
    "cap_beneficiaries"
   ]
  },
  {
   "cell_type": "code",
   "execution_count": null,
   "metadata": {},
   "outputs": [],
   "source": [
    "cap[cap.beneficiary.str.match(r'.*CLUNY ESTATE.*')]"
   ]
  },
  {
   "cell_type": "code",
   "execution_count": null,
   "metadata": {},
   "outputs": [],
   "source": [
    "cap[cap.beneficiary.str.match(r'.*ZIGGUS.*')]"
   ]
  },
  {
   "cell_type": "code",
   "execution_count": null,
   "metadata": {},
   "outputs": [],
   "source": [
    "cap[cap.beneficiary.str.match(r'.*ZURICH ASSURANCE.*')]"
   ]
  },
  {
   "cell_type": "code",
   "execution_count": null,
   "metadata": {},
   "outputs": [],
   "source": [
    "cap[cap.beneficiary.str.match(r'.*ZYOX.*')]"
   ]
  },
  {
   "cell_type": "code",
   "execution_count": null,
   "metadata": {},
   "outputs": [],
   "source": [
    "cap_beneficiaries.reset_index(inplace=True)"
   ]
  },
  {
   "cell_type": "code",
   "execution_count": null,
   "metadata": {},
   "outputs": [],
   "source": [
    "cap_beneficiaries[cap_beneficiaries.beneficiary.str.startswith('BC_')]"
   ]
  },
  {
   "cell_type": "code",
   "execution_count": null,
   "metadata": {},
   "outputs": [],
   "source": [
    "cap_beneficiaries.beneficiary.unique().shape[0]"
   ]
  },
  {
   "cell_type": "code",
   "execution_count": null,
   "metadata": {},
   "outputs": [],
   "source": [
    "cap_beneficiaries_by_area = cap_beneficiaries.groupby('postcode_area').beneficiary.nunique()\n",
    "cap_beneficiaries_by_area = cap_beneficiaries_by_area.reset_index()\n",
    "cap_beneficiaries_by_area"
   ]
  },
  {
   "cell_type": "markdown",
   "metadata": {},
   "source": [
    "### Alternative Estimate: Average number of beneficiaries per year"
   ]
  },
  {
   "cell_type": "code",
   "execution_count": null,
   "metadata": {},
   "outputs": [],
   "source": [
    "cap_by_area_by_year = cap.groupby(['postcode_area', 'Year']).BeneficiaryName_F201.count()\n",
    "cap_by_area_by_year"
   ]
  },
  {
   "cell_type": "code",
   "execution_count": null,
   "metadata": {},
   "outputs": [],
   "source": [
    "cap_mean_beneficiaries_by_area = cap_by_area_by_year.groupby('postcode_area').mean()\n",
    "cap_mean_beneficiaries_by_area"
   ]
  },
  {
   "cell_type": "code",
   "execution_count": null,
   "metadata": {},
   "outputs": [],
   "source": [
    "pd.merge(cap_beneficiaries_by_area, cap_mean_beneficiaries_by_area.reset_index(), on='postcode_area')"
   ]
  },
  {
   "cell_type": "code",
   "execution_count": null,
   "metadata": {},
   "outputs": [],
   "source": []
  }
 ],
 "metadata": {
  "kernelspec": {
   "display_name": "Python 3",
   "language": "python",
   "name": "python3"
  },
  "language_info": {
   "codemirror_mode": {
    "name": "ipython",
    "version": 3
   },
   "file_extension": ".py",
   "mimetype": "text/x-python",
   "name": "python",
   "nbconvert_exporter": "python",
   "pygments_lexer": "ipython3",
   "version": "3.6.5"
  }
 },
 "nbformat": 4,
 "nbformat_minor": 2
}
