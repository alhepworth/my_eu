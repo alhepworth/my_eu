{
 "cells": [
  {
   "cell_type": "markdown",
   "metadata": {},
   "source": [
    "# Common Agricultural Policy (CAP) Data 2015\n",
    "\n",
    "These data come from http://cap-payments.defra.gov.uk/ ."
   ]
  },
  {
   "cell_type": "code",
   "execution_count": null,
   "metadata": {},
   "outputs": [],
   "source": [
    "%matplotlib inline\n",
    "\n",
    "from collections import OrderedDict\n",
    "import json\n",
    "import os\n",
    "\n",
    "import pandas as pd"
   ]
  },
  {
   "cell_type": "code",
   "execution_count": null,
   "metadata": {},
   "outputs": [],
   "source": [
    "CAP_FILES = [\n",
    "    'DAERA-Table 1.csv',\n",
    "    'RPA-Table 1.csv',\n",
    "    'RPA2-Table 1.csv',\n",
    "    'SGRPID-Table 1.csv',\n",
    "    'WG-Table 1.csv'\n",
    "]\n",
    "raw_cap = pd.concat([\n",
    "    pd.read_csv(os.path.join('input/2015', file))\n",
    "    for file in CAP_FILES\n",
    "])\n",
    "raw_cap.shape"
   ]
  },
  {
   "cell_type": "code",
   "execution_count": null,
   "metadata": {},
   "outputs": [],
   "source": [
    "raw_cap.columns"
   ]
  },
  {
   "cell_type": "markdown",
   "metadata": {},
   "source": [
    "## Postcode District Validation\n",
    "\n",
    "Check the supplied postcode prefixes against a list of all valid postcode districts. "
   ]
  },
  {
   "cell_type": "code",
   "execution_count": null,
   "metadata": {},
   "outputs": [],
   "source": [
    "ukpostcodes = pd.read_csv('../postcodes/input/ukpostcodes.csv.gz')\n",
    "ukpostcodes.shape"
   ]
  },
  {
   "cell_type": "code",
   "execution_count": null,
   "metadata": {},
   "outputs": [],
   "source": [
    "ukpostcodes['district'] = ukpostcodes['postcode'].str.replace(r'^(.+)\\s.+$', r'\\1')\n",
    "ukpostcodes['sector'] = ukpostcodes['postcode'].str.replace(r'^(.+)\\s([0-9]).+$', r'\\1 \\2')"
   ]
  },
  {
   "cell_type": "code",
   "execution_count": null,
   "metadata": {},
   "outputs": [],
   "source": [
    "ukpostcodes.head()"
   ]
  },
  {
   "cell_type": "code",
   "execution_count": null,
   "metadata": {},
   "outputs": [],
   "source": [
    "postcode_districts = ukpostcodes['district'].unique()\n",
    "len(postcode_districts)"
   ]
  },
  {
   "cell_type": "code",
   "execution_count": null,
   "metadata": {},
   "outputs": [],
   "source": [
    "postcode_sectors = ukpostcodes['sector'].unique()\n",
    "len(postcode_sectors)"
   ]
  },
  {
   "cell_type": "markdown",
   "metadata": {},
   "source": [
    "Note: these are a bit low compared to https://www.ons.gov.uk/methodology/geography/ukgeographies/postalgeography . Possibly that's because this dataset doesn't contain some of the special ones, but it might be out of date."
   ]
  },
  {
   "cell_type": "code",
   "execution_count": null,
   "metadata": {},
   "outputs": [],
   "source": [
    "pd.merge(\n",
    "    pd.DataFrame({'district': postcode_districts}),\n",
    "    raw_cap,\n",
    "    left_on='district', right_on='PostcodePrefix_F202B').shape"
   ]
  },
  {
   "cell_type": "code",
   "execution_count": null,
   "metadata": {},
   "outputs": [],
   "source": [
    "raw_cap['postcode_district'] = raw_cap['PostcodePrefix_F202B'].str.upper().str.strip()\n",
    "pd.merge(\n",
    "    pd.DataFrame({'district': ukpostcodes['district'].unique()}),\n",
    "    raw_cap,\n",
    "    left_on='district', right_on='postcode_district').shape"
   ]
  },
  {
   "cell_type": "markdown",
   "metadata": {},
   "source": [
    "So, most of them match valid districts after upper casing and stripping spaces. Some look like they may be sectors rather than districts. For matching to districts, we can make them less granular."
   ]
  },
  {
   "cell_type": "code",
   "execution_count": null,
   "metadata": {},
   "outputs": [],
   "source": [
    "raw_cap[raw_cap['postcode_district'].isin(postcode_sectors)]"
   ]
  },
  {
   "cell_type": "code",
   "execution_count": null,
   "metadata": {},
   "outputs": [],
   "source": [
    "def coarsen_sectors():\n",
    "    is_sector = raw_cap['postcode_district'].isin(postcode_sectors)\n",
    "    sectors = raw_cap['postcode_district'][is_sector]\n",
    "    raw_cap.loc[is_sector, 'postcode_district'] = sectors.str.replace(r'^(.+)\\s[0-9]$', r'\\1')\n",
    "coarsen_sectors()\n",
    "pd.merge(\n",
    "    pd.DataFrame({'district': postcode_districts}),\n",
    "    raw_cap,\n",
    "    left_on='district', right_on='postcode_district').shape"
   ]
  },
  {
   "cell_type": "code",
   "execution_count": null,
   "metadata": {},
   "outputs": [],
   "source": [
    "def find_unmatched_districts():\n",
    "    unmatched = raw_cap[~raw_cap['postcode_district'].isin(postcode_districts)]\n",
    "    pairs = unmatched[['PostcodePrefix_F202B', 'TownCity_F202C']]\n",
    "    return pd.DataFrame({\n",
    "        'unmatched': pairs.apply(lambda x: ' / '.join(x), axis=1).unique()\n",
    "    }).sort_values('unmatched')\n",
    "find_unmatched_districts()"
   ]
  },
  {
   "cell_type": "markdown",
   "metadata": {},
   "source": [
    "Many look like digit transpositions or entry errors (or things not in the UK). We could probably salvage a few of them, but let's carry on for now."
   ]
  },
  {
   "cell_type": "code",
   "execution_count": null,
   "metadata": {},
   "outputs": [],
   "source": [
    "cap = raw_cap[raw_cap['postcode_district'].isin(postcode_districts)].copy()"
   ]
  },
  {
   "cell_type": "code",
   "execution_count": null,
   "metadata": {},
   "outputs": [],
   "source": [
    "cap.count()"
   ]
  },
  {
   "cell_type": "code",
   "execution_count": null,
   "metadata": {},
   "outputs": [],
   "source": [
    "cap[[\n",
    "    'Year', 'BeneficiaryCode', 'BeneficiaryName_F201',\n",
    "    'OtherEAGFTotal', 'DirectEAGFTotal', 'RuralDevelopmentTotal',\n",
    "    'postcode_district']].to_pickle('output/cap_2015.pkl.gz')"
   ]
  },
  {
   "cell_type": "markdown",
   "metadata": {},
   "source": [
    "## Aggregation to Postcode District"
   ]
  },
  {
   "cell_type": "code",
   "execution_count": null,
   "metadata": {},
   "outputs": [],
   "source": [
    "cap_by_district = cap.groupby(['PayingAgencyLink', 'postcode_district']).aggregate(OrderedDict([\n",
    "    ('OtherEAGFTotal', sum),\n",
    "    ('DirectEAGFTotal', sum),\n",
    "    ('RuralDevelopmentTotal', sum),\n",
    "    ('Total', [sum, len]),\n",
    "    ('Year', max)\n",
    "]))\n",
    "cap_by_district.reset_index(inplace=True)\n",
    "cap_by_district.columns = [\n",
    "    'agency',\n",
    "    'postcode_district',\n",
    "    'otherEAGF',\n",
    "    'directEAGF',\n",
    "    'ruralDevelopment',\n",
    "    'total',\n",
    "    'count',\n",
    "    'year'\n",
    "]\n",
    "PROPERTY_COLUMNS = [\n",
    "    'otherEAGF', 'directEAGF', 'ruralDevelopment', 'total', 'count'\n",
    "]\n",
    "for column in PROPERTY_COLUMNS:\n",
    "    cap_by_district[column] = cap_by_district[column].round().astype('int32')\n",
    "    \n",
    "cap_by_district.shape"
   ]
  },
  {
   "cell_type": "code",
   "execution_count": null,
   "metadata": {},
   "outputs": [],
   "source": [
    "cap_by_district.head()"
   ]
  },
  {
   "cell_type": "code",
   "execution_count": null,
   "metadata": {},
   "outputs": [],
   "source": [
    "cap_by_district.agency.unique()"
   ]
  },
  {
   "cell_type": "code",
   "execution_count": null,
   "metadata": {},
   "outputs": [],
   "source": [
    "cap_by_district.describe()"
   ]
  },
  {
   "cell_type": "markdown",
   "metadata": {},
   "source": [
    "## Aggregation to Postcode Area"
   ]
  },
  {
   "cell_type": "code",
   "execution_count": null,
   "metadata": {},
   "outputs": [],
   "source": [
    "cap['postcode_area'] = \\\n",
    "    cap['postcode_district'].str.replace(r'^([A-Z]{1,2}).+$', r'\\1')\n",
    "cap.head()"
   ]
  },
  {
   "cell_type": "code",
   "execution_count": null,
   "metadata": {},
   "outputs": [],
   "source": [
    "cap_by_area = cap.groupby('postcode_area').sum()\n",
    "\n",
    "cap_by_area = cap.groupby('postcode_area').aggregate(OrderedDict([\n",
    "    ('OtherEAGFTotal', sum),\n",
    "    ('DirectEAGFTotal', sum),\n",
    "    ('RuralDevelopmentTotal', sum),\n",
    "    ('Total', [sum, len]),\n",
    "    ('Year', max)\n",
    "]))\n",
    "cap_by_area.reset_index(inplace=True)\n",
    "cap_by_area.columns = [\n",
    "    'postcode_area',\n",
    "    'otherEAGF',\n",
    "    'directEAGF',\n",
    "    'ruralDevelopment',\n",
    "    'total',\n",
    "    'count',\n",
    "    'year'\n",
    "]\n",
    "print(cap_by_area['total'].max()) # still a 32-bit integer?\n",
    "for column in PROPERTY_COLUMNS:\n",
    "    cap_by_area[column] = cap_by_area[column].round().astype('int32')\n",
    "cap_by_area.head()"
   ]
  },
  {
   "cell_type": "code",
   "execution_count": null,
   "metadata": {},
   "outputs": [],
   "source": [
    "cap_by_area.describe()"
   ]
  },
  {
   "cell_type": "code",
   "execution_count": null,
   "metadata": {},
   "outputs": [],
   "source": [
    "cap_by_area.to_pickle('output/cap_by_area.pkl.gz')"
   ]
  },
  {
   "cell_type": "markdown",
   "metadata": {},
   "source": [
    "## Save Data for Map"
   ]
  },
  {
   "cell_type": "code",
   "execution_count": null,
   "metadata": {},
   "outputs": [],
   "source": [
    "with open('../postcodes/output/postcode-area-boundaries-simplified.geo.json') as file:\n",
    "    postcode_areas_json = json.load(file)\n",
    "len(postcode_areas_json['features'])"
   ]
  },
  {
   "cell_type": "code",
   "execution_count": null,
   "metadata": {},
   "outputs": [],
   "source": [
    "postcode_areas_features = pd.DataFrame.from_dict({\n",
    "    'name': [feature['properties']['name'] for feature in postcode_areas_json['features']],\n",
    "    'geometry': [feature['geometry'] for feature in postcode_areas_json['features']],\n",
    "})\n",
    "postcode_areas_features.head()"
   ]
  },
  {
   "cell_type": "code",
   "execution_count": null,
   "metadata": {},
   "outputs": [],
   "source": [
    "postcode_areas_data = pd.merge(\n",
    "    postcode_areas_features, cap_by_area,\n",
    "    left_on='name', right_on='postcode_area', validate='m:1')\n",
    "postcode_areas_data.head()"
   ]
  },
  {
   "cell_type": "code",
   "execution_count": null,
   "metadata": {},
   "outputs": [],
   "source": [
    "postcode_area_names = pd.read_excel('../postcodes/input/postcode-area-names.xlsx')\n",
    "postcode_area_names.head()"
   ]
  },
  {
   "cell_type": "code",
   "execution_count": null,
   "metadata": {},
   "outputs": [],
   "source": [
    "postcode_area_names.shape"
   ]
  },
  {
   "cell_type": "code",
   "execution_count": null,
   "metadata": {},
   "outputs": [],
   "source": [
    "postcode_areas_data = pd.merge(\n",
    "    postcode_areas_data,\n",
    "    postcode_area_names,\n",
    "    validate='1:1'\n",
    ")\n",
    "postcode_areas_data.head()"
   ]
  },
  {
   "cell_type": "code",
   "execution_count": null,
   "metadata": {},
   "outputs": [],
   "source": [
    "def make_cap_by_area_geo_json(data):\n",
    "    def make_feature(row):\n",
    "        properties = {\n",
    "            property: row[property] for property in PROPERTY_COLUMNS\n",
    "        }\n",
    "        properties['postcodeArea'] = row['postcode_area']\n",
    "        properties['postcodeAreaName'] = row['postcode_area_name']\n",
    "        return {\n",
    "            'type': 'Feature',\n",
    "            'geometry': row['geometry'],\n",
    "            'properties': properties\n",
    "        }\n",
    "    features = list(data.apply(make_feature, axis=1))\n",
    "    return { 'type': 'FeatureCollection', 'features': features }\n",
    "with open('output/cap_by_area.geo.json', 'w') as file:\n",
    "    json.dump(make_cap_by_area_geo_json(postcode_areas_data), file, sort_keys=True)"
   ]
  },
  {
   "cell_type": "code",
   "execution_count": null,
   "metadata": {},
   "outputs": [],
   "source": []
  }
 ],
 "metadata": {
  "kernelspec": {
   "display_name": "Python 3",
   "language": "python",
   "name": "python3"
  },
  "language_info": {
   "codemirror_mode": {
    "name": "ipython",
    "version": 3
   },
   "file_extension": ".py",
   "mimetype": "text/x-python",
   "name": "python",
   "nbconvert_exporter": "python",
   "pygments_lexer": "ipython3",
   "version": "3.6.5"
  }
 },
 "nbformat": 4,
 "nbformat_minor": 2
}
