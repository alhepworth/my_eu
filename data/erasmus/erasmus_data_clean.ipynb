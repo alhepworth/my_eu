{
 "cells": [
  {
   "cell_type": "code",
   "execution_count": null,
   "metadata": {},
   "outputs": [],
   "source": [
    "import json\n",
    "import re\n",
    "import urllib\n",
    "\n",
    "import pandas as pd\n",
    "import numpy as np\n",
    "\n",
    "pd.set_option('display.max_columns', 50)\n",
    "pd.set_option('display.max_colwidth', 100)"
   ]
  },
  {
   "cell_type": "code",
   "execution_count": null,
   "metadata": {},
   "outputs": [],
   "source": [
    "erasmus_plus_mobility = pd.concat([\n",
    "    pd.read_excel(file)\n",
    "    for file in [\n",
    "        'input/ErasmusPlus_KA1_2014_LearningMobilityOfIndividuals_Projects_Overview_2018-09-18.xls',\n",
    "        'input/ErasmusPlus_KA1_2015_LearningMobilityOfIndividuals_Projects_Overview_2018-09-18.xls',\n",
    "        'input/ErasmusPlus_KA1_2016_LearningMobilityOfIndividuals_Projects_Overview_2018-09-18.xls',\n",
    "        'input/ErasmusPlus_KA1_2017_LearningMobilityOfIndividuals_Projects_Overview_2018-09-15.xls',\n",
    "        'input/ErasmusPlus_KA1_2018_LearningMobilityOfIndividuals_Projects_Overview_2018-09-18.xls',\n",
    "        'input/ErasmusPlus_KA2_CooperationForInnovationAndTheExchangeOfGoodPractices_Projects_Overview_2018-09-21.xls',\n",
    "        'input/ErasmusPlus_Sports_Projects_Overview_2018-09-10.xls',\n",
    "        'input/ErasmusPlus_JeanMonnet_Projects_Overview_2018-09-10.xls'\n",
    "    ]\n",
    "], ignore_index=True)\n",
    "erasmus_plus_mobility.shape"
   ]
  },
  {
   "cell_type": "code",
   "execution_count": null,
   "metadata": {},
   "outputs": [],
   "source": [
    "erasmus_plus_mobility.head()"
   ]
  },
  {
   "cell_type": "code",
   "execution_count": null,
   "metadata": {},
   "outputs": [],
   "source": [
    "list(erasmus_plus_mobility)"
   ]
  },
  {
   "cell_type": "code",
   "execution_count": null,
   "metadata": {},
   "outputs": [],
   "source": [
    "erasmus_plus_mobility = erasmus_plus_mobility.rename(columns={\n",
    "    'Programme': 'funds', \n",
    "    'Call year': 'call_year',\n",
    "    'Project Identifier': 'project_identifier',\n",
    "    'Project Title': 'project',\n",
    "    'Project Summary': 'summary', \n",
    "    'Project Status': 'project_status',\n",
    "    \"EU Grant award in euros (This amount represents the grant awarded after the selection stage and is indicative. Please note that any changes made during or after the project's lifetime will not be reflected here.)\": 'max_contribution_eur',\n",
    "    'Project Website': 'project_url', \n",
    "    'Results Available': 'results_available', \n",
    "    'Results Platform Project Card': 'results_url', \n",
    "    'Participating countries': 'participating_countries',\n",
    "    'Coordinating organisation name': 'coord_name', \n",
    "    'Coordinating organisation type': 'coord_org_type',\n",
    "    \"Coordinator's address\": 'coord_address',\n",
    "    \"Coordinator's region\": 'coord_region',\n",
    "    \"Coordinator's country\": 'coord_country', \n",
    "    \"Coordinator's website\": 'coord_website',\n",
    "    'Key Action': 'key_action',\n",
    "    'Action Type': 'action_type',\n",
    "    'Is Good Practice': 'is_good_practice',\n",
    "    'Is Success Story': 'is_success_story',\n",
    "    'Results Platform Project Card': 'results_platform_project_card', \n",
    "    'Topics': 'topics'\n",
    "}).copy()\n",
    "erasmus_plus_mobility.head()"
   ]
  },
  {
   "cell_type": "markdown",
   "metadata": {},
   "source": [
    "Let's check if these projects are on the map already - looked at the first few, and they don't seem to be there "
   ]
  },
  {
   "cell_type": "code",
   "execution_count": null,
   "metadata": {},
   "outputs": [],
   "source": [
    "erasmus_plus_mobility_check = erasmus_plus_mobility[erasmus_plus_mobility.coord_country == 'UK'].copy()\n",
    "erasmus_plus_mobility_check = erasmus_plus_mobility_check[['coord_address', 'project', 'coord_country']].copy()\n",
    "erasmus_plus_mobility_check.head()"
   ]
  },
  {
   "cell_type": "markdown",
   "metadata": {},
   "source": [
    "### Unnamed Column\n",
    "\n",
    "Apparently a placeholder for projects with more than 38 partners."
   ]
  },
  {
   "cell_type": "code",
   "execution_count": null,
   "metadata": {},
   "outputs": [],
   "source": [
    "[erasmus_plus_mobility.shape, erasmus_plus_mobility['Unnamed: 250'].isna().sum()]"
   ]
  },
  {
   "cell_type": "code",
   "execution_count": null,
   "metadata": {},
   "outputs": [],
   "source": [
    "erasmus_plus_mobility['Unnamed: 250'][~erasmus_plus_mobility['Unnamed: 250'].isna()]"
   ]
  },
  {
   "cell_type": "code",
   "execution_count": null,
   "metadata": {},
   "outputs": [],
   "source": [
    "erasmus_plus_mobility.rename(columns={'Unnamed: 250': 'extra_partners'}, inplace=True)"
   ]
  },
  {
   "cell_type": "markdown",
   "metadata": {},
   "source": [
    "### Project Identifier\n",
    "\n",
    "Fortunately, this looks to be an ID."
   ]
  },
  {
   "cell_type": "code",
   "execution_count": null,
   "metadata": {},
   "outputs": [],
   "source": [
    "erasmus_plus_mobility.project_identifier.isna().sum()"
   ]
  },
  {
   "cell_type": "code",
   "execution_count": null,
   "metadata": {},
   "outputs": [],
   "source": [
    "(erasmus_plus_mobility.project_identifier.str.strip() != erasmus_plus_mobility.project_identifier).sum()"
   ]
  },
  {
   "cell_type": "code",
   "execution_count": null,
   "metadata": {},
   "outputs": [],
   "source": [
    "[\n",
    "    erasmus_plus_mobility.shape,\n",
    "    erasmus_plus_mobility.project_identifier.nunique(),\n",
    "    erasmus_plus_mobility.project_identifier.str.upper().nunique()\n",
    "]"
   ]
  },
  {
   "cell_type": "markdown",
   "metadata": {},
   "source": [
    "## Extract Projects from Partners and Coordinators"
   ]
  },
  {
   "cell_type": "code",
   "execution_count": null,
   "metadata": {},
   "outputs": [],
   "source": [
    "projects = erasmus_plus_mobility[[\n",
    "    'project_identifier', 'funds',\n",
    "    'call_year',\n",
    "    'project', 'summary', 'project_status',\n",
    "    'max_contribution_eur', 'project_url',\n",
    "    'participating_countries', 'extra_partners'\n",
    "]].copy()\n",
    "projects.shape"
   ]
  },
  {
   "cell_type": "markdown",
   "metadata": {},
   "source": [
    "### Funds"
   ]
  },
  {
   "cell_type": "code",
   "execution_count": null,
   "metadata": {},
   "outputs": [],
   "source": [
    "projects.funds.isna().sum()"
   ]
  },
  {
   "cell_type": "code",
   "execution_count": null,
   "metadata": {},
   "outputs": [],
   "source": [
    "projects.funds.unique()"
   ]
  },
  {
   "cell_type": "markdown",
   "metadata": {},
   "source": [
    "### Call Year"
   ]
  },
  {
   "cell_type": "code",
   "execution_count": null,
   "metadata": {},
   "outputs": [],
   "source": [
    "projects.call_year.isna().sum()"
   ]
  },
  {
   "cell_type": "code",
   "execution_count": null,
   "metadata": {},
   "outputs": [],
   "source": [
    "projects.call_year.unique()"
   ]
  },
  {
   "cell_type": "code",
   "execution_count": null,
   "metadata": {},
   "outputs": [],
   "source": [
    "projects.call_year = projects.call_year.astype('int32')"
   ]
  },
  {
   "cell_type": "markdown",
   "metadata": {},
   "source": [
    "### Project"
   ]
  },
  {
   "cell_type": "code",
   "execution_count": null,
   "metadata": {},
   "outputs": [],
   "source": [
    "projects.project.isna().sum()"
   ]
  },
  {
   "cell_type": "code",
   "execution_count": null,
   "metadata": {},
   "outputs": [],
   "source": [
    "(projects.project != projects.project.str.strip()).sum()"
   ]
  },
  {
   "cell_type": "code",
   "execution_count": null,
   "metadata": {},
   "outputs": [],
   "source": [
    "projects.project = projects.project.str.strip()"
   ]
  },
  {
   "cell_type": "markdown",
   "metadata": {},
   "source": [
    "### Summary"
   ]
  },
  {
   "cell_type": "code",
   "execution_count": null,
   "metadata": {},
   "outputs": [],
   "source": [
    "projects.summary.isna().sum()"
   ]
  },
  {
   "cell_type": "code",
   "execution_count": null,
   "metadata": {},
   "outputs": [],
   "source": [
    "projects[projects.summary.isna()]"
   ]
  },
  {
   "cell_type": "code",
   "execution_count": null,
   "metadata": {},
   "outputs": [],
   "source": [
    "projects.summary[projects.summary.str.strip() != projects.summary] # lots\n",
    "projects.summary = projects.summary.str.strip()"
   ]
  },
  {
   "cell_type": "markdown",
   "metadata": {},
   "source": [
    "### Project Status"
   ]
  },
  {
   "cell_type": "code",
   "execution_count": null,
   "metadata": {},
   "outputs": [],
   "source": [
    "projects.project_status.isna().sum()"
   ]
  },
  {
   "cell_type": "code",
   "execution_count": null,
   "metadata": {},
   "outputs": [],
   "source": [
    "projects.project_status.unique()"
   ]
  },
  {
   "cell_type": "markdown",
   "metadata": {},
   "source": [
    "### EU Investment\n"
   ]
  },
  {
   "cell_type": "code",
   "execution_count": null,
   "metadata": {},
   "outputs": [],
   "source": [
    "projects.max_contribution_eur.isna().sum()"
   ]
  },
  {
   "cell_type": "code",
   "execution_count": null,
   "metadata": {},
   "outputs": [],
   "source": [
    "projects.max_contribution_eur = projects.max_contribution_eur.map(str).str.strip()\n",
    "max_contribution_eur_bad = projects.max_contribution_eur.str.match(re.compile(r'.*[^0-9.].*'))\n",
    "projects.max_contribution_eur[max_contribution_eur_bad]"
   ]
  },
  {
   "cell_type": "code",
   "execution_count": null,
   "metadata": {},
   "outputs": [],
   "source": [
    "projects.max_contribution_eur = projects.max_contribution_eur.astype('float')"
   ]
  },
  {
   "cell_type": "code",
   "execution_count": null,
   "metadata": {},
   "outputs": [],
   "source": [
    "projects.max_contribution_eur.describe()"
   ]
  },
  {
   "cell_type": "code",
   "execution_count": null,
   "metadata": {},
   "outputs": [],
   "source": [
    "(projects.max_contribution_eur < 1000).value_counts()"
   ]
  },
  {
   "cell_type": "code",
   "execution_count": null,
   "metadata": {},
   "outputs": [],
   "source": [
    "projects = projects[projects.max_contribution_eur >= 1000]\n",
    "projects.shape"
   ]
  },
  {
   "cell_type": "markdown",
   "metadata": {},
   "source": [
    "### Project URL"
   ]
  },
  {
   "cell_type": "code",
   "execution_count": null,
   "metadata": {},
   "outputs": [],
   "source": [
    "(~projects.project_url.isna()).sum()"
   ]
  },
  {
   "cell_type": "code",
   "execution_count": null,
   "metadata": {},
   "outputs": [],
   "source": [
    "projects.project_url[~projects.project_url.isna()].head()"
   ]
  },
  {
   "cell_type": "code",
   "execution_count": null,
   "metadata": {},
   "outputs": [],
   "source": [
    "def is_valid_url(url):\n",
    "    result = urllib.parse.urlparse(str(url))\n",
    "    return bool(result.scheme and result.netloc)\n",
    "\n",
    "(~projects.project_url.isna() & ~projects.project_url.apply(is_valid_url)).sum()"
   ]
  },
  {
   "cell_type": "markdown",
   "metadata": {},
   "source": [
    "### Participating Countries"
   ]
  },
  {
   "cell_type": "code",
   "execution_count": null,
   "metadata": {},
   "outputs": [],
   "source": [
    "projects.participating_countries.isna().sum()"
   ]
  },
  {
   "cell_type": "code",
   "execution_count": null,
   "metadata": {},
   "outputs": [],
   "source": [
    "projects.participating_countries.head()"
   ]
  },
  {
   "cell_type": "markdown",
   "metadata": {},
   "source": [
    "## Extract Coordinators\n",
    "\n",
    "The coordinator is like a special partner, so make the names consistent, and we can treat partners and coordinators the same for cleaning purposes.\n"
   ]
  },
  {
   "cell_type": "code",
   "execution_count": null,
   "metadata": {},
   "outputs": [],
   "source": [
    "coordinators = erasmus_plus_mobility[[\n",
    "    'project_identifier',\n",
    "    'coord_name', \n",
    "    'coord_org_type',\n",
    "    'coord_address',\n",
    "    'coord_region',\n",
    "    'coord_country', \n",
    "    'coord_website'\n",
    "]].copy()\n",
    "coordinators.shape"
   ]
  },
  {
   "cell_type": "code",
   "execution_count": null,
   "metadata": {},
   "outputs": [],
   "source": [
    "coordinators.rename(columns={\n",
    "    'coord_name': 'name',\n",
    "    'coord_org_type': 'type',\n",
    "    'coord_address': 'address',\n",
    "    'coord_region': 'region',\n",
    "    'coord_country': 'country',\n",
    "    'coord_website': 'website',\n",
    "}, inplace=True)\n",
    "coordinators['coordinator'] = True\n",
    "coordinators.head()"
   ]
  },
  {
   "cell_type": "code",
   "execution_count": null,
   "metadata": {},
   "outputs": [],
   "source": [
    "coordinators.count()"
   ]
  },
  {
   "cell_type": "markdown",
   "metadata": {},
   "source": [
    "### Name"
   ]
  },
  {
   "cell_type": "code",
   "execution_count": null,
   "metadata": {},
   "outputs": [],
   "source": [
    "(coordinators.name.str.strip() != coordinators.name).sum()"
   ]
  },
  {
   "cell_type": "code",
   "execution_count": null,
   "metadata": {},
   "outputs": [],
   "source": [
    "coordinators.name = coordinators.name.str.strip()\n",
    "coordinators.name.unique().shape"
   ]
  },
  {
   "cell_type": "markdown",
   "metadata": {},
   "source": [
    "### Type"
   ]
  },
  {
   "cell_type": "code",
   "execution_count": null,
   "metadata": {},
   "outputs": [],
   "source": [
    "coordinators.type.isna().sum()"
   ]
  },
  {
   "cell_type": "code",
   "execution_count": null,
   "metadata": {},
   "outputs": [],
   "source": [
    "(coordinators.type[~coordinators.type.isna()] != coordinators.type[~coordinators.type.isna()].str.strip()).sum()"
   ]
  },
  {
   "cell_type": "code",
   "execution_count": null,
   "metadata": {},
   "outputs": [],
   "source": [
    "coordinators[~coordinators.type.isna()].type.sort_values().unique()[0:10]"
   ]
  },
  {
   "cell_type": "markdown",
   "metadata": {},
   "source": [
    "### Country"
   ]
  },
  {
   "cell_type": "code",
   "execution_count": null,
   "metadata": {},
   "outputs": [],
   "source": [
    "coordinators.country.isna().sum()"
   ]
  },
  {
   "cell_type": "code",
   "execution_count": null,
   "metadata": {},
   "outputs": [],
   "source": [
    "[\n",
    "    coordinators.shape[0],\n",
    "    (coordinators.country != coordinators.country.str.strip()).sum(),\n",
    "    (coordinators.country != coordinators.country.str.upper()).sum(),\n",
    "    (coordinators.country.str.match('[A-Z]{2}')).sum()\n",
    "]"
   ]
  },
  {
   "cell_type": "markdown",
   "metadata": {},
   "source": [
    "### Website"
   ]
  },
  {
   "cell_type": "code",
   "execution_count": null,
   "metadata": {},
   "outputs": [],
   "source": [
    "(~coordinators.website.isna() & ~coordinators.website.apply(is_valid_url)).sum()"
   ]
  },
  {
   "cell_type": "code",
   "execution_count": null,
   "metadata": {},
   "outputs": [],
   "source": [
    "[\n",
    "    coordinators.website.str.startswith('http').sum(),\n",
    "    (~coordinators.website.isna() & coordinators.website.apply(is_valid_url)).sum()\n",
    "]"
   ]
  },
  {
   "cell_type": "code",
   "execution_count": null,
   "metadata": {},
   "outputs": [],
   "source": [
    "coordinators.head()"
   ]
  },
  {
   "cell_type": "code",
   "execution_count": null,
   "metadata": {},
   "outputs": [],
   "source": [
    "coordinators.website[~coordinators.website.isna() & ~coordinators.website.apply(is_valid_url)].head()"
   ]
  },
  {
   "cell_type": "code",
   "execution_count": null,
   "metadata": {},
   "outputs": [],
   "source": [
    "coordinators.loc[\n",
    "    ~coordinators.website.isna() &\n",
    "    ~coordinators.website.apply(is_valid_url), 'website'] = 'http://' + coordinators.website\n",
    "(~coordinators.website.isna() & ~coordinators.website.apply(is_valid_url)).sum()"
   ]
  },
  {
   "cell_type": "code",
   "execution_count": null,
   "metadata": {},
   "outputs": [],
   "source": [
    "coordinators.website[~coordinators.website.isna() & ~coordinators.website.apply(is_valid_url)]"
   ]
  },
  {
   "cell_type": "code",
   "execution_count": null,
   "metadata": {},
   "outputs": [],
   "source": [
    "coordinators.website = coordinators.website.str.replace(r'^(https?://)/', r'\\1')\n",
    "(~coordinators.website.isna() & ~coordinators.website.apply(is_valid_url)).sum()"
   ]
  },
  {
   "cell_type": "code",
   "execution_count": null,
   "metadata": {},
   "outputs": [],
   "source": [
    "coordinators.website.head()"
   ]
  },
  {
   "cell_type": "markdown",
   "metadata": {},
   "source": [
    "### Postcodes for UK Coordinators\n",
    "\n",
    "Some people have switched 'O' for '0' - could clean this up later"
   ]
  },
  {
   "cell_type": "code",
   "execution_count": null,
   "metadata": {},
   "outputs": [],
   "source": [
    "coordinators_uk = coordinators[coordinators.country == 'UK'].copy()\n",
    "[coordinators_uk.shape[0], coordinators.shape[0]]"
   ]
  },
  {
   "cell_type": "code",
   "execution_count": null,
   "metadata": {},
   "outputs": [],
   "source": [
    "ukpostcodes = pd.read_csv('../postcodes/input/ukpostcodes.csv.gz')\n",
    "ukpostcodes.shape"
   ]
  },
  {
   "cell_type": "code",
   "execution_count": null,
   "metadata": {},
   "outputs": [],
   "source": [
    "VALID_POSTCODE_RE = re.compile(\n",
    "    r'([A-Za-z][A-Ha-hJ-Yj-y]?[0-9][A-Za-z0-9]? ?[0-9][A-Za-z]{2}|[Gg][Ii][Rr] ?0[Aa]{2})'\n",
    ")\n",
    "assert ukpostcodes.postcode.str.match(VALID_POSTCODE_RE).sum() == ukpostcodes.shape[0]"
   ]
  },
  {
   "cell_type": "code",
   "execution_count": null,
   "metadata": {},
   "outputs": [],
   "source": [
    "coordinators_uk['raw_postcode'] = \\\n",
    "    coordinators_uk.address.str.extract(VALID_POSTCODE_RE)[0]\n",
    "coordinators_uk.raw_postcode.head()"
   ]
  },
  {
   "cell_type": "code",
   "execution_count": null,
   "metadata": {},
   "outputs": [],
   "source": [
    "coordinators_uk[coordinators_uk.raw_postcode.isna()]"
   ]
  },
  {
   "cell_type": "code",
   "execution_count": null,
   "metadata": {},
   "outputs": [],
   "source": [
    "[\n",
    "    (~coordinators_uk.raw_postcode.isna()).sum(),\n",
    "    coordinators_uk.raw_postcode.isin(ukpostcodes.postcode).sum(),\n",
    "]"
   ]
  },
  {
   "cell_type": "code",
   "execution_count": null,
   "metadata": {},
   "outputs": [],
   "source": [
    "def find_postcode_from_raw_postcode(raw_postcode):\n",
    "    return raw_postcode.\\\n",
    "        str.upper().\\\n",
    "        str.strip().\\\n",
    "        str.replace(r'[^A-Z0-9]', '').\\\n",
    "        str.replace(r'^(\\S+)([0-9][A-Z]{2})$', r'\\1 \\2')\n",
    "\n",
    "coordinators_uk['postcode'] = find_postcode_from_raw_postcode(coordinators_uk.raw_postcode)\n",
    "coordinators_uk.postcode.isin(ukpostcodes.postcode).sum()"
   ]
  },
  {
   "cell_type": "code",
   "execution_count": null,
   "metadata": {},
   "outputs": [],
   "source": [
    "coordinators_uk.postcode[~coordinators_uk.postcode.isin(ukpostcodes.postcode)].unique()"
   ]
  },
  {
   "cell_type": "code",
   "execution_count": null,
   "metadata": {},
   "outputs": [],
   "source": [
    "coordinators_uk[~coordinators_uk.postcode.isin(ukpostcodes.postcode)]"
   ]
  },
  {
   "cell_type": "code",
   "execution_count": null,
   "metadata": {},
   "outputs": [],
   "source": [
    "clean_coordinators_uk = coordinators_uk[\n",
    "    coordinators_uk.postcode.isin(ukpostcodes.postcode)\n",
    "].copy()\n",
    "clean_coordinators_uk.drop('raw_postcode', axis=1, inplace=True)\n",
    "clean_coordinators_uk.shape"
   ]
  },
  {
   "cell_type": "markdown",
   "metadata": {},
   "source": [
    "## Extract Partners"
   ]
  },
  {
   "cell_type": "code",
   "execution_count": null,
   "metadata": {},
   "outputs": [],
   "source": [
    "erasmus_plus_mobility.columns = [\n",
    "    re.sub(r'^Partner (\\d+) (.+)$', r'Partner_\\2_\\1', column)\n",
    "    for column in erasmus_plus_mobility.columns\n",
    "]\n",
    "erasmus_plus_mobility.head()"
   ]
  },
  {
   "cell_type": "code",
   "execution_count": null,
   "metadata": {},
   "outputs": [],
   "source": [
    "partner_columns = [\n",
    "    column for column in erasmus_plus_mobility.columns\n",
    "    if column.startswith('Partner_')\n",
    "]\n",
    "partners_wide = erasmus_plus_mobility[['project_identifier'] + partner_columns]\n",
    "partners_wide.head()"
   ]
  },
  {
   "cell_type": "code",
   "execution_count": null,
   "metadata": {},
   "outputs": [],
   "source": [
    "partners = pd.wide_to_long(\n",
    "    partners_wide,\n",
    "    ['Partner_name','Partner_organisation type', 'Partner_address', 'Partner_country', 'Partner_region', 'Partner_website'],\n",
    "    'project_identifier', 'partner_number',\n",
    "    sep='_'\n",
    ")\n",
    "partners.head()"
   ]
  },
  {
   "cell_type": "code",
   "execution_count": null,
   "metadata": {},
   "outputs": [],
   "source": [
    "partners = partners.rename(columns={\n",
    "    'Partner_name': 'name',\n",
    "    'Partner_organisation type': 'type', \n",
    "    'Partner_address': 'address', \n",
    "    'Partner_country': 'country',\n",
    "    'Partner_region': 'region', \n",
    "    'Partner_website': 'website'\n",
    "    }).copy()\n",
    "partners['coordinator'] = False\n",
    "partners.head()"
   ]
  },
  {
   "cell_type": "code",
   "execution_count": null,
   "metadata": {},
   "outputs": [],
   "source": [
    "partners.count()"
   ]
  },
  {
   "cell_type": "code",
   "execution_count": null,
   "metadata": {},
   "outputs": [],
   "source": [
    "partners = partners[~partners.name.isna()].copy()"
   ]
  },
  {
   "cell_type": "code",
   "execution_count": null,
   "metadata": {},
   "outputs": [],
   "source": [
    "partners.count()"
   ]
  },
  {
   "cell_type": "markdown",
   "metadata": {},
   "source": [
    "### Name"
   ]
  },
  {
   "cell_type": "code",
   "execution_count": null,
   "metadata": {},
   "outputs": [],
   "source": [
    "(partners.name.str.strip() != partners.name).sum()"
   ]
  },
  {
   "cell_type": "code",
   "execution_count": null,
   "metadata": {},
   "outputs": [],
   "source": [
    "partners.name = partners.name.str.strip()\n",
    "partners.name.unique().shape"
   ]
  },
  {
   "cell_type": "markdown",
   "metadata": {},
   "source": [
    "### Type"
   ]
  },
  {
   "cell_type": "code",
   "execution_count": null,
   "metadata": {},
   "outputs": [],
   "source": [
    "partners.type.isna().sum()"
   ]
  },
  {
   "cell_type": "code",
   "execution_count": null,
   "metadata": {},
   "outputs": [],
   "source": [
    "(partners.type[~partners.type.isna()] != partners.type[~partners.type.isna()].str.strip()).sum()"
   ]
  },
  {
   "cell_type": "code",
   "execution_count": null,
   "metadata": {},
   "outputs": [],
   "source": [
    "partners[~partners.type.isna()].type.sort_values().unique()[0:10]"
   ]
  },
  {
   "cell_type": "markdown",
   "metadata": {},
   "source": [
    "### Country"
   ]
  },
  {
   "cell_type": "code",
   "execution_count": null,
   "metadata": {},
   "outputs": [],
   "source": [
    "partners.country.isna().sum()"
   ]
  },
  {
   "cell_type": "code",
   "execution_count": null,
   "metadata": {},
   "outputs": [],
   "source": [
    "[\n",
    "    partners.shape[0],\n",
    "    (partners.country != partners.country.str.strip()).sum(),\n",
    "    (partners.country != partners.country.str.upper()).sum(),\n",
    "    (partners.country.str.match('[A-Z]{2}')).sum()\n",
    "]"
   ]
  },
  {
   "cell_type": "markdown",
   "metadata": {},
   "source": [
    "### Website"
   ]
  },
  {
   "cell_type": "code",
   "execution_count": null,
   "metadata": {},
   "outputs": [],
   "source": [
    "(~partners.website.isna() & ~partners.website.apply(is_valid_url)).sum()"
   ]
  },
  {
   "cell_type": "code",
   "execution_count": null,
   "metadata": {},
   "outputs": [],
   "source": [
    "[\n",
    "    partners.website.str.startswith('http').sum(),\n",
    "    (~partners.website.isna() & partners.website.apply(is_valid_url)).sum()\n",
    "]"
   ]
  },
  {
   "cell_type": "code",
   "execution_count": null,
   "metadata": {},
   "outputs": [],
   "source": [
    "partners_copy = partners.copy()"
   ]
  },
  {
   "cell_type": "code",
   "execution_count": null,
   "metadata": {},
   "outputs": [],
   "source": [
    "partners = partners_copy.copy()"
   ]
  },
  {
   "cell_type": "code",
   "execution_count": null,
   "metadata": {},
   "outputs": [],
   "source": [
    "partners.website[\n",
    "    partners.website.str.startswith('http') &\n",
    "    ~partners.website.apply(is_valid_url)]"
   ]
  },
  {
   "cell_type": "code",
   "execution_count": null,
   "metadata": {},
   "outputs": [],
   "source": [
    "partners.website = partners.website.str.replace(r'^http:\\\\', 'http://')\n",
    "partners.website = partners.website.str.replace(r'^http:://', 'http://')\n",
    "partners.website = partners.website.str.replace(r'^http: //', 'http://')\n",
    "partners.website = partners.website.str.replace(r'^http:/[^/]', 'http://')\n",
    "partners.website = partners.website.str.replace(r'^http:[^/][^/]', 'http://')\n",
    "partners.website = partners.website.str.replace(r'^http//:', 'http://')\n",
    "partners.website = partners.website.str.replace(r'^http//', 'http://')\n",
    "partners.website = partners.website.str.replace(r'^http/', 'http://')\n",
    "partners.website = partners.website.str.replace(r'^http.www', 'http://www')"
   ]
  },
  {
   "cell_type": "code",
   "execution_count": null,
   "metadata": {},
   "outputs": [],
   "source": [
    "partners.loc[\n",
    "    ~partners.website.isna() &\n",
    "    ~partners.website.apply(is_valid_url), 'website'] = 'http://' + partners.website\n",
    "(~partners.website.isna() & ~partners.website.apply(is_valid_url)).sum()"
   ]
  },
  {
   "cell_type": "code",
   "execution_count": null,
   "metadata": {},
   "outputs": [],
   "source": [
    "partners.website.head()"
   ]
  },
  {
   "cell_type": "markdown",
   "metadata": {},
   "source": [
    "### Separating out UK partners"
   ]
  },
  {
   "cell_type": "code",
   "execution_count": null,
   "metadata": {},
   "outputs": [],
   "source": [
    "partners_uk = partners[partners.country == 'UK'].copy()\n",
    "[partners_uk.shape, partners.shape]"
   ]
  },
  {
   "cell_type": "code",
   "execution_count": null,
   "metadata": {},
   "outputs": [],
   "source": [
    "partners_uk['raw_postcode'] = \\\n",
    "    partners_uk.address.str.extract(VALID_POSTCODE_RE)[0]\n",
    "partners_uk.raw_postcode.head()"
   ]
  },
  {
   "cell_type": "code",
   "execution_count": null,
   "metadata": {},
   "outputs": [],
   "source": [
    "partners_uk[partners_uk.raw_postcode.isna()]"
   ]
  },
  {
   "cell_type": "markdown",
   "metadata": {},
   "source": [
    "Quite a few here"
   ]
  },
  {
   "cell_type": "code",
   "execution_count": null,
   "metadata": {},
   "outputs": [],
   "source": [
    "partners_uk.raw_postcode.isin(ukpostcodes.postcode).sum()"
   ]
  },
  {
   "cell_type": "code",
   "execution_count": null,
   "metadata": {},
   "outputs": [],
   "source": [
    "partners_uk['postcode'] = find_postcode_from_raw_postcode(partners_uk.raw_postcode)\n",
    "partners_uk.postcode.isin(ukpostcodes.postcode).sum()"
   ]
  },
  {
   "cell_type": "code",
   "execution_count": null,
   "metadata": {},
   "outputs": [],
   "source": [
    "partners_uk.postcode[~partners_uk.postcode.isin(ukpostcodes.postcode)].unique()"
   ]
  },
  {
   "cell_type": "code",
   "execution_count": null,
   "metadata": {},
   "outputs": [],
   "source": [
    "partners_uk[~partners_uk.postcode.isna() & ~partners_uk.postcode.isin(ukpostcodes.postcode)]"
   ]
  },
  {
   "cell_type": "code",
   "execution_count": null,
   "metadata": {},
   "outputs": [],
   "source": [
    "clean_partners_uk = partners_uk[partners_uk.postcode.isin(ukpostcodes.postcode)].copy()\n",
    "clean_partners_uk.drop('raw_postcode', axis=1, inplace=True)\n",
    "clean_partners_uk.reset_index(inplace=True)"
   ]
  },
  {
   "cell_type": "code",
   "execution_count": null,
   "metadata": {},
   "outputs": [],
   "source": [
    "clean_partners_uk.shape"
   ]
  },
  {
   "cell_type": "markdown",
   "metadata": {},
   "source": [
    "## Count Organisations and Countries\n",
    "It is useful to know the total number of organisations and the number of countries involved, to deal with cases where the contribution of each organisation is unknown."
   ]
  },
  {
   "cell_type": "code",
   "execution_count": null,
   "metadata": {},
   "outputs": [],
   "source": [
    "organisations = pd.concat([\n",
    "    partners.reset_index()[['project_identifier', 'country']],\n",
    "    coordinators.reset_index()[['project_identifier', 'country']]\n",
    "])\n",
    "organisations.shape "
   ]
  },
  {
   "cell_type": "code",
   "execution_count": null,
   "metadata": {},
   "outputs": [],
   "source": [
    "project_num_organisations = organisations.groupby('project_identifier').\\\n",
    "    country.count().reset_index().rename(columns={'country': 'num_organisations'})\n",
    "[projects.shape[0], project_num_organisations.shape]"
   ]
  },
  {
   "cell_type": "markdown",
   "metadata": {},
   "source": [
    "Cross-check with partner numbers:"
   ]
  },
  {
   "cell_type": "code",
   "execution_count": null,
   "metadata": {},
   "outputs": [],
   "source": [
    "project_num_organisations_check = \\\n",
    "    (partners.reset_index().groupby('project_identifier').partner_number.max() + 1).\\\n",
    "    reset_index().rename(columns={'partner_number': 'num_organisations'})\n",
    "[projects.shape[0], project_num_organisations_check.shape]"
   ]
  },
  {
   "cell_type": "code",
   "execution_count": null,
   "metadata": {},
   "outputs": [],
   "source": [
    "def compare_project_num_organisations():\n",
    "    c = pd.merge(project_num_organisations, project_num_organisations_check,\n",
    "                 on='project_identifier', how='left')\n",
    "    c.loc[c.num_organisations_y.isna(), 'num_organisations_y'] = 1\n",
    "    return (c.num_organisations_x != c.num_organisations_y).sum()\n",
    "compare_project_num_organisations()"
   ]
  },
  {
   "cell_type": "code",
   "execution_count": null,
   "metadata": {},
   "outputs": [],
   "source": [
    "project_num_countries = organisations.groupby('project_identifier').\\\n",
    "    country.nunique().reset_index().rename(columns={'country': 'num_countries'})\n",
    "[projects.shape[0], project_num_countries.shape]"
   ]
  },
  {
   "cell_type": "code",
   "execution_count": null,
   "metadata": {},
   "outputs": [],
   "source": [
    "project_num_organisations_and_countries = pd.merge(\n",
    "    project_num_countries, project_num_organisations,\n",
    "    on='project_identifier', validate='1:1'\n",
    ")\n",
    "project_num_organisations_and_countries.shape"
   ]
  },
  {
   "cell_type": "code",
   "execution_count": null,
   "metadata": {},
   "outputs": [],
   "source": [
    "project_num_organisations_and_countries.head()"
   ]
  },
  {
   "cell_type": "code",
   "execution_count": null,
   "metadata": {},
   "outputs": [],
   "source": [
    "projects = pd.merge(projects, project_num_organisations_and_countries,\n",
    "                    on='project_identifier', validate='1:1')\n",
    "projects.head()"
   ]
  },
  {
   "cell_type": "markdown",
   "metadata": {},
   "source": [
    "## Save Data"
   ]
  },
  {
   "cell_type": "markdown",
   "metadata": {},
   "source": [
    "### Organisations"
   ]
  },
  {
   "cell_type": "code",
   "execution_count": null,
   "metadata": {},
   "outputs": [],
   "source": [
    "organisations_uk = pd.concat([clean_coordinators_uk, clean_partners_uk], sort=True)\n",
    "[\n",
    "    organisations_uk.shape,\n",
    "    clean_coordinators_uk.shape,\n",
    "    clean_partners_uk.shape\n",
    "]"
   ]
  },
  {
   "cell_type": "code",
   "execution_count": null,
   "metadata": {},
   "outputs": [],
   "source": [
    "organisations_uk.rename(columns={\n",
    "    'name': 'organisation_name',\n",
    "    'type': 'organisation_type',\n",
    "    'address': 'organisation_address',\n",
    "    'country': 'organisation_country',\n",
    "    'region': 'organisation_region',\n",
    "    'website': 'organisation_website',\n",
    "    'coordinator': 'organisation_coordinator'\n",
    "}, inplace=True)"
   ]
  },
  {
   "cell_type": "code",
   "execution_count": null,
   "metadata": {},
   "outputs": [],
   "source": [
    "organisations_uk"
   ]
  },
  {
   "cell_type": "code",
   "execution_count": null,
   "metadata": {},
   "outputs": [],
   "source": [
    "organisations_uk.project_identifier.unique().shape"
   ]
  },
  {
   "cell_type": "code",
   "execution_count": null,
   "metadata": {},
   "outputs": [],
   "source": [
    "organisations_uk.to_pickle('output/erasmus_mobility_organisations.pkl.gz')"
   ]
  },
  {
   "cell_type": "markdown",
   "metadata": {},
   "source": [
    "### Projects in the UK"
   ]
  },
  {
   "cell_type": "code",
   "execution_count": null,
   "metadata": {},
   "outputs": [],
   "source": [
    "projects_uk_full = pd.merge(projects, organisations_uk, on='project_identifier', validate='1:m')\n",
    "projects_uk_full.shape"
   ]
  },
  {
   "cell_type": "code",
   "execution_count": null,
   "metadata": {},
   "outputs": [],
   "source": [
    "projects_uk_full.head()"
   ]
  },
  {
   "cell_type": "code",
   "execution_count": null,
   "metadata": {},
   "outputs": [],
   "source": [
    "projects_uk = projects[projects.project_identifier.isin(organisations_uk.project_identifier)].copy()\n",
    "projects_uk.shape"
   ]
  },
  {
   "cell_type": "markdown",
   "metadata": {},
   "source": [
    "#### Convert to GBP"
   ]
  },
  {
   "cell_type": "code",
   "execution_count": null,
   "metadata": {},
   "outputs": [],
   "source": [
    "eur_gbp = pd.read_pickle('../exchange_rates/output/exchange_rates.pkl.gz')\n",
    "eur_gbp.tail()"
   ]
  },
  {
   "cell_type": "code",
   "execution_count": null,
   "metadata": {},
   "outputs": [],
   "source": [
    "def find_average_eur_gbp_rate(row):\n",
    "    # create timeseries from start to end\n",
    "    year_start = str(row.call_year) +'-01-01'\n",
    "    year_end = str(row.call_year) +'-12-31'\n",
    "    days = pd.date_range(year_start, year_end, closed='left')\n",
    "    daily = pd.DataFrame({\n",
    "        'month_start': days,\n",
    "        'weight': 1.0 / days.shape[0]\n",
    "    })\n",
    "    monthly = daily.resample('MS', on='month_start').sum()\n",
    "    monthly = pd.merge(monthly, eur_gbp, on='month_start', validate='1:1')\n",
    "    return (monthly.weight * monthly.rate).sum()\n",
    "\n",
    "projects_uk['eur_gbp'] = projects_uk.apply(\n",
    "    find_average_eur_gbp_rate, axis=1, result_type='reduce')"
   ]
  },
  {
   "cell_type": "code",
   "execution_count": null,
   "metadata": {},
   "outputs": [],
   "source": [
    "projects_uk.head()"
   ]
  },
  {
   "cell_type": "code",
   "execution_count": null,
   "metadata": {},
   "outputs": [],
   "source": [
    "projects_uk.to_pickle('output/erasmus_mobility_projects.pkl.gz')"
   ]
  }
 ],
 "metadata": {
  "kernelspec": {
   "display_name": "Python 3",
   "language": "python",
   "name": "python3"
  },
  "language_info": {
   "codemirror_mode": {
    "name": "ipython",
    "version": 3
   },
   "file_extension": ".py",
   "mimetype": "text/x-python",
   "name": "python",
   "nbconvert_exporter": "python",
   "pygments_lexer": "ipython3",
   "version": "3.6.5"
  }
 },
 "nbformat": 4,
 "nbformat_minor": 2
}
