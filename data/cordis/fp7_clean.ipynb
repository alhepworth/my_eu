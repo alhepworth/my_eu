{
 "cells": [
  {
   "cell_type": "markdown",
   "metadata": {},
   "source": [
    "# CORDIS FP7"
   ]
  },
  {
   "cell_type": "code",
   "execution_count": null,
   "metadata": {},
   "outputs": [],
   "source": [
    "import json\n",
    "import re\n",
    "import urllib\n",
    "\n",
    "from titlecase import titlecase\n",
    "import pandas as pd\n",
    "\n",
    "pd.set_option('display.max_columns', 50)"
   ]
  },
  {
   "cell_type": "markdown",
   "metadata": {},
   "source": [
    "## Read in Data"
   ]
  },
  {
   "cell_type": "code",
   "execution_count": null,
   "metadata": {},
   "outputs": [],
   "source": [
    "all_projects = pd.read_excel('input/fp7/cordis-fp7projects.xlsx')\n",
    "all_projects.shape"
   ]
  },
  {
   "cell_type": "code",
   "execution_count": null,
   "metadata": {},
   "outputs": [],
   "source": [
    "all_organizations = pd.read_excel('input/fp7/cordis-fp7organizations.xlsx')\n",
    "all_organizations.shape"
   ]
  },
  {
   "cell_type": "code",
   "execution_count": null,
   "metadata": {},
   "outputs": [],
   "source": [
    "all_briefs = pd.read_excel('input/fp7/cordis-fp7briefs.xlsx')\n",
    "all_briefs.shape"
   ]
  },
  {
   "cell_type": "markdown",
   "metadata": {},
   "source": [
    "## Count Organisations and Countries\n",
    "\n",
    "It is useful to know the total number of organisations and the number of countries involved, to deal with cases where the contribution of each organisation is unknown."
   ]
  },
  {
   "cell_type": "code",
   "execution_count": null,
   "metadata": {},
   "outputs": [],
   "source": [
    "all_organizations[['projectRcn', 'id', 'country']].count()"
   ]
  },
  {
   "cell_type": "code",
   "execution_count": null,
   "metadata": {},
   "outputs": [],
   "source": [
    "[\n",
    "    all_organizations.country.isna().sum(),\n",
    "    (all_organizations.country[~all_organizations.country.isna()] != \n",
    "         all_organizations.country[~all_organizations.country.isna()].str.strip()).sum(),\n",
    "    (all_organizations.country[~all_organizations.country.isna()] != \n",
    "         all_organizations.country[~all_organizations.country.isna()].str.upper()).sum(),\n",
    "]"
   ]
  },
  {
   "cell_type": "code",
   "execution_count": null,
   "metadata": {},
   "outputs": [],
   "source": [
    "project_num_organizations = all_organizations.groupby('projectRcn').\\\n",
    "    id.nunique().reset_index().rename(columns={'id': 'num_organizations'})\n",
    "project_num_organizations.shape"
   ]
  },
  {
   "cell_type": "code",
   "execution_count": null,
   "metadata": {},
   "outputs": [],
   "source": [
    "project_num_countries = all_organizations.groupby('projectRcn').\\\n",
    "    country.nunique().reset_index().rename(columns={'country': 'num_countries'})\n",
    "project_num_countries.shape"
   ]
  },
  {
   "cell_type": "code",
   "execution_count": null,
   "metadata": {},
   "outputs": [],
   "source": [
    "project_num_organizations_and_countries = pd.merge(\n",
    "    project_num_countries, project_num_organizations,\n",
    "    on='projectRcn', validate='1:1'\n",
    ")\n",
    "project_num_organizations_and_countries.shape"
   ]
  },
  {
   "cell_type": "code",
   "execution_count": null,
   "metadata": {},
   "outputs": [],
   "source": [
    "project_num_organizations_and_countries.head()"
   ]
  },
  {
   "cell_type": "markdown",
   "metadata": {},
   "source": [
    "## Restrict to UK\n",
    "\n",
    "We are only interested in projects and organizations where the coordinator or at least one participant institution is in the UK."
   ]
  },
  {
   "cell_type": "code",
   "execution_count": null,
   "metadata": {},
   "outputs": [],
   "source": [
    "uk_organizations = all_organizations[all_organizations.country == 'UK']\n",
    "uk_organizations.shape"
   ]
  },
  {
   "cell_type": "code",
   "execution_count": null,
   "metadata": {},
   "outputs": [],
   "source": [
    "uk_organizations.head()"
   ]
  },
  {
   "cell_type": "code",
   "execution_count": null,
   "metadata": {},
   "outputs": [],
   "source": [
    "uk_projects = all_projects[all_projects.id.isin(uk_organizations.projectID)]\n",
    "uk_projects.shape"
   ]
  },
  {
   "cell_type": "code",
   "execution_count": null,
   "metadata": {},
   "outputs": [],
   "source": [
    "uk_projects.head()"
   ]
  },
  {
   "cell_type": "code",
   "execution_count": null,
   "metadata": {},
   "outputs": [],
   "source": [
    "uk_briefs = all_briefs[all_briefs.projectRcn.isin(uk_projects.rcn)]\n",
    "uk_briefs.shape"
   ]
  },
  {
   "cell_type": "code",
   "execution_count": null,
   "metadata": {},
   "outputs": [],
   "source": [
    "uk_briefs.head()"
   ]
  },
  {
   "cell_type": "markdown",
   "metadata": {},
   "source": [
    "## Examples\n",
    "\n",
    "### Coordinator outside UK\n",
    "\n",
    "The UK has two participant institutions. It appears that `projects.ecMaxContribution` is the sum of all `organizations.ecContribution`s for all coordinator and participant institutions."
   ]
  },
  {
   "cell_type": "code",
   "execution_count": null,
   "metadata": {},
   "outputs": [],
   "source": [
    "uk_projects[uk_projects.rcn == 101244]"
   ]
  },
  {
   "cell_type": "code",
   "execution_count": null,
   "metadata": {},
   "outputs": [],
   "source": [
    "uk_organizations[uk_organizations.projectRcn == 101244]"
   ]
  },
  {
   "cell_type": "code",
   "execution_count": null,
   "metadata": {},
   "outputs": [],
   "source": [
    "all_organizations[all_organizations.projectRcn == 101244].ecContribution.max()"
   ]
  },
  {
   "cell_type": "code",
   "execution_count": null,
   "metadata": {},
   "outputs": [],
   "source": [
    "all_organizations[all_organizations.projectRcn == 101244].ecContribution.sum()"
   ]
  },
  {
   "cell_type": "code",
   "execution_count": null,
   "metadata": {},
   "outputs": [],
   "source": [
    "all_briefs[all_briefs.projectRcn == 101244]"
   ]
  },
  {
   "cell_type": "markdown",
   "metadata": {},
   "source": [
    "### Coordinator in UK\n",
    "\n",
    "This one is also interesting in that it seems to have a lot of duplicate records that don't have titles, for some reason. We will need to filter those out."
   ]
  },
  {
   "cell_type": "code",
   "execution_count": null,
   "metadata": {},
   "outputs": [],
   "source": [
    "uk_projects[uk_projects.rcn == 99464]"
   ]
  },
  {
   "cell_type": "code",
   "execution_count": null,
   "metadata": {},
   "outputs": [],
   "source": [
    "uk_organizations[uk_organizations.projectRcn == 99464]"
   ]
  },
  {
   "cell_type": "code",
   "execution_count": null,
   "metadata": {},
   "outputs": [],
   "source": [
    "uk_organizations[uk_organizations.projectRcn == 99464].ecContribution.unique().sum()"
   ]
  },
  {
   "cell_type": "code",
   "execution_count": null,
   "metadata": {},
   "outputs": [],
   "source": [
    "all_briefs[all_briefs.projectRcn == 99464]"
   ]
  },
  {
   "cell_type": "markdown",
   "metadata": {},
   "source": [
    "## Duplicate Projects\n",
    "\n",
    "It looks like it's safe to just drop projects without titles; those seem to be the only duplicates."
   ]
  },
  {
   "cell_type": "code",
   "execution_count": null,
   "metadata": {},
   "outputs": [],
   "source": [
    "[uk_projects.rcn.nunique(), uk_projects.id.nunique(), uk_projects.shape]"
   ]
  },
  {
   "cell_type": "code",
   "execution_count": null,
   "metadata": {},
   "outputs": [],
   "source": [
    "uk_projects[uk_projects.duplicated('rcn', keep=False)]"
   ]
  },
  {
   "cell_type": "code",
   "execution_count": null,
   "metadata": {},
   "outputs": [],
   "source": [
    "uk_projects[pd.isnull(uk_projects.title)]"
   ]
  },
  {
   "cell_type": "code",
   "execution_count": null,
   "metadata": {},
   "outputs": [],
   "source": [
    "clean_projects = uk_projects[~pd.isnull(uk_projects.title)].copy()\n",
    "# Could include coordinator and participants... would need some extra cleaning.\n",
    "clean_projects.drop([\n",
    "    'id', 'programme', 'topics', 'frameworkProgramme', 'call',\n",
    "    'fundingScheme', 'coordinator', 'participants', 'subjects'\n",
    "], axis=1, inplace=True)\n",
    "clean_projects.rename(columns={\n",
    "    'startDate': 'start_date',\n",
    "    'endDate': 'end_date',\n",
    "    'projectUrl': 'project_url',\n",
    "    'totalCost': 'total_cost_eur',\n",
    "    'ecMaxContribution': 'max_contribution_eur',\n",
    "    'coordinatorCountry': 'coordinator_country',\n",
    "    'participantCountries': 'participant_countries'\n",
    "}, inplace=True)\n",
    "clean_projects.shape"
   ]
  },
  {
   "cell_type": "code",
   "execution_count": null,
   "metadata": {},
   "outputs": [],
   "source": [
    "clean_projects.describe()"
   ]
  },
  {
   "cell_type": "code",
   "execution_count": null,
   "metadata": {},
   "outputs": [],
   "source": [
    "clean_projects.head()"
   ]
  },
  {
   "cell_type": "markdown",
   "metadata": {},
   "source": [
    "## Check Project Columns"
   ]
  },
  {
   "cell_type": "code",
   "execution_count": null,
   "metadata": {},
   "outputs": [],
   "source": [
    "clean_projects.count()"
   ]
  },
  {
   "cell_type": "markdown",
   "metadata": {},
   "source": [
    "### Acronym\n",
    "\n",
    "Just missing one."
   ]
  },
  {
   "cell_type": "code",
   "execution_count": null,
   "metadata": {},
   "outputs": [],
   "source": [
    "clean_projects[clean_projects.acronym.isna()]"
   ]
  },
  {
   "cell_type": "markdown",
   "metadata": {},
   "source": [
    "### Status\n",
    "\n",
    "Some projects are listed as cancelled. It's not clear what this means exactly. Spot checks reveal that some of them apparently received at least partial funding and delivered some results, so it does not seem appropriate to remove them altogether.\n",
    "\n",
    "- https://cordis.europa.eu/result/rcn/237795_en.html (TORTELLEX)\n",
    "- https://cordis.europa.eu/result/rcn/196663_en.html (YSCHILLER)\n",
    "- https://cordis.europa.eu/project/rcn/188111_en.html (MICARTREGEN) - no results"
   ]
  },
  {
   "cell_type": "code",
   "execution_count": null,
   "metadata": {},
   "outputs": [],
   "source": [
    "clean_projects.status.value_counts()"
   ]
  },
  {
   "cell_type": "code",
   "execution_count": null,
   "metadata": {},
   "outputs": [],
   "source": [
    "clean_projects[clean_projects.status == 'CAN'].head()"
   ]
  },
  {
   "cell_type": "markdown",
   "metadata": {},
   "source": [
    "### Title"
   ]
  },
  {
   "cell_type": "code",
   "execution_count": null,
   "metadata": {},
   "outputs": [],
   "source": [
    "(clean_projects.title.str.strip() != clean_projects.title).sum()"
   ]
  },
  {
   "cell_type": "markdown",
   "metadata": {},
   "source": [
    "### Start and End Dates\n",
    "\n",
    "Some are missing. Discard for now. There is some overlap with the cancelled projects, but it is not exact."
   ]
  },
  {
   "cell_type": "code",
   "execution_count": null,
   "metadata": {},
   "outputs": [],
   "source": [
    "(clean_projects.start_date.isna() | clean_projects.end_date.isna()).sum()"
   ]
  },
  {
   "cell_type": "code",
   "execution_count": null,
   "metadata": {},
   "outputs": [],
   "source": [
    "((clean_projects.status == 'CAN') & (clean_projects.start_date.isna() | clean_projects.end_date.isna())).sum()"
   ]
  },
  {
   "cell_type": "code",
   "execution_count": null,
   "metadata": {},
   "outputs": [],
   "source": [
    "((clean_projects.status != 'CAN') & (clean_projects.start_date.isna() | clean_projects.end_date.isna())).sum()"
   ]
  },
  {
   "cell_type": "code",
   "execution_count": null,
   "metadata": {},
   "outputs": [],
   "source": [
    "clean_projects = clean_projects[\n",
    "    ~clean_projects.start_date.isna() | ~clean_projects.end_date.isna()\n",
    "]\n",
    "clean_projects.shape"
   ]
  },
  {
   "cell_type": "code",
   "execution_count": null,
   "metadata": {},
   "outputs": [],
   "source": [
    "(clean_projects.start_date > clean_projects.end_date).sum()"
   ]
  },
  {
   "cell_type": "markdown",
   "metadata": {},
   "source": [
    "### Project URL\n",
    "\n",
    "Looks pretty clean."
   ]
  },
  {
   "cell_type": "code",
   "execution_count": null,
   "metadata": {},
   "outputs": [],
   "source": [
    "(~clean_projects.project_url.isna()).sum()"
   ]
  },
  {
   "cell_type": "code",
   "execution_count": null,
   "metadata": {},
   "outputs": [],
   "source": [
    "def is_valid_url(url):\n",
    "    result = urllib.parse.urlparse(str(url))\n",
    "    return bool((result.scheme == 'http' or result.scheme == 'https') and result.netloc)\n",
    "\n",
    "project_url_bad = ~clean_projects.project_url.isna() & ~clean_projects.project_url.apply(is_valid_url)\n",
    "project_url_bad.sum()"
   ]
  },
  {
   "cell_type": "code",
   "execution_count": null,
   "metadata": {},
   "outputs": [],
   "source": [
    "clean_projects[project_url_bad]"
   ]
  },
  {
   "cell_type": "code",
   "execution_count": null,
   "metadata": {},
   "outputs": [],
   "source": [
    "clean_projects.loc[project_url_bad, 'project_url'] = 'http://' + clean_projects.loc[project_url_bad, 'project_url']"
   ]
  },
  {
   "cell_type": "code",
   "execution_count": null,
   "metadata": {},
   "outputs": [],
   "source": [
    "(~clean_projects.project_url.isna() & ~clean_projects.project_url.apply(is_valid_url)).sum()"
   ]
  },
  {
   "cell_type": "markdown",
   "metadata": {},
   "source": [
    "### Objective"
   ]
  },
  {
   "cell_type": "code",
   "execution_count": null,
   "metadata": {},
   "outputs": [],
   "source": [
    "(clean_projects.objective.str.strip() != clean_projects.objective).sum()"
   ]
  },
  {
   "cell_type": "code",
   "execution_count": null,
   "metadata": {},
   "outputs": [],
   "source": [
    "clean_projects.objective = clean_projects.objective.str.strip()"
   ]
  },
  {
   "cell_type": "markdown",
   "metadata": {},
   "source": [
    "### Total Cost and EC Max Contribution"
   ]
  },
  {
   "cell_type": "code",
   "execution_count": null,
   "metadata": {},
   "outputs": [],
   "source": [
    "clean_projects.total_cost_eur.describe()"
   ]
  },
  {
   "cell_type": "code",
   "execution_count": null,
   "metadata": {},
   "outputs": [],
   "source": [
    "clean_projects.max_contribution_eur.describe()"
   ]
  },
  {
   "cell_type": "code",
   "execution_count": null,
   "metadata": {},
   "outputs": [],
   "source": [
    "(clean_projects.max_contribution_eur > clean_projects.total_cost_eur).sum()"
   ]
  },
  {
   "cell_type": "markdown",
   "metadata": {},
   "source": [
    "## Clean Up Organizations\n",
    "\n",
    "I notice several issues:\n",
    "\n",
    "- Some are missing IDs (but do have postcodes)\n",
    "- Some are missing postcodes\n",
    "- Some postcodes are clearly typo'd (digit substitutions, etc);\n",
    "- Some postcodes have been terminated (searched for them with google)\n",
    "\n",
    "There are only 2993 unique organization IDs, so this is probably the result of a join.\n",
    "\n",
    "For now, drop all organizations that don't have both an ID and a valid postcode. (It does look possible to match names to find IDs, and many without postcodes still have addresses, which we could geocode.)\n",
    "\n",
    "Would be interesting to try this: https://codereview.stackexchange.com/questions/117801/uk-postcode-validation-and-format-correction-tool"
   ]
  },
  {
   "cell_type": "code",
   "execution_count": null,
   "metadata": {},
   "outputs": [],
   "source": [
    "[\n",
    "    uk_organizations.shape,\n",
    "    uk_organizations.id.notna().sum(),\n",
    "    uk_organizations.id.isna().sum(),\n",
    "    uk_organizations.id[uk_organizations.id.notna()].nunique(),\n",
    "    uk_organizations.postCode.isna().sum(),\n",
    "    uk_organizations.postCode[uk_organizations.postCode.notna()].nunique()\n",
    "]"
   ]
  },
  {
   "cell_type": "code",
   "execution_count": null,
   "metadata": {},
   "outputs": [],
   "source": [
    "organizations = uk_organizations[uk_organizations.id.notna() & uk_organizations.postCode.notna()].copy()\n",
    "organizations.id = organizations.id.astype('int64')\n",
    "organizations.postCode = organizations.postCode.astype('str')\n",
    "[\n",
    "    organizations.shape,\n",
    "    organizations.id.nunique(),\n",
    "    organizations.postCode.nunique()\n",
    "]"
   ]
  },
  {
   "cell_type": "code",
   "execution_count": null,
   "metadata": {},
   "outputs": [],
   "source": [
    "ukpostcodes = pd.read_csv('../postcodes/input/ukpostcodes.csv.gz')\n",
    "ukpostcodes.shape"
   ]
  },
  {
   "cell_type": "code",
   "execution_count": null,
   "metadata": {},
   "outputs": [],
   "source": [
    "organizations.postCode.isin(ukpostcodes.postcode).sum()"
   ]
  },
  {
   "cell_type": "code",
   "execution_count": null,
   "metadata": {},
   "outputs": [],
   "source": [
    "organizations['cleanPostcode'] = organizations.postCode.\\\n",
    "    str.upper().\\\n",
    "    str.strip().\\\n",
    "    str.replace(r'[^A-Z0-9]', '').\\\n",
    "    str.replace(r'^(\\S+)([0-9][A-Z]{2})$', r'\\1 \\2')"
   ]
  },
  {
   "cell_type": "code",
   "execution_count": null,
   "metadata": {},
   "outputs": [],
   "source": [
    "organizations.cleanPostcode.isin(ukpostcodes.postcode).sum()"
   ]
  },
  {
   "cell_type": "code",
   "execution_count": null,
   "metadata": {},
   "outputs": [],
   "source": [
    "organizations.cleanPostcode[~organizations.cleanPostcode.isin(ukpostcodes.postcode)].unique()"
   ]
  },
  {
   "cell_type": "code",
   "execution_count": null,
   "metadata": {},
   "outputs": [],
   "source": [
    "organizations = organizations[organizations.cleanPostcode.isin(ukpostcodes.postcode)]\n",
    "organizations.shape"
   ]
  },
  {
   "cell_type": "code",
   "execution_count": null,
   "metadata": {},
   "outputs": [],
   "source": [
    "clean_projects = clean_projects[clean_projects.rcn.isin(organizations.projectRcn)]\n",
    "clean_projects.shape"
   ]
  },
  {
   "cell_type": "markdown",
   "metadata": {},
   "source": [
    "## Clean Up Duplicate Organizations\n",
    "\n",
    "I think there is also a join on the contacts, because we get multiple rows for some project-organization pairs. The main thing is that we want the `ecContribution` to be consistent. Otherwise, any row will do."
   ]
  },
  {
   "cell_type": "code",
   "execution_count": null,
   "metadata": {},
   "outputs": [],
   "source": [
    "organizations.sort_values(['projectRcn', 'id']).\\\n",
    "    groupby(['projectRcn', 'id']).\\\n",
    "    filter(lambda x: x.shape[0] > 1)"
   ]
  },
  {
   "cell_type": "code",
   "execution_count": null,
   "metadata": {},
   "outputs": [],
   "source": [
    "organizations.groupby(['projectRcn', 'id']).\\\n",
    "    filter(lambda x: x.ecContribution.nunique() > 1).shape"
   ]
  },
  {
   "cell_type": "code",
   "execution_count": null,
   "metadata": {},
   "outputs": [],
   "source": [
    "clean_organizations = organizations.groupby(['projectRcn', 'id']).first()\n",
    "clean_organizations.reset_index(inplace=True)\n",
    "clean_organizations.drop([\n",
    "    'projectID', 'projectAcronym', 'shortName', 'activityType', 'endOfParticipation',\n",
    "    'country', 'street', 'city', 'postCode',\n",
    "    'contactType', 'contactTitle', 'contactFirstNames', 'contactLastNames',\n",
    "    'contactFunction', 'contactTelephoneNumber', 'contactFaxNumber', 'contactEmail'\n",
    "], axis=1, inplace=True)\n",
    "clean_organizations.rename({\n",
    "    'projectRcn': 'project_rcn',\n",
    "    'id': 'organization_id',\n",
    "    'ecContribution': 'contribution_eur',\n",
    "    'organizationUrl': 'organization_url',\n",
    "    'cleanPostcode': 'postcode'\n",
    "}, axis=1, inplace=True)\n",
    "clean_organizations.name = clean_organizations.name.apply(titlecase)\n",
    "clean_organizations.shape"
   ]
  },
  {
   "cell_type": "code",
   "execution_count": null,
   "metadata": {},
   "outputs": [],
   "source": [
    "clean_organizations.head()"
   ]
  },
  {
   "cell_type": "markdown",
   "metadata": {},
   "source": [
    "## Check Organisations"
   ]
  },
  {
   "cell_type": "code",
   "execution_count": null,
   "metadata": {},
   "outputs": [],
   "source": [
    "clean_organizations.count()"
   ]
  },
  {
   "cell_type": "markdown",
   "metadata": {},
   "source": [
    "### Role"
   ]
  },
  {
   "cell_type": "code",
   "execution_count": null,
   "metadata": {},
   "outputs": [],
   "source": [
    "clean_organizations.role.value_counts()"
   ]
  },
  {
   "cell_type": "markdown",
   "metadata": {},
   "source": [
    "### Name"
   ]
  },
  {
   "cell_type": "code",
   "execution_count": null,
   "metadata": {},
   "outputs": [],
   "source": [
    "(clean_organizations.name.str.strip() != clean_organizations.name).sum()"
   ]
  },
  {
   "cell_type": "markdown",
   "metadata": {},
   "source": [
    "### Contribution EUR\n",
    "\n",
    "Missing for some organisations."
   ]
  },
  {
   "cell_type": "code",
   "execution_count": null,
   "metadata": {},
   "outputs": [],
   "source": [
    "clean_organizations.contribution_eur.describe()"
   ]
  },
  {
   "cell_type": "code",
   "execution_count": null,
   "metadata": {},
   "outputs": [],
   "source": [
    "clean_organizations.contribution_eur.isna().sum()"
   ]
  },
  {
   "cell_type": "markdown",
   "metadata": {},
   "source": [
    "### Organisation URL\n",
    "\n",
    "Mostly clean. Found a couple with a `;` delimiting two URLs, neither of which resolved, so we can get rid of those."
   ]
  },
  {
   "cell_type": "code",
   "execution_count": null,
   "metadata": {},
   "outputs": [],
   "source": [
    "(~clean_organizations.organization_url.isna()).sum()"
   ]
  },
  {
   "cell_type": "code",
   "execution_count": null,
   "metadata": {},
   "outputs": [],
   "source": [
    "organization_url_bad = ~clean_organizations.organization_url.isna() & \\\n",
    "    ~clean_organizations.organization_url.apply(is_valid_url)\n",
    "organization_url_bad.sum()"
   ]
  },
  {
   "cell_type": "code",
   "execution_count": null,
   "metadata": {},
   "outputs": [],
   "source": [
    "clean_organizations.loc[organization_url_bad, 'organization_url'] = \\\n",
    "    'http://' + clean_organizations.loc[organization_url_bad, 'organization_url']"
   ]
  },
  {
   "cell_type": "code",
   "execution_count": null,
   "metadata": {},
   "outputs": [],
   "source": [
    "organization_url_bad = ~clean_organizations.organization_url.isna() & \\\n",
    "    ~clean_organizations.organization_url.apply(is_valid_url)\n",
    "organization_url_bad.sum()"
   ]
  },
  {
   "cell_type": "code",
   "execution_count": null,
   "metadata": {},
   "outputs": [],
   "source": [
    "clean_organizations[\n",
    "    ~clean_organizations.organization_url.isna() & \\\n",
    "    clean_organizations.organization_url.str.match('http.*http')].organization_url.unique()"
   ]
  },
  {
   "cell_type": "code",
   "execution_count": null,
   "metadata": {},
   "outputs": [],
   "source": [
    "clean_organizations.loc[\n",
    "    ~clean_organizations.organization_url.isna() & \\\n",
    "    clean_organizations.organization_url.str.match('http.*http'), 'organization_url'] = float('nan')"
   ]
  },
  {
   "cell_type": "markdown",
   "metadata": {},
   "source": [
    "## Briefs\n",
    "\n",
    "Might as well merge these into the projects where we have them. We have a few duplicates to take care of."
   ]
  },
  {
   "cell_type": "code",
   "execution_count": null,
   "metadata": {},
   "outputs": [],
   "source": [
    "clean_briefs = uk_briefs[\n",
    "    uk_briefs.projectRcn.isin(clean_projects.rcn) &\\\n",
    "    (uk_briefs.title.notna() | uk_briefs.teaser.notna() | uk_briefs.article.notna())\n",
    "].copy()\n",
    "clean_briefs.shape"
   ]
  },
  {
   "cell_type": "code",
   "execution_count": null,
   "metadata": {},
   "outputs": [],
   "source": [
    "clean_briefs[clean_briefs.projectRcn.duplicated(keep=False)]"
   ]
  },
  {
   "cell_type": "code",
   "execution_count": null,
   "metadata": {},
   "outputs": [],
   "source": [
    "clean_briefs = clean_briefs.sort_values('lastUpdateDate')\n",
    "clean_briefs = clean_briefs[~clean_briefs.projectRcn.duplicated(keep='last')]\n",
    "clean_briefs.shape"
   ]
  },
  {
   "cell_type": "code",
   "execution_count": null,
   "metadata": {},
   "outputs": [],
   "source": [
    "clean_briefs.drop([\n",
    "    'rcn', 'language', 'lastUpdateDate', 'country', 'projectAcronym',\n",
    "    'programme', 'topics', 'relatedReportRcn'\n",
    "], axis=1, inplace=True)\n",
    "clean_briefs.rename({\n",
    "    'projectRcn': 'rcn',\n",
    "    'title': 'brief_title',\n",
    "    'relatedReportTitle': 'related_report_title',\n",
    "    'imageUri': 'image_path'\n",
    "}, axis=1, inplace=True)\n",
    "clean_briefs.head()"
   ]
  },
  {
   "cell_type": "code",
   "execution_count": null,
   "metadata": {},
   "outputs": [],
   "source": [
    "clean_projects_with_briefs = pd.merge(\n",
    "    clean_projects, clean_briefs, on='rcn', how='left', validate='1:1'\n",
    ")\n",
    "clean_projects_with_briefs.head()"
   ]
  },
  {
   "cell_type": "markdown",
   "metadata": {},
   "source": [
    "## Checks"
   ]
  },
  {
   "cell_type": "code",
   "execution_count": null,
   "metadata": {},
   "outputs": [],
   "source": [
    "clean_organizations[clean_organizations.project_rcn == 101244]"
   ]
  },
  {
   "cell_type": "code",
   "execution_count": null,
   "metadata": {},
   "outputs": [],
   "source": [
    "clean_projects_with_briefs[clean_projects_with_briefs.rcn == 101244]"
   ]
  },
  {
   "cell_type": "code",
   "execution_count": null,
   "metadata": {},
   "outputs": [],
   "source": [
    "clean_organizations[clean_organizations.project_rcn == 99464]"
   ]
  },
  {
   "cell_type": "code",
   "execution_count": null,
   "metadata": {},
   "outputs": [],
   "source": [
    "clean_projects_with_briefs[clean_projects_with_briefs.rcn == 99464]"
   ]
  },
  {
   "cell_type": "code",
   "execution_count": null,
   "metadata": {},
   "outputs": [],
   "source": [
    "project_organizations = pd.merge(\n",
    "    clean_projects_with_briefs, clean_organizations,\n",
    "    left_on='rcn', right_on='project_rcn', validate='1:m')\n",
    "project_organizations.drop(['project_rcn'], axis=1, inplace=True)\n",
    "project_organizations.shape"
   ]
  },
  {
   "cell_type": "code",
   "execution_count": null,
   "metadata": {},
   "outputs": [],
   "source": [
    "project_organizations.head()"
   ]
  },
  {
   "cell_type": "code",
   "execution_count": null,
   "metadata": {},
   "outputs": [],
   "source": [
    "uk_contributions = project_organizations.groupby('rcn').aggregate({'contribution_eur': sum})\n",
    "uk_contributions.reset_index(inplace=True)\n",
    "uk_contributions.head()"
   ]
  },
  {
   "cell_type": "code",
   "execution_count": null,
   "metadata": {},
   "outputs": [],
   "source": [
    "project_uk_contributions = pd.merge(\n",
    "    clean_projects_with_briefs,\n",
    "    uk_contributions,\n",
    "    on='rcn', validate='1:1')\n",
    "project_uk_contributions.head()"
   ]
  },
  {
   "cell_type": "code",
   "execution_count": null,
   "metadata": {},
   "outputs": [],
   "source": [
    "project_uk_contributions[project_uk_contributions.contribution_eur > project_uk_contributions.max_contribution_eur + 0.1].shape"
   ]
  },
  {
   "cell_type": "code",
   "execution_count": null,
   "metadata": {},
   "outputs": [],
   "source": [
    "project_organization_uk_contributions = pd.merge(\n",
    "    project_uk_contributions, clean_organizations,\n",
    "    left_on='rcn', right_on='project_rcn', validate='1:m'\n",
    ")\n",
    "project_organization_uk_contributions = pd.merge(\n",
    "    project_organization_uk_contributions, ukpostcodes, on='postcode', validate='m:1'\n",
    ")\n",
    "project_organization_uk_contributions.shape"
   ]
  },
  {
   "cell_type": "code",
   "execution_count": null,
   "metadata": {},
   "outputs": [],
   "source": [
    "project_organization_uk_contributions.head()"
   ]
  },
  {
   "cell_type": "code",
   "execution_count": null,
   "metadata": {},
   "outputs": [],
   "source": [
    "(project_uk_contributions.contribution_eur < 1000).value_counts()"
   ]
  },
  {
   "cell_type": "markdown",
   "metadata": {},
   "source": [
    "### Add Numbers of Organisations and Countries\n",
    "\n",
    "Add these back on and do a sanity check against the `participant_countries` field. They mostly match up, except for a few relatively small discrepancies. "
   ]
  },
  {
   "cell_type": "code",
   "execution_count": null,
   "metadata": {},
   "outputs": [],
   "source": [
    "clean_projects_with_briefs.shape"
   ]
  },
  {
   "cell_type": "code",
   "execution_count": null,
   "metadata": {},
   "outputs": [],
   "source": [
    "clean_projects_with_briefs = pd.merge(\n",
    "    clean_projects_with_briefs, project_num_organizations_and_countries,\n",
    "    left_on='rcn', right_on='projectRcn', validate='1:1')\n",
    "clean_projects_with_briefs.drop('projectRcn', axis=1, inplace=True)\n",
    "clean_projects_with_briefs.shape"
   ]
  },
  {
   "cell_type": "code",
   "execution_count": null,
   "metadata": {},
   "outputs": [],
   "source": [
    "clean_projects_with_briefs.head()"
   ]
  },
  {
   "cell_type": "code",
   "execution_count": null,
   "metadata": {},
   "outputs": [],
   "source": [
    "[\n",
    "    clean_projects_with_briefs.num_countries.isna().sum(),\n",
    "    clean_projects_with_briefs.coordinator_country.isna().sum(),\n",
    "    clean_projects_with_briefs.participant_countries.isna().sum()\n",
    "]"
   ]
  },
  {
   "cell_type": "code",
   "execution_count": null,
   "metadata": {},
   "outputs": [],
   "source": [
    "def check_num_countries():\n",
    "    ccs = clean_projects_with_briefs.coordinator_country\n",
    "    pcs = clean_projects_with_briefs.participant_countries\n",
    "    ncs = clean_projects_with_briefs.num_countries\n",
    "    pcs_isna = pcs.isna()\n",
    "    \n",
    "    coordinator_mismatch = clean_projects_with_briefs[pcs_isna][ncs[pcs_isna] != 1].copy()\n",
    "    coordinator_mismatch['check'] = 1\n",
    "    \n",
    "    cs = ccs[~pcs_isna] + ';' + pcs[~pcs_isna]\n",
    "    check_ncs = cs.apply(lambda x: len(set(x.split(';'))))\n",
    "    \n",
    "    participant_mismatch = clean_projects_with_briefs[~pcs_isna][ncs[~pcs_isna] != check_ncs].copy()\n",
    "    participant_mismatch['check'] = check_ncs\n",
    "    \n",
    "    return pd.concat([coordinator_mismatch, participant_mismatch])\\\n",
    "        [['rcn', 'coordinator_country', 'participant_countries', 'num_countries', 'check', 'num_organizations']]\n",
    "check_num_countries()"
   ]
  },
  {
   "cell_type": "code",
   "execution_count": null,
   "metadata": {},
   "outputs": [],
   "source": [
    "all_organizations.country[all_organizations.projectRcn == 100467].unique()"
   ]
  },
  {
   "cell_type": "code",
   "execution_count": null,
   "metadata": {},
   "outputs": [],
   "source": [
    "all_organizations.country[all_organizations.projectRcn == 203681].unique()"
   ]
  },
  {
   "cell_type": "code",
   "execution_count": null,
   "metadata": {},
   "outputs": [],
   "source": [
    "all_organizations.country[all_organizations.projectRcn == 90982].unique()"
   ]
  },
  {
   "cell_type": "markdown",
   "metadata": {},
   "source": [
    "I suspect a problem with handling of `NA`; that is a valid code (Namibia), but maybe in some cases it is being used for Not Available."
   ]
  },
  {
   "cell_type": "markdown",
   "metadata": {},
   "source": [
    "### Convert to GBP"
   ]
  },
  {
   "cell_type": "code",
   "execution_count": null,
   "metadata": {},
   "outputs": [],
   "source": [
    "eur_gbp = pd.read_pickle('../exchange_rates/output/exchange_rates.pkl.gz')\n",
    "eur_gbp.tail()"
   ]
  },
  {
   "cell_type": "code",
   "execution_count": null,
   "metadata": {},
   "outputs": [],
   "source": [
    "def find_average_eur_gbp_rate(row):\n",
    "    # create timeseries from start to end\n",
    "    days = pd.date_range(row.start_date, row.end_date, closed='left')\n",
    "    daily = pd.DataFrame({\n",
    "        'month_start': days,\n",
    "        'weight': 1.0 / days.shape[0]\n",
    "    })\n",
    "    monthly = daily.resample('MS', on='month_start').sum()\n",
    "    monthly = pd.merge(monthly, eur_gbp, on='month_start', validate='1:1')\n",
    "    return (monthly.weight * monthly.rate).sum()\n",
    "\n",
    "clean_projects_with_briefs['eur_gbp'] = \\\n",
    "    clean_projects_with_briefs.apply(\n",
    "        find_average_eur_gbp_rate, axis=1, result_type='reduce')"
   ]
  },
  {
   "cell_type": "code",
   "execution_count": null,
   "metadata": {},
   "outputs": [],
   "source": [
    "clean_projects_with_briefs.head()"
   ]
  },
  {
   "cell_type": "markdown",
   "metadata": {},
   "source": [
    "## Save Data"
   ]
  },
  {
   "cell_type": "code",
   "execution_count": null,
   "metadata": {},
   "outputs": [],
   "source": [
    "clean_projects_with_briefs.to_pickle('output/fp7_projects.pkl.gz')"
   ]
  },
  {
   "cell_type": "code",
   "execution_count": null,
   "metadata": {},
   "outputs": [],
   "source": [
    "clean_organizations.to_pickle('output/fp7_organizations.pkl.gz')"
   ]
  }
 ],
 "metadata": {
  "kernelspec": {
   "display_name": "Python 3",
   "language": "python",
   "name": "python3"
  },
  "language_info": {
   "codemirror_mode": {
    "name": "ipython",
    "version": 3
   },
   "file_extension": ".py",
   "mimetype": "text/x-python",
   "name": "python",
   "nbconvert_exporter": "python",
   "pygments_lexer": "ipython3",
   "version": "3.6.5"
  }
 },
 "nbformat": 4,
 "nbformat_minor": 2
}
