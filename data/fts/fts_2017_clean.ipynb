{
 "cells": [
  {
   "cell_type": "code",
   "execution_count": null,
   "metadata": {},
   "outputs": [],
   "source": [
    "import json\n",
    "\n",
    "import pandas as pd\n",
    "import numpy as np\n",
    "\n",
    "pd.set_option('display.max_columns', 50)\n",
    "pd.set_option('display.max_colwidth', 100)"
   ]
  },
  {
   "cell_type": "markdown",
   "metadata": {},
   "source": [
    "## Load Data and Restrict to UK"
   ]
  },
  {
   "cell_type": "code",
   "execution_count": null,
   "metadata": {},
   "outputs": [],
   "source": [
    "#import the data for 2017\n",
    "fts_bgue_2017 = pd.read_excel('input/export_2017_en.xlsx')\n",
    "fts_bgue_2017.shape"
   ]
  },
  {
   "cell_type": "code",
   "execution_count": null,
   "metadata": {},
   "outputs": [],
   "source": [
    "fts_bgue_2017.columns"
   ]
  },
  {
   "cell_type": "code",
   "execution_count": null,
   "metadata": {},
   "outputs": [],
   "source": [
    "#rename columns to more usable format\n",
    "\n",
    "fts_bgue_2017=fts_bgue_2017.rename(index=str, columns={'Country / Territory': 'country', \n",
    "        'Reference of the Legal Commitment (LC)': 'reference_of_lc', \n",
    "        'Commitment position key': 'commitment_position_key',\n",
    "        'Type': 'type',\n",
    "       'Year': 'year',\n",
    "       'Name of beneficiary': 'beneficiary',\n",
    "        'Coordinator': 'coordinator',\n",
    "       'VAT Number of beneficiary': 'beneficiary_vat', \n",
    "        'Postal code': 'raw_postcode',\n",
    "        'Amount': 'amount',\n",
    "       'Source of (estimated) detailed amount': 'source_of_amount', \n",
    "        'Geographical Zone': 'geographical_zone',\n",
    "       'Expense Type': 'expense_type', \n",
    "        'Total amount': 'total_amount', \n",
    "        'Subject of grant or contract':'subject_of_grant_or_contract',\n",
    "       'Responsible Department': 'responsible_department', \n",
    "        'Budget line name and number': 'budget_line_name_and_number', 'Action Type': 'action_type',\n",
    "       'Funding Type': 'funding_type', 'LE Acct Group Code': 'le_acct_group_code', \n",
    "        'LE Acct Group Desc': 'le_acct_group_desc'})"
   ]
  },
  {
   "cell_type": "code",
   "execution_count": null,
   "metadata": {},
   "outputs": [],
   "source": [
    "# The `total_amount` comes up zero rather than NA when the cell is unmerged.\n",
    "fts_bgue_2017.total_amount.isna().sum()"
   ]
  },
  {
   "cell_type": "code",
   "execution_count": null,
   "metadata": {},
   "outputs": [],
   "source": [
    "# Is it safe to replace zeros with NaNs and then fill?\n",
    "cps_total_amounts = fts_bgue_2017.groupby('commitment_position_key', sort=False).aggregate({'total_amount': sum})\n",
    "nonzero_total_amounts = fts_bgue_2017.total_amount[fts_bgue_2017.total_amount > 0]\n",
    "[\n",
    "    cps_total_amounts.total_amount.shape[0],\n",
    "    nonzero_total_amounts.values.shape[0],    \n",
    "    (cps_total_amounts.total_amount.values == nonzero_total_amounts.values).sum()\n",
    "]"
   ]
  },
  {
   "cell_type": "code",
   "execution_count": null,
   "metadata": {},
   "outputs": [],
   "source": [
    "fts_bgue_2017.loc[fts_bgue_2017.total_amount == 0, 'total_amount'] = float('nan')"
   ]
  },
  {
   "cell_type": "code",
   "execution_count": null,
   "metadata": {},
   "outputs": [],
   "source": [
    "fts_bgue_2017[fts_bgue_2017.reference_of_lc == 'JAG.105092']"
   ]
  },
  {
   "cell_type": "code",
   "execution_count": null,
   "metadata": {},
   "outputs": [],
   "source": [
    "#forward fill amounts, as there are merged cells in the original 2017 database which are being filled with NaNs\n",
    "\n",
    "\n",
    "fts_bgue_2017.commitment_position_key = pd.Series(fts_bgue_2017.commitment_position_key).fillna(method='ffill')\n",
    "fts_bgue_2017.year = pd.Series(fts_bgue_2017.year).fillna(method='ffill')\n",
    "fts_bgue_2017.expense_type = pd.Series(fts_bgue_2017.expense_type).fillna(method='ffill')\n",
    "fts_bgue_2017.total_amount = fts_bgue_2017.total_amount.fillna(method='ffill')\n",
    "fts_bgue_2017.subject_of_grant_or_contract = pd.Series(fts_bgue_2017.subject_of_grant_or_contract).fillna(method='ffill')\n",
    "fts_bgue_2017.responsible_department = pd.Series(fts_bgue_2017.responsible_department).fillna(method='ffill')\n",
    "fts_bgue_2017.budget_line_name_and_number = pd.Series(fts_bgue_2017.budget_line_name_and_number).fillna(method='ffill')\n",
    "fts_bgue_2017.action_type = pd.Series(fts_bgue_2017.action_type).fillna(method='ffill')\n",
    "fts_bgue_2017.funding_type = pd.Series(fts_bgue_2017.funding_type).fillna(method='ffill')\n"
   ]
  },
  {
   "cell_type": "code",
   "execution_count": null,
   "metadata": {},
   "outputs": [],
   "source": [
    "#filter just UK funding\n",
    "\n",
    "fts = fts_bgue_2017[fts_bgue_2017.country == 'United Kingdom']\n",
    "fts.shape"
   ]
  },
  {
   "cell_type": "markdown",
   "metadata": {},
   "source": [
    "## Columns\n",
    "\n",
    "### `reference_of_lc`"
   ]
  },
  {
   "cell_type": "code",
   "execution_count": null,
   "metadata": {},
   "outputs": [],
   "source": [
    "#is this column being used at all?\n",
    "fts_bgue_2017.reference_of_lc.unique()"
   ]
  },
  {
   "cell_type": "markdown",
   "metadata": {},
   "source": [
    "Oh, it is in the 2017 data, interesting, wasn't there in the 2016 data"
   ]
  },
  {
   "cell_type": "markdown",
   "metadata": {},
   "source": [
    "### `year`\n"
   ]
  },
  {
   "cell_type": "code",
   "execution_count": null,
   "metadata": {},
   "outputs": [],
   "source": [
    "fts.year.isna().sum()"
   ]
  },
  {
   "cell_type": "code",
   "execution_count": null,
   "metadata": {},
   "outputs": [],
   "source": [
    "fts.year.unique()"
   ]
  },
  {
   "cell_type": "markdown",
   "metadata": {},
   "source": [
    "### `beneficiary`\n",
    "\n",
    "Many seem to have asterisks; we may want to get rid of content after the asterisk."
   ]
  },
  {
   "cell_type": "code",
   "execution_count": null,
   "metadata": {},
   "outputs": [],
   "source": [
    "fts.beneficiary.isna().sum()"
   ]
  },
  {
   "cell_type": "code",
   "execution_count": null,
   "metadata": {},
   "outputs": [],
   "source": [
    "(fts.beneficiary != fts.beneficiary.str.strip()).sum()"
   ]
  },
  {
   "cell_type": "code",
   "execution_count": null,
   "metadata": {},
   "outputs": [],
   "source": [
    "(fts.beneficiary != fts.beneficiary.str.upper()).sum()"
   ]
  },
  {
   "cell_type": "code",
   "execution_count": null,
   "metadata": {},
   "outputs": [],
   "source": [
    "[fts.shape, len(fts.beneficiary.unique())]"
   ]
  },
  {
   "cell_type": "code",
   "execution_count": null,
   "metadata": {},
   "outputs": [],
   "source": [
    "fts.beneficiary.str.contains('*', regex=False).sum()"
   ]
  },
  {
   "cell_type": "code",
   "execution_count": null,
   "metadata": {},
   "outputs": [],
   "source": [
    "fts[fts.beneficiary.str.contains('*', regex=False)].beneficiary.unique()[0:20]"
   ]
  },
  {
   "cell_type": "markdown",
   "metadata": {},
   "source": [
    "### `Type`\n"
   ]
  },
  {
   "cell_type": "code",
   "execution_count": null,
   "metadata": {},
   "outputs": [],
   "source": [
    "fts.type.isna().sum()"
   ]
  },
  {
   "cell_type": "code",
   "execution_count": null,
   "metadata": {},
   "outputs": [],
   "source": [
    "fts.type.unique()"
   ]
  },
  {
   "cell_type": "markdown",
   "metadata": {},
   "source": [
    "### `Coordinator`"
   ]
  },
  {
   "cell_type": "code",
   "execution_count": null,
   "metadata": {},
   "outputs": [],
   "source": [
    "fts.coordinator.isna().sum()"
   ]
  },
  {
   "cell_type": "code",
   "execution_count": null,
   "metadata": {},
   "outputs": [],
   "source": [
    "fts.coordinator.unique()"
   ]
  },
  {
   "cell_type": "markdown",
   "metadata": {},
   "source": [
    "### `amount`\n",
    "\n",
    "Probably what we are most interested in. Missing for some, where only a total amount is known but not the per-beneficiary amount."
   ]
  },
  {
   "cell_type": "code",
   "execution_count": null,
   "metadata": {},
   "outputs": [],
   "source": [
    "[fts.shape, fts.amount.isna().sum()]"
   ]
  },
  {
   "cell_type": "code",
   "execution_count": null,
   "metadata": {},
   "outputs": [],
   "source": [
    "fts.amount.describe()"
   ]
  },
  {
   "cell_type": "code",
   "execution_count": null,
   "metadata": {},
   "outputs": [],
   "source": [
    "(fts.amount == 0).sum()"
   ]
  },
  {
   "cell_type": "code",
   "execution_count": null,
   "metadata": {},
   "outputs": [],
   "source": [
    "fts[fts.amount == 0].head()"
   ]
  },
  {
   "cell_type": "markdown",
   "metadata": {},
   "source": [
    "### `source_of_amount`\n",
    " unlike 2016 data, this is set"
   ]
  },
  {
   "cell_type": "code",
   "execution_count": null,
   "metadata": {},
   "outputs": [],
   "source": [
    "fts.source_of_amount.isna().sum()"
   ]
  },
  {
   "cell_type": "code",
   "execution_count": null,
   "metadata": {},
   "outputs": [],
   "source": [
    "fts.source_of_amount.unique()"
   ]
  },
  {
   "cell_type": "markdown",
   "metadata": {},
   "source": [
    "### `NUTS2`\n"
   ]
  },
  {
   "cell_type": "code",
   "execution_count": null,
   "metadata": {},
   "outputs": [],
   "source": [
    "(~fts.NUTS2.isna()).sum()"
   ]
  },
  {
   "cell_type": "code",
   "execution_count": null,
   "metadata": {},
   "outputs": [],
   "source": [
    "fts[~fts.NUTS2.isna()].head()"
   ]
  },
  {
   "cell_type": "markdown",
   "metadata": {},
   "source": [
    "### `geographical_zone`\n",
    "\n",
    "Present for some international aide projects. May be worth including."
   ]
  },
  {
   "cell_type": "code",
   "execution_count": null,
   "metadata": {},
   "outputs": [],
   "source": [
    "fts.geographical_zone.isna().sum()"
   ]
  },
  {
   "cell_type": "code",
   "execution_count": null,
   "metadata": {},
   "outputs": [],
   "source": [
    "fts.geographical_zone.sort_values().unique()"
   ]
  },
  {
   "cell_type": "code",
   "execution_count": null,
   "metadata": {},
   "outputs": [],
   "source": [
    "fts[~fts.geographical_zone.isna()].head()"
   ]
  },
  {
   "cell_type": "markdown",
   "metadata": {},
   "source": [
    "### `expense_type`"
   ]
  },
  {
   "cell_type": "code",
   "execution_count": null,
   "metadata": {},
   "outputs": [],
   "source": [
    "fts.expense_type.isna().sum()"
   ]
  },
  {
   "cell_type": "code",
   "execution_count": null,
   "metadata": {},
   "outputs": [],
   "source": [
    "fts.expense_type.unique()"
   ]
  },
  {
   "cell_type": "markdown",
   "metadata": {},
   "source": [
    "### `total_amount`\n"
   ]
  },
  {
   "cell_type": "code",
   "execution_count": null,
   "metadata": {},
   "outputs": [],
   "source": [
    "fts.total_amount.isna().sum()"
   ]
  },
  {
   "cell_type": "code",
   "execution_count": null,
   "metadata": {},
   "outputs": [],
   "source": [
    "(fts.amount > fts.total_amount).sum()"
   ]
  },
  {
   "cell_type": "code",
   "execution_count": null,
   "metadata": {},
   "outputs": [],
   "source": [
    "(fts.amount / fts.total_amount).describe()"
   ]
  },
  {
   "cell_type": "code",
   "execution_count": null,
   "metadata": {},
   "outputs": [],
   "source": [
    "fts.loc[(fts.beneficiary_vat == 'GB823847609') & (fts.commitment_position_key == 'JAG.105092.1'), 'total_amount'] = 200_000"
   ]
  },
  {
   "cell_type": "markdown",
   "metadata": {},
   "source": [
    "### `subject_of_grant_or_contract`"
   ]
  },
  {
   "cell_type": "code",
   "execution_count": null,
   "metadata": {},
   "outputs": [],
   "source": [
    "fts.subject_of_grant_or_contract.isna().sum()"
   ]
  },
  {
   "cell_type": "code",
   "execution_count": null,
   "metadata": {},
   "outputs": [],
   "source": [
    "[fts.shape, fts.subject_of_grant_or_contract.unique().shape]"
   ]
  },
  {
   "cell_type": "code",
   "execution_count": null,
   "metadata": {},
   "outputs": [],
   "source": [
    "fts[fts.subject_of_grant_or_contract.duplicated(keep=False)].sort_values('subject_of_grant_or_contract').head()"
   ]
  },
  {
   "cell_type": "markdown",
   "metadata": {},
   "source": [
    "### `responsible_department`"
   ]
  },
  {
   "cell_type": "code",
   "execution_count": null,
   "metadata": {},
   "outputs": [],
   "source": [
    "fts.responsible_department.isna().sum()"
   ]
  },
  {
   "cell_type": "code",
   "execution_count": null,
   "metadata": {},
   "outputs": [],
   "source": [
    "fts.responsible_department.unique().shape"
   ]
  },
  {
   "cell_type": "code",
   "execution_count": null,
   "metadata": {},
   "outputs": [],
   "source": [
    "fts.groupby('responsible_department').size().\\\n",
    "    reset_index(name='size').sort_values('size', ascending=False).head(10)"
   ]
  },
  {
   "cell_type": "markdown",
   "metadata": {},
   "source": [
    "### `budget_line_name_and_number`"
   ]
  },
  {
   "cell_type": "code",
   "execution_count": null,
   "metadata": {},
   "outputs": [],
   "source": [
    "fts.budget_line_name_and_number.isna().sum()"
   ]
  },
  {
   "cell_type": "code",
   "execution_count": null,
   "metadata": {},
   "outputs": [],
   "source": [
    "fts.budget_line_name_and_number.unique().shape"
   ]
  },
  {
   "cell_type": "code",
   "execution_count": null,
   "metadata": {},
   "outputs": [],
   "source": [
    "fts.groupby('budget_line_name_and_number').size().\\\n",
    "    reset_index(name='size').sort_values('size', ascending=False).head(10)"
   ]
  },
  {
   "cell_type": "code",
   "execution_count": null,
   "metadata": {},
   "outputs": [],
   "source": [
    "fts.groupby(['responsible_department', 'budget_line_name_and_number']).size().\\\n",
    "    reset_index(name='size').sort_values('size', ascending=False).head(10)"
   ]
  },
  {
   "cell_type": "markdown",
   "metadata": {},
   "source": [
    "### `action_type`"
   ]
  },
  {
   "cell_type": "code",
   "execution_count": null,
   "metadata": {},
   "outputs": [],
   "source": [
    "fts.action_type.isna().sum()"
   ]
  },
  {
   "cell_type": "code",
   "execution_count": null,
   "metadata": {},
   "outputs": [],
   "source": [
    "fts.action_type.unique().shape"
   ]
  },
  {
   "cell_type": "code",
   "execution_count": null,
   "metadata": {},
   "outputs": [],
   "source": [
    "fts.groupby(['action_type']).size().\\\n",
    "    reset_index(name='size').sort_values('size', ascending=False).head(20)"
   ]
  },
  {
   "cell_type": "markdown",
   "metadata": {},
   "source": [
    "### `funding_type`"
   ]
  },
  {
   "cell_type": "code",
   "execution_count": null,
   "metadata": {},
   "outputs": [],
   "source": [
    "fts.funding_type.isna().sum()"
   ]
  },
  {
   "cell_type": "code",
   "execution_count": null,
   "metadata": {},
   "outputs": [],
   "source": [
    "fts.funding_type.unique()"
   ]
  },
  {
   "cell_type": "markdown",
   "metadata": {},
   "source": [
    "### Drop uninteresting columns"
   ]
  },
  {
   "cell_type": "code",
   "execution_count": null,
   "metadata": {},
   "outputs": [],
   "source": [
    "clean_fts = fts.drop([\n",
    "    'reference_of_lc', 'commitment_position_key', 'year',\n",
    "    'type', 'beneficiary_vat', 'Address', 'City', 'country',\n",
    "    'commitment_position_key', 'source_of_amount',\n",
    "    'le_acct_group_code', 'le_acct_group_desc'\n",
    "], axis=1)\n",
    "clean_fts.head()"
   ]
  },
  {
   "cell_type": "markdown",
   "metadata": {},
   "source": [
    "### `postcode`"
   ]
  },
  {
   "cell_type": "code",
   "execution_count": null,
   "metadata": {},
   "outputs": [],
   "source": [
    "ukpostcodes = pd.read_csv('../postcodes/input/ukpostcodes.csv.gz')\n",
    "ukpostcodes.shape"
   ]
  },
  {
   "cell_type": "code",
   "execution_count": null,
   "metadata": {},
   "outputs": [],
   "source": [
    "clean_fts.raw_postcode.isin(ukpostcodes.postcode).sum()"
   ]
  },
  {
   "cell_type": "code",
   "execution_count": null,
   "metadata": {},
   "outputs": [],
   "source": [
    "clean_fts['postcode'] = clean_fts.raw_postcode.\\\n",
    "    str.upper().\\\n",
    "    str.strip().\\\n",
    "    str.replace(r'[^A-Z0-9]', '').\\\n",
    "    str.replace(r'^(\\S+)([0-9][A-Z]{2})$', r'\\1 \\2')"
   ]
  },
  {
   "cell_type": "code",
   "execution_count": null,
   "metadata": {},
   "outputs": [],
   "source": [
    "clean_fts.postcode.isin(ukpostcodes.postcode).sum()"
   ]
  },
  {
   "cell_type": "code",
   "execution_count": null,
   "metadata": {},
   "outputs": [],
   "source": [
    "clean_fts.raw_postcode[~clean_fts.postcode.isin(ukpostcodes.postcode)].unique()"
   ]
  },
  {
   "cell_type": "markdown",
   "metadata": {},
   "source": [
    "### Overlaps with other datasets"
   ]
  },
  {
   "cell_type": "markdown",
   "metadata": {},
   "source": [
    "### `creative europe`\n",
    "\n",
    "Overlap here between the two datasets, so we will remove"
   ]
  },
  {
   "cell_type": "code",
   "execution_count": null,
   "metadata": {},
   "outputs": [],
   "source": [
    "fts_creative =  fts[fts.action_type.str.contains('Creative')]\n",
    "fts_creative.shape"
   ]
  },
  {
   "cell_type": "code",
   "execution_count": null,
   "metadata": {},
   "outputs": [],
   "source": [
    "fts_creative.action_type.unique()"
   ]
  },
  {
   "cell_type": "code",
   "execution_count": null,
   "metadata": {},
   "outputs": [],
   "source": [
    "fts =  fts[~fts.action_type.str.contains('Creative')]\n",
    "fts.shape"
   ]
  },
  {
   "cell_type": "markdown",
   "metadata": {},
   "source": [
    "### `horizon 2020`\n",
    "\n",
    "Overlap with existing data, so removing these"
   ]
  },
  {
   "cell_type": "code",
   "execution_count": null,
   "metadata": {},
   "outputs": [],
   "source": [
    "fts_h2020 =  fts[fts.action_type.str.contains('Horizon 2020')]\n",
    "fts_h2020.shape"
   ]
  },
  {
   "cell_type": "code",
   "execution_count": null,
   "metadata": {},
   "outputs": [],
   "source": [
    "fts =  fts[~fts.action_type.str.contains('Horizon 2020')]\n",
    "fts.shape"
   ]
  },
  {
   "cell_type": "markdown",
   "metadata": {},
   "source": [
    "### `FP7`\n",
    "\n",
    "Research: Framework programme n°7 - again overlap with existing data, so removing these\t"
   ]
  },
  {
   "cell_type": "code",
   "execution_count": null,
   "metadata": {},
   "outputs": [],
   "source": [
    "fts_fp7 =  fts[fts.action_type.str.contains('n°7')]\n",
    "fts_fp7.shape"
   ]
  },
  {
   "cell_type": "code",
   "execution_count": null,
   "metadata": {},
   "outputs": [],
   "source": [
    "fts_fp7.action_type.unique()"
   ]
  },
  {
   "cell_type": "code",
   "execution_count": null,
   "metadata": {},
   "outputs": [],
   "source": [
    "fts =  fts[~fts.action_type.str.contains('n°7')]\n",
    "fts.shape"
   ]
  },
  {
   "cell_type": "markdown",
   "metadata": {},
   "source": [
    "### `Erasmus +`\n"
   ]
  },
  {
   "cell_type": "code",
   "execution_count": null,
   "metadata": {},
   "outputs": [],
   "source": [
    "fts_erasmus =  fts[fts.action_type.str.contains('Erasmus')]\n",
    "fts_erasmus.shape"
   ]
  },
  {
   "cell_type": "code",
   "execution_count": null,
   "metadata": {},
   "outputs": [],
   "source": [
    "fts_erasmus.action_type.unique()"
   ]
  },
  {
   "cell_type": "code",
   "execution_count": null,
   "metadata": {},
   "outputs": [],
   "source": [
    "fts = fts[~fts.action_type.str.contains('Erasmus')]\n",
    "fts.shape"
   ]
  },
  {
   "cell_type": "markdown",
   "metadata": {},
   "source": [
    "## Filter projects with funding < €1000"
   ]
  },
  {
   "cell_type": "code",
   "execution_count": null,
   "metadata": {},
   "outputs": [],
   "source": [
    "fts[fts.total_amount < 1000].shape"
   ]
  },
  {
   "cell_type": "code",
   "execution_count": null,
   "metadata": {},
   "outputs": [],
   "source": [
    "fts = fts[fts.total_amount >= 1000]\n",
    "fts.shape"
   ]
  },
  {
   "cell_type": "markdown",
   "metadata": {},
   "source": [
    "## Convert to GBP\n",
    "\n",
    "All we have is a year, so just use the average annual exchange rate."
   ]
  },
  {
   "cell_type": "code",
   "execution_count": null,
   "metadata": {},
   "outputs": [],
   "source": [
    "eur_gbp = pd.read_pickle('../exchange_rates/output/exchange_rates.pkl.gz')\n",
    "eur_gbp.tail()"
   ]
  },
  {
   "cell_type": "code",
   "execution_count": null,
   "metadata": {},
   "outputs": [],
   "source": [
    "def find_average_eur_gbp_rate():\n",
    "    # create timeseries from start to end\n",
    "    days = pd.date_range('2017-01-01', '2018-01-01', closed='left')\n",
    "    daily = pd.DataFrame({\n",
    "        'month_start': days,\n",
    "        'weight': 1.0 / days.shape[0]\n",
    "    })\n",
    "    monthly = daily.resample('MS', on='month_start').sum()\n",
    "    monthly = pd.merge(monthly, eur_gbp, on='month_start', validate='1:1')\n",
    "    return (monthly.weight * monthly.rate).sum()\n",
    "clean_fts['eur_gbp'] = find_average_eur_gbp_rate()\n",
    "clean_fts.eur_gbp.head()"
   ]
  },
  {
   "cell_type": "markdown",
   "metadata": {},
   "source": [
    "## Output"
   ]
  },
  {
   "cell_type": "code",
   "execution_count": null,
   "metadata": {},
   "outputs": [],
   "source": [
    "output_fts = clean_fts[\n",
    "    clean_fts.postcode.isin(ukpostcodes.postcode) &\n",
    "    (clean_fts.amount > 0)\n",
    "].copy()\n",
    "output_fts.drop(['raw_postcode', 'NUTS2'], axis=1, inplace=True)\n",
    "output_fts.rename(columns={'total_amount': 'total_amount_eur'}, inplace=True)\n",
    "output_fts.shape"
   ]
  },
  {
   "cell_type": "code",
   "execution_count": null,
   "metadata": {},
   "outputs": [],
   "source": [
    "output_fts.head()"
   ]
  },
  {
   "cell_type": "code",
   "execution_count": null,
   "metadata": {},
   "outputs": [],
   "source": [
    "output_fts['my_eu_id'] = 'fts_2017_' + output_fts.index.map(str)\n",
    "output_fts.my_eu_id.head()"
   ]
  },
  {
   "cell_type": "code",
   "execution_count": null,
   "metadata": {},
   "outputs": [],
   "source": [
    "output_fts.to_pickle('output/fts_2017.pkl.gz')"
   ]
  }
 ],
 "metadata": {
  "kernelspec": {
   "display_name": "Python 3",
   "language": "python",
   "name": "python3"
  },
  "language_info": {
   "codemirror_mode": {
    "name": "ipython",
    "version": 3
   },
   "file_extension": ".py",
   "mimetype": "text/x-python",
   "name": "python",
   "nbconvert_exporter": "python",
   "pygments_lexer": "ipython3",
   "version": "3.6.5"
  }
 },
 "nbformat": 4,
 "nbformat_minor": 2
}
