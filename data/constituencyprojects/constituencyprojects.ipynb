{
 "cells": [
  {
   "cell_type": "markdown",
   "metadata": {},
   "source": [
    "Notebook to take the pre-prepared full_data.csv containing all the myeu project data and merge it on postcode with a dataset from doogal.co.uk which maps constituency to postcode"
   ]
  },
  {
   "cell_type": "markdown",
   "metadata": {},
   "source": [
    "Note: Code has not been fully checked for correctness and also requires peer review"
   ]
  },
  {
   "cell_type": "code",
   "execution_count": 1,
   "metadata": {},
   "outputs": [],
   "source": [
    "import pandas as pd\n",
    "from os import listdir\n",
    "from os.path import isfile, join"
   ]
  },
  {
   "cell_type": "markdown",
   "metadata": {},
   "source": [
    "A set of csv files containing constituency names and associated postcodes are expected to be in ./input folder. These have been manually downloaded from https://www.doogal.co.uk/ElectoralConstituencies.php"
   ]
  },
  {
   "cell_type": "markdown",
   "metadata": {},
   "source": [
    "TODO: Automatically download all csv files from the website"
   ]
  },
  {
   "cell_type": "code",
   "execution_count": 2,
   "metadata": {},
   "outputs": [],
   "source": [
    "onlyfiles = [f for f in listdir(\"input\") if isfile(join(\"input\", f))]"
   ]
  },
  {
   "cell_type": "code",
   "execution_count": 3,
   "metadata": {},
   "outputs": [
    {
     "data": {
      "text/plain": [
       "['West Lancashire postcodes.csv',\n",
       " 'Vauxhall postcodes.csv',\n",
       " 'Jarrow postcodes.csv',\n",
       " 'Birmingham, Hall Green postcodes.csv',\n",
       " 'Blyth Valley postcodes.csv',\n",
       " 'Dudley North postcodes.csv',\n",
       " 'Bolsover postcodes.csv',\n",
       " 'Rother Valley postcodes.csv',\n",
       " 'Don Valley postcodes.csv',\n",
       " 'Bassetlaw postcodes.csv',\n",
       " 'Stoke-on-Trent Central postcodes.csv',\n",
       " 'Blackley and Broughton postcodes.csv',\n",
       " 'Crewe and Nantwich postcodes.csv',\n",
       " 'Poplar and Limehouse postcodes.csv']"
      ]
     },
     "execution_count": 3,
     "metadata": {},
     "output_type": "execute_result"
    }
   ],
   "source": [
    "onlyfiles"
   ]
  },
  {
   "cell_type": "code",
   "execution_count": 13,
   "metadata": {},
   "outputs": [
    {
     "name": "stdout",
     "output_type": "stream",
     "text": [
      "West Lancashire postcodes.csv\n",
      "Vauxhall postcodes.csv\n",
      "Jarrow postcodes.csv\n",
      "Birmingham, Hall Green postcodes.csv\n",
      "Blyth Valley postcodes.csv\n",
      "Dudley North postcodes.csv\n",
      "Bolsover postcodes.csv\n",
      "Rother Valley postcodes.csv\n",
      "Don Valley postcodes.csv\n",
      "Bassetlaw postcodes.csv\n",
      "Stoke-on-Trent Central postcodes.csv\n",
      "Blackley and Broughton postcodes.csv\n",
      "Crewe and Nantwich postcodes.csv\n",
      "Poplar and Limehouse postcodes.csv\n"
     ]
    }
   ],
   "source": [
    "allconstitpostcodes = pd.DataFrame(index=[1])\n",
    "for postcodefile in onlyfiles:\n",
    "    print(postcodefile)\n",
    "    constitpostcodes = pd.read_csv('input/' + postcodefile)\n",
    "    inuseconstitpostcodes = constitpostcodes[constitpostcodes['In Use?'] == 'Yes']\n",
    "    outputcontstitpostcodes = inuseconstitpostcodes[['Postcode']].copy()\n",
    "    outputcontstitpostcodes['constituency'] = postcodefile\n",
    "    allconstitpostcodes = pd.concat([allconstitpostcodes, outputcontstitpostcodes],sort=False)"
   ]
  },
  {
   "cell_type": "code",
   "execution_count": 14,
   "metadata": {},
   "outputs": [
    {
     "data": {
      "text/html": [
       "<div>\n",
       "<style scoped>\n",
       "    .dataframe tbody tr th:only-of-type {\n",
       "        vertical-align: middle;\n",
       "    }\n",
       "\n",
       "    .dataframe tbody tr th {\n",
       "        vertical-align: top;\n",
       "    }\n",
       "\n",
       "    .dataframe thead th {\n",
       "        text-align: right;\n",
       "    }\n",
       "</style>\n",
       "<table border=\"1\" class=\"dataframe\">\n",
       "  <thead>\n",
       "    <tr style=\"text-align: right;\">\n",
       "      <th></th>\n",
       "      <th>Postcode</th>\n",
       "      <th>constituency</th>\n",
       "    </tr>\n",
       "  </thead>\n",
       "  <tbody>\n",
       "    <tr>\n",
       "      <th>1</th>\n",
       "      <td>NaN</td>\n",
       "      <td>NaN</td>\n",
       "    </tr>\n",
       "    <tr>\n",
       "      <th>0</th>\n",
       "      <td>L31 1HN</td>\n",
       "      <td>West Lancashire postcodes.csv</td>\n",
       "    </tr>\n",
       "  </tbody>\n",
       "</table>\n",
       "</div>"
      ],
      "text/plain": [
       "  Postcode                   constituency\n",
       "1      NaN                            NaN\n",
       "0  L31 1HN  West Lancashire postcodes.csv"
      ]
     },
     "execution_count": 14,
     "metadata": {},
     "output_type": "execute_result"
    }
   ],
   "source": [
    "allconstitpostcodes.head(2)"
   ]
  },
  {
   "cell_type": "code",
   "execution_count": 21,
   "metadata": {},
   "outputs": [],
   "source": [
    "allconstitpostcodes.rename({\n",
    "        'Postcode': 'postcode'\n",
    "}, axis=1, inplace=True)"
   ]
  },
  {
   "cell_type": "markdown",
   "metadata": {},
   "source": [
    "full_data should have been prepared by build_map.ipynb"
   ]
  },
  {
   "cell_type": "code",
   "execution_count": 22,
   "metadata": {},
   "outputs": [],
   "source": [
    "full_data = pd.read_csv('../constituencyprojects/output/full_data.csv')"
   ]
  },
  {
   "cell_type": "code",
   "execution_count": 23,
   "metadata": {},
   "outputs": [],
   "source": [
    "constituency_data = pd.merge(allconstitpostcodes, full_data, on='postcode', how='inner')"
   ]
  },
  {
   "cell_type": "code",
   "execution_count": 26,
   "metadata": {},
   "outputs": [
    {
     "data": {
      "text/plain": [
       "(747, 8)"
      ]
     },
     "execution_count": 26,
     "metadata": {},
     "output_type": "execute_result"
    }
   ],
   "source": [
    "constituency_data.shape"
   ]
  },
  {
   "cell_type": "code",
   "execution_count": 28,
   "metadata": {},
   "outputs": [
    {
     "data": {
      "text/html": [
       "<div>\n",
       "<style scoped>\n",
       "    .dataframe tbody tr th:only-of-type {\n",
       "        vertical-align: middle;\n",
       "    }\n",
       "\n",
       "    .dataframe tbody tr th {\n",
       "        vertical-align: top;\n",
       "    }\n",
       "\n",
       "    .dataframe thead th {\n",
       "        text-align: right;\n",
       "    }\n",
       "</style>\n",
       "<table border=\"1\" class=\"dataframe\">\n",
       "  <thead>\n",
       "    <tr style=\"text-align: right;\">\n",
       "      <th></th>\n",
       "      <th>postcode</th>\n",
       "      <th>constituency</th>\n",
       "      <th>projectTitle</th>\n",
       "      <th>euContribution</th>\n",
       "      <th>amount</th>\n",
       "      <th>website</th>\n",
       "      <th>myEuId</th>\n",
       "      <th>myeuURL</th>\n",
       "    </tr>\n",
       "  </thead>\n",
       "  <tbody>\n",
       "    <tr>\n",
       "      <th>0</th>\n",
       "      <td>L39 4QP</td>\n",
       "      <td>West Lancashire postcodes.csv</td>\n",
       "      <td>Polyglot and Hybrid Persistence Architectures ...</td>\n",
       "      <td>412606.0</td>\n",
       "      <td>3925035.0</td>\n",
       "      <td>NaN</td>\n",
       "      <td>h2020_214253_951860613</td>\n",
       "      <td>https://www.myeu.uk/postcode/L39/4QP</td>\n",
       "    </tr>\n",
       "    <tr>\n",
       "      <th>1</th>\n",
       "      <td>L39 4QP</td>\n",
       "      <td>West Lancashire postcodes.csv</td>\n",
       "      <td>Developer-Centric Knowledge Mining from Large ...</td>\n",
       "      <td>404042.0</td>\n",
       "      <td>3944995.0</td>\n",
       "      <td>NaN</td>\n",
       "      <td>h2020_206182_951860613</td>\n",
       "      <td>https://www.myeu.uk/postcode/L39/4QP</td>\n",
       "    </tr>\n",
       "  </tbody>\n",
       "</table>\n",
       "</div>"
      ],
      "text/plain": [
       "  postcode                   constituency  \\\n",
       "0  L39 4QP  West Lancashire postcodes.csv   \n",
       "1  L39 4QP  West Lancashire postcodes.csv   \n",
       "\n",
       "                                        projectTitle  euContribution  \\\n",
       "0  Polyglot and Hybrid Persistence Architectures ...        412606.0   \n",
       "1  Developer-Centric Knowledge Mining from Large ...        404042.0   \n",
       "\n",
       "      amount website                  myEuId  \\\n",
       "0  3925035.0     NaN  h2020_214253_951860613   \n",
       "1  3944995.0     NaN  h2020_206182_951860613   \n",
       "\n",
       "                                myeuURL  \n",
       "0  https://www.myeu.uk/postcode/L39/4QP  \n",
       "1  https://www.myeu.uk/postcode/L39/4QP  "
      ]
     },
     "execution_count": 28,
     "metadata": {},
     "output_type": "execute_result"
    }
   ],
   "source": [
    "constituency_data.head(2)"
   ]
  },
  {
   "cell_type": "code",
   "execution_count": 30,
   "metadata": {},
   "outputs": [],
   "source": [
    "constituency_data.to_csv('../constituencyprojects/output/constituency_data.csv', index=False)"
   ]
  }
 ],
 "metadata": {
  "kernelspec": {
   "display_name": "Python 3",
   "language": "python",
   "name": "python3"
  },
  "language_info": {
   "codemirror_mode": {
    "name": "ipython",
    "version": 3
   },
   "file_extension": ".py",
   "mimetype": "text/x-python",
   "name": "python",
   "nbconvert_exporter": "python",
   "pygments_lexer": "ipython3",
   "version": "3.6.8"
  }
 },
 "nbformat": 4,
 "nbformat_minor": 2
}
