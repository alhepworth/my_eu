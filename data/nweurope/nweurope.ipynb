{
 "cells": [
  {
   "cell_type": "markdown",
   "metadata": {},
   "source": [
    "# Import Interreg NWE Data \n",
    "### http://www.nweurope.eu/media/4533/list-of-beneficiaries-for-website.xlsx"
   ]
  },
  {
   "cell_type": "code",
   "execution_count": null,
   "metadata": {},
   "outputs": [],
   "source": [
    "import difflib\n",
    "import json\n",
    "import os\n",
    "import re\n",
    "\n",
    "import pandas as pd\n",
    "import numpy as np\n",
    "\n",
    "from bs4 import BeautifulSoup\n",
    "import requests\n",
    "\n",
    "pd.set_option('display.max_columns', 50)\n",
    "pd.set_option('display.max_colwidth', 100)"
   ]
  },
  {
   "cell_type": "code",
   "execution_count": null,
   "metadata": {},
   "outputs": [],
   "source": [
    "all_benefs = pd.read_excel('input/list-of-beneficiaries-for-website.xlsx')\n",
    "all_benefs.shape"
   ]
  },
  {
   "cell_type": "markdown",
   "metadata": {},
   "source": [
    "## Load Data"
   ]
  },
  {
   "cell_type": "code",
   "execution_count": null,
   "metadata": {},
   "outputs": [],
   "source": [
    "#all_benefs.columns"
   ]
  },
  {
   "cell_type": "code",
   "execution_count": null,
   "metadata": {},
   "outputs": [],
   "source": [
    "all_benefs.rename({\n",
    "    'No\\nNo\\nNr.\\nNr.': 'Id',\n",
    "    'Beneficiary name\\nNom du bénéfictiaire\\nName des Begünstigten \\nNaam van de begunstigde ': 'beneficiary',\n",
    "    \"Operation name\\nNom de l'opération\\nBezeichnung des Vorhabens\\nNaam van de concrete actie\": 'project',\n",
    "    \"Operation summary\\nRésumé de l'opération\\nZusammenfassung des Vorhabens\\nSamenvatting van de concrete actie\": 'project_summary',\n",
    "    \"Operation start date\\nDate de début de l'opération\\nDatum des Beginns des Vorhabens\\nBegindatum van de concrete actie\": 'start_date',\n",
    "    \"Operation end date\\nDate de fin de l'opération \\nDatum des Endes des Vorhabens \\nEinddatum van de concrete actie\": 'end_date',\n",
    "    'Total eligible expenditure allocated to the beneficiary\\nTotal des dépenses éligibles attribué au bénéficiaire\\nGesamtbetrag der förderfähigen Ausgaben an Begünstigte\\nTotale subsidiabele uitgaven toegewezen aan begunstigde': 'funding',\n",
    "    \"Union co-financing rate\\nTaux de cofinancement par l'Union \\nUnions-Kofinanzierungssatz pro Prioritätsachse\\nMedefinancieringspercentage van de Unie (per prioritaire as)\": 'union_cofinancing',\n",
    "    \"Operation post code\\nCode postal de l\\'opération\\nPostleitzahl des Vorhabens\\nPostcode van de concrete actie\": 'raw_postcode',\n",
    "    'Country\\nPays\\nLand\\nLand': 'country',\n",
    "    \"Name of category of intervention for the operation in accordance with point (b) (vi) of the first subparagraph of Article 96(2)\\nDénomination de la catégorie d'intervention dont relève l'opération conformément à l'article 96, paragraphe 2,\\npremier alinéa, point b) vi)\\nBezeichnung der Interventionskategorie für das Vorhaben gemäß Artikel 96 Absatz 2 Unterabsatz 1 Buchstabe b Ziffer vi;\\nNaam van de categorie steunverlening voor de concrete actie, overeenkomstig artikel 96, lid 2, eerste alinea,\\nonder b), vi)\": 'raw_category',\n",
    "    'Date of last update of the list of operations\\nDate de la dernière mise à jour de la liste des opérations\\nDatum der letzten Aktualisierung der Liste der Vorhaben\\nDatum van de laatste bijwerking van de lijst van concrete acties': 'last_update'\n",
    "}, axis=1, inplace=True)"
   ]
  },
  {
   "cell_type": "code",
   "execution_count": null,
   "metadata": {},
   "outputs": [],
   "source": [
    "all_benefs.columns"
   ]
  },
  {
   "cell_type": "code",
   "execution_count": null,
   "metadata": {},
   "outputs": [],
   "source": [
    "all_benefs.shape"
   ]
  },
  {
   "cell_type": "markdown",
   "metadata": {},
   "source": [
    "## Check Data"
   ]
  },
  {
   "cell_type": "code",
   "execution_count": null,
   "metadata": {},
   "outputs": [],
   "source": [
    "all_benefs.describe()"
   ]
  },
  {
   "cell_type": "markdown",
   "metadata": {},
   "source": [
    "### `beneficiary`"
   ]
  },
  {
   "cell_type": "code",
   "execution_count": null,
   "metadata": {},
   "outputs": [],
   "source": [
    "[\n",
    "    all_benefs.beneficiary.isna().sum(),\n",
    "    (all_benefs.beneficiary.str.strip() != all_benefs.beneficiary).sum()\n",
    "]"
   ]
  },
  {
   "cell_type": "code",
   "execution_count": null,
   "metadata": {},
   "outputs": [],
   "source": [
    "all_benefs.beneficiary = all_benefs.beneficiary.str.strip()"
   ]
  },
  {
   "cell_type": "code",
   "execution_count": null,
   "metadata": {},
   "outputs": [],
   "source": [
    "[\n",
    "    all_benefs.beneficiary.nunique(),\n",
    "    all_benefs.beneficiary.str.lower().nunique()\n",
    "]"
   ]
  },
  {
   "cell_type": "code",
   "execution_count": null,
   "metadata": {},
   "outputs": [],
   "source": [
    "all_benefs.beneficiary[\n",
    "    all_benefs.beneficiary.str.lower().duplicated(keep=False) &\n",
    "    ~all_benefs.beneficiary.duplicated(keep=False)\n",
    "]"
   ]
  },
  {
   "cell_type": "markdown",
   "metadata": {},
   "source": [
    "The beneficiaries that are not unique by case are outside the UK, so let's just leave them be."
   ]
  },
  {
   "cell_type": "markdown",
   "metadata": {},
   "source": [
    "### `project`"
   ]
  },
  {
   "cell_type": "code",
   "execution_count": null,
   "metadata": {},
   "outputs": [],
   "source": [
    "[\n",
    "    all_benefs.project.isna().sum(),\n",
    "    (all_benefs.project.str.strip() != all_benefs.project).sum()\n",
    "]"
   ]
  },
  {
   "cell_type": "code",
   "execution_count": null,
   "metadata": {},
   "outputs": [],
   "source": [
    "all_benefs.project = all_benefs.project.str.strip()"
   ]
  },
  {
   "cell_type": "code",
   "execution_count": null,
   "metadata": {},
   "outputs": [],
   "source": [
    "[\n",
    "    all_benefs.project.nunique(),\n",
    "    all_benefs.project.str.lower().nunique()\n",
    "]"
   ]
  },
  {
   "cell_type": "code",
   "execution_count": null,
   "metadata": {},
   "outputs": [],
   "source": [
    "raw_unique_projects = all_benefs.project.sort_values().drop_duplicates()\n",
    "raw_unique_projects"
   ]
  },
  {
   "cell_type": "code",
   "execution_count": null,
   "metadata": {},
   "outputs": [],
   "source": [
    "PROJECT_RX = r'^(.+) - (.+)$'\n",
    "raw_unique_projects[~raw_unique_projects.str.match(PROJECT_RX)]"
   ]
  },
  {
   "cell_type": "markdown",
   "metadata": {},
   "source": [
    "`BONE` seems to be duplicated. We will deal with it below."
   ]
  },
  {
   "cell_type": "markdown",
   "metadata": {},
   "source": [
    "### `project_summary`"
   ]
  },
  {
   "cell_type": "code",
   "execution_count": null,
   "metadata": {},
   "outputs": [],
   "source": [
    "[\n",
    "    (~all_benefs.project_summary.isna()).sum(),\n",
    "    ((~all_benefs.project_summary.isna()) &\n",
    "     (all_benefs.project_summary.str.strip() != all_benefs.project_summary)).sum()\n",
    "]"
   ]
  },
  {
   "cell_type": "code",
   "execution_count": null,
   "metadata": {},
   "outputs": [],
   "source": [
    "all_benefs.project_summary = all_benefs.project_summary.str.strip()"
   ]
  },
  {
   "cell_type": "code",
   "execution_count": null,
   "metadata": {},
   "outputs": [],
   "source": [
    "all_benefs.project_summary.nunique()"
   ]
  },
  {
   "cell_type": "markdown",
   "metadata": {},
   "source": [
    "### `start_date`"
   ]
  },
  {
   "cell_type": "code",
   "execution_count": null,
   "metadata": {},
   "outputs": [],
   "source": [
    "(~all_benefs.start_date.isna()).sum()"
   ]
  },
  {
   "cell_type": "code",
   "execution_count": null,
   "metadata": {},
   "outputs": [],
   "source": [
    "all_benefs.start_date.head()"
   ]
  },
  {
   "cell_type": "code",
   "execution_count": null,
   "metadata": {},
   "outputs": [],
   "source": [
    "all_benefs.start_date = pd.to_datetime(all_benefs.start_date, format='%d.%m.%Y')\n",
    "all_benefs.start_date.describe()"
   ]
  },
  {
   "cell_type": "markdown",
   "metadata": {},
   "source": [
    "### `end_date`"
   ]
  },
  {
   "cell_type": "code",
   "execution_count": null,
   "metadata": {},
   "outputs": [],
   "source": [
    "(~all_benefs.end_date.isna()).sum()"
   ]
  },
  {
   "cell_type": "code",
   "execution_count": null,
   "metadata": {},
   "outputs": [],
   "source": [
    "all_benefs.end_date.head()"
   ]
  },
  {
   "cell_type": "code",
   "execution_count": null,
   "metadata": {},
   "outputs": [],
   "source": [
    "all_benefs.end_date = pd.to_datetime(all_benefs.end_date, format='%d.%m.%Y')\n",
    "all_benefs.end_date.describe()"
   ]
  },
  {
   "cell_type": "markdown",
   "metadata": {},
   "source": [
    "### `union_cofinancing`\n",
    "\n",
    "Varies per-partner, not just per-project. Some zeros, but they are all outside the UK, so we can ignore them."
   ]
  },
  {
   "cell_type": "code",
   "execution_count": null,
   "metadata": {},
   "outputs": [],
   "source": [
    "all_benefs.union_cofinancing.value_counts()"
   ]
  },
  {
   "cell_type": "code",
   "execution_count": null,
   "metadata": {},
   "outputs": [],
   "source": [
    "all_benefs[all_benefs.union_cofinancing < 0.6]"
   ]
  },
  {
   "cell_type": "markdown",
   "metadata": {},
   "source": [
    "### `funding`\n",
    "\n",
    "Here things get a bit weird. The column name, \"Total eligible expenditure allocated to the beneficiary\" suggests to me that this is the budget for the project, and the EU will provide 60% (or whatever the cofinancing rate is). That interpretation matches what we find below from their website UNLESS the project has no start and end date, in which case it seems to have the opposite sense. So we will split up this column here into one for each case."
   ]
  },
  {
   "cell_type": "code",
   "execution_count": null,
   "metadata": {},
   "outputs": [],
   "source": [
    "all_benefs['contribution_eur'] = all_benefs.funding * all_benefs.union_cofinancing\n",
    "all_benefs['total_cost_eur'] = all_benefs.funding\n",
    "\n",
    "is_missing_dates = all_benefs.start_date.isna()\n",
    "all_benefs.loc[is_missing_dates, 'contribution_eur'] = all_benefs.funding[is_missing_dates]\n",
    "all_benefs.loc[is_missing_dates, 'total_cost_eur'] = \\\n",
    "    all_benefs.funding[is_missing_dates] / all_benefs.union_cofinancing[is_missing_dates]"
   ]
  },
  {
   "cell_type": "code",
   "execution_count": null,
   "metadata": {},
   "outputs": [],
   "source": [
    "all_benefs.drop(columns=['funding'], inplace=True)"
   ]
  },
  {
   "cell_type": "code",
   "execution_count": null,
   "metadata": {},
   "outputs": [],
   "source": [
    "all_benefs.describe()"
   ]
  },
  {
   "cell_type": "markdown",
   "metadata": {},
   "source": [
    "### `country`"
   ]
  },
  {
   "cell_type": "code",
   "execution_count": null,
   "metadata": {},
   "outputs": [],
   "source": [
    "(~all_benefs.country.isna()).sum()"
   ]
  },
  {
   "cell_type": "code",
   "execution_count": null,
   "metadata": {},
   "outputs": [],
   "source": [
    "all_benefs.country.sort_values().unique()"
   ]
  },
  {
   "cell_type": "markdown",
   "metadata": {},
   "source": [
    "### `raw_category`\n",
    "\n",
    "The inconsistencies here are quite strange. A pattern that sometimes but not always repeats is that the first three partners have leading zeros, but the rest do not."
   ]
  },
  {
   "cell_type": "code",
   "execution_count": null,
   "metadata": {},
   "outputs": [],
   "source": [
    "all_benefs.loc[\n",
    "    all_benefs.project == 'SHICC - Sustainable Housing for Inclusive and Cohesive Cities',\n",
    "    ['Id', 'raw_category']]"
   ]
  },
  {
   "cell_type": "code",
   "execution_count": null,
   "metadata": {},
   "outputs": [],
   "source": [
    "all_benefs.loc[\n",
    "    all_benefs.project == 'UP-Straw - Urban and Public Buildings in Straw',\n",
    "    ['Id', 'raw_category']]"
   ]
  },
  {
   "cell_type": "markdown",
   "metadata": {},
   "source": [
    "And sometimes the dash is missing."
   ]
  },
  {
   "cell_type": "code",
   "execution_count": null,
   "metadata": {},
   "outputs": [],
   "source": [
    "all_benefs.loc[\n",
    "    all_benefs.project == 'CHIPS - Cycle Highways Innovation for smarter People Transport and Spatial Planning',\n",
    "    ['Id', 'raw_category']]"
   ]
  },
  {
   "cell_type": "code",
   "execution_count": null,
   "metadata": {},
   "outputs": [],
   "source": [
    "RAW_CATEGORY_RX = r'^0*(\\d+)\\s*-?\\s*(.+)$'\n",
    "[\n",
    "    (~all_benefs.raw_category.isna()).sum(),\n",
    "    (all_benefs.raw_category.str.strip() != all_benefs.raw_category).sum(),\n",
    "    all_benefs.raw_category.nunique(),\n",
    "    all_benefs.raw_category.str.match(RAW_CATEGORY_RX).sum()\n",
    "]"
   ]
  },
  {
   "cell_type": "code",
   "execution_count": null,
   "metadata": {},
   "outputs": [],
   "source": [
    "all_benefs.raw_category.sort_values().unique()"
   ]
  },
  {
   "cell_type": "code",
   "execution_count": null,
   "metadata": {},
   "outputs": [],
   "source": [
    "all_benefs['category_number'] = all_benefs.raw_category.str.replace(RAW_CATEGORY_RX, r'\\1').astype('int')\n",
    "all_benefs['category_description'] = all_benefs.raw_category.str.replace(RAW_CATEGORY_RX, r'\\2')"
   ]
  },
  {
   "cell_type": "code",
   "execution_count": null,
   "metadata": {},
   "outputs": [],
   "source": [
    "all_benefs[['category_number', 'category_description']]. \\\n",
    "    sort_values(['category_number', 'category_description']). \\\n",
    "    drop_duplicates()"
   ]
  },
  {
   "cell_type": "markdown",
   "metadata": {},
   "source": [
    "So the category text and numbers seem to be very consistent, except for the leading zeros and the dash. Perhaps pulled from dropdowns in different systems?"
   ]
  },
  {
   "cell_type": "markdown",
   "metadata": {},
   "source": [
    "### `last_update`\n",
    "\n",
    "Always has the same value. Ignore."
   ]
  },
  {
   "cell_type": "code",
   "execution_count": null,
   "metadata": {},
   "outputs": [],
   "source": [
    "all_benefs.last_update.unique()"
   ]
  },
  {
   "cell_type": "code",
   "execution_count": null,
   "metadata": {},
   "outputs": [],
   "source": [
    "all_benefs.drop(columns='last_update', inplace=True)"
   ]
  },
  {
   "cell_type": "markdown",
   "metadata": {},
   "source": [
    "## Extract Projects and Partners\n",
    "\n",
    "It looks like this is the result of a join on projects and partners. Let's see if we can recover the projects."
   ]
  },
  {
   "cell_type": "code",
   "execution_count": null,
   "metadata": {},
   "outputs": [],
   "source": [
    "all_projects = all_benefs[[\n",
    "    'project', 'project_summary', 'start_date', 'end_date',\n",
    "    'category_number', 'category_description'\n",
    "]].drop_duplicates()\n",
    "[raw_unique_projects.shape, all_projects.shape]"
   ]
  },
  {
   "cell_type": "code",
   "execution_count": null,
   "metadata": {},
   "outputs": [],
   "source": [
    "all_projects"
   ]
  },
  {
   "cell_type": "markdown",
   "metadata": {},
   "source": [
    "Let's remove the duplicate BONE at this point. Also odd: the amounts in `BONE-` are 60% of those above, e.g. `461594.010 / 769323.350 = 0.6`."
   ]
  },
  {
   "cell_type": "code",
   "execution_count": null,
   "metadata": {},
   "outputs": [],
   "source": [
    "all_benefs[all_benefs.project.str.startswith('BONE')]"
   ]
  },
  {
   "cell_type": "code",
   "execution_count": null,
   "metadata": {},
   "outputs": [],
   "source": [
    "all_projects = all_projects[~all_projects.project.str.startswith('BONE-')]\n",
    "all_projects.reset_index()\n",
    "all_projects.insert(0, 'project_id', range(1, all_projects.shape[0] + 1))\n",
    "all_projects.shape"
   ]
  },
  {
   "cell_type": "code",
   "execution_count": null,
   "metadata": {},
   "outputs": [],
   "source": [
    "all_projects.head()"
   ]
  },
  {
   "cell_type": "code",
   "execution_count": null,
   "metadata": {},
   "outputs": [],
   "source": [
    "all_partnerships = pd.merge(\n",
    "    all_benefs[[\n",
    "        'Id', 'beneficiary', 'project',\n",
    "        'contribution_eur', 'total_cost_eur', 'union_cofinancing',\n",
    "        'raw_postcode', 'country'\n",
    "    ]],\n",
    "    all_projects[['project', 'project_id']]\n",
    ")\n",
    "all_partnerships.shape"
   ]
  },
  {
   "cell_type": "code",
   "execution_count": null,
   "metadata": {},
   "outputs": [],
   "source": [
    "all_partnerships.drop(columns='project', inplace=True)\n",
    "all_partnerships.rename(columns={'Id': 'partner_number'}, inplace=True)\n",
    "all_partnerships.head(20)"
   ]
  },
  {
   "cell_type": "code",
   "execution_count": null,
   "metadata": {},
   "outputs": [],
   "source": [
    "[\n",
    "    all_partnerships[['project_id', 'partner_number']].drop_duplicates().shape,\n",
    "    all_partnerships.shape\n",
    "]"
   ]
  },
  {
   "cell_type": "markdown",
   "metadata": {},
   "source": [
    "### Cross Check Partner Numbers\n",
    "\n",
    "One anomaly (Project ID 45), but the project has no UK partners, so we can ignore it."
   ]
  },
  {
   "cell_type": "code",
   "execution_count": null,
   "metadata": {},
   "outputs": [],
   "source": [
    "project_num_partnerships = all_partnerships.groupby('project_id').\\\n",
    "    partner_number.count().reset_index().rename(columns={'partner_number': 'num_partners'})\n",
    "[all_projects.shape[0], project_num_partnerships.shape]"
   ]
  },
  {
   "cell_type": "code",
   "execution_count": null,
   "metadata": {},
   "outputs": [],
   "source": [
    "project_num_partnerships_check = \\\n",
    "    (all_partnerships.reset_index().groupby('project_id').partner_number.max()).\\\n",
    "    reset_index().rename(columns={'partner_number': 'num_partners'})\n",
    "[all_projects.shape[0], project_num_partnerships_check.shape]"
   ]
  },
  {
   "cell_type": "code",
   "execution_count": null,
   "metadata": {},
   "outputs": [],
   "source": [
    "project_num_partnerships[project_num_partnerships.num_partners != project_num_partnerships_check.num_partners]"
   ]
  },
  {
   "cell_type": "code",
   "execution_count": null,
   "metadata": {},
   "outputs": [],
   "source": [
    "project_num_partnerships_check[project_num_partnerships.num_partners != project_num_partnerships_check.num_partners]"
   ]
  },
  {
   "cell_type": "code",
   "execution_count": null,
   "metadata": {},
   "outputs": [],
   "source": [
    "all_projects[all_projects.project_id == 45]"
   ]
  },
  {
   "cell_type": "code",
   "execution_count": null,
   "metadata": {},
   "outputs": [],
   "source": [
    "all_benefs[all_benefs.project.str.startswith('SeRaMCo')]"
   ]
  },
  {
   "cell_type": "markdown",
   "metadata": {},
   "source": [
    "### Per-Project Stats\n",
    "\n",
    "It is useful to get project totals for display and also for comparison with the numbers on their website."
   ]
  },
  {
   "cell_type": "code",
   "execution_count": null,
   "metadata": {},
   "outputs": [],
   "source": [
    "project_stats = all_partnerships.groupby('project_id').aggregate({\n",
    "    'contribution_eur': sum,\n",
    "    'total_cost_eur': sum,\n",
    "    'country': lambda x: x.unique().shape[0]\n",
    "}).reset_index().rename(columns={\n",
    "    'contribution_eur': 'project_contribution_eur',\n",
    "    'total_cost_eur': 'project_total_cost_eur',\n",
    "    'country': 'num_countries'\n",
    "})\n",
    "project_stats = pd.merge(project_stats, project_num_partnerships)\n",
    "project_stats"
   ]
  },
  {
   "cell_type": "markdown",
   "metadata": {},
   "source": [
    "## Restrict to UK Projects"
   ]
  },
  {
   "cell_type": "code",
   "execution_count": null,
   "metadata": {},
   "outputs": [],
   "source": [
    "uk_partnerships = all_partnerships[all_partnerships.country == 'United Kingdom'].copy()\n",
    "uk_partnerships.shape"
   ]
  },
  {
   "cell_type": "code",
   "execution_count": null,
   "metadata": {},
   "outputs": [],
   "source": [
    "uk_partnerships.head()"
   ]
  },
  {
   "cell_type": "code",
   "execution_count": null,
   "metadata": {},
   "outputs": [],
   "source": [
    "uk_projects = pd.merge(\n",
    "    all_projects[all_projects.project_id.isin(uk_partnerships.project_id)],\n",
    "    project_stats\n",
    ")\n",
    "uk_projects.shape"
   ]
  },
  {
   "cell_type": "code",
   "execution_count": null,
   "metadata": {},
   "outputs": [],
   "source": [
    "uk_projects.head()"
   ]
  },
  {
   "cell_type": "markdown",
   "metadata": {},
   "source": [
    "## Find Missing Start and End Dates\n",
    "\n",
    "They are missing from the export, but they are on the website, albeit in less precise form. Let's get them from the website where we are missing them."
   ]
  },
  {
   "cell_type": "code",
   "execution_count": null,
   "metadata": {},
   "outputs": [],
   "source": [
    "def fetch_search_results():\n",
    "    projects = []\n",
    "    \n",
    "    def find_project_links(soup):\n",
    "        for card in soup.findAll('div', {'class': 'project-results-listing__item'}):\n",
    "            image = card.find('div', {'class': 'project-results-listing__image'}).find('img')\n",
    "            title = card.find('h2').find('a')\n",
    "            objective = card.find('p')\n",
    "            projects.append({\n",
    "                'project': title.text,\n",
    "                'page_path': title['href'],\n",
    "                'image_path': image['src'],\n",
    "                'objective': objective.text,\n",
    "            })\n",
    "            \n",
    "    project_search_url = 'http://www.nweurope.eu/projects/project-search/'\n",
    "    for page in range(1, 6):\n",
    "        print('fetch search page', page)\n",
    "        response = requests.get(project_search_url, { 'page': page })\n",
    "        response.raise_for_status()\n",
    "        \n",
    "        soup = BeautifulSoup(response.text, 'html5lib')\n",
    "        find_project_links(soup)\n",
    "        \n",
    "    return pd.DataFrame(projects)\n",
    "\n",
    "def fetch_project_info(project_path):\n",
    "    print('fetch project page', project_path)\n",
    "    project_url = 'http://www.nweurope.eu' + project_path\n",
    "    response = requests.get(project_url)\n",
    "    response.raise_for_status()\n",
    "    soup = BeautifulSoup(response.text, 'html5lib')\n",
    "    \n",
    "    def find_project_summary():\n",
    "        return str(soup.find('div', {'class': 'project-summary__content'}))\n",
    "    \n",
    "    def find_key_information_item(target_text):\n",
    "        key_information = soup.find('aside', {'class': 'project-summary__aside'})\n",
    "        heading = key_information.find('p', text=target_text)\n",
    "        p_tags = heading.parent.findAll('p')\n",
    "        assert len(p_tags) == 2\n",
    "        return p_tags[1].text.strip()\n",
    "    \n",
    "    return {\n",
    "        'eu_funding': find_key_information_item('EU FUNDING'),\n",
    "        'total_budget': find_key_information_item('TOTAL BUDGET'),\n",
    "        'timeline': find_key_information_item('TIMELINE'),\n",
    "        'project_summary': find_project_summary()\n",
    "    }\n",
    "\n",
    "def build_website_search_results():\n",
    "    search_results = fetch_search_results()\n",
    "    project_info = search_results.page_path.apply(\n",
    "        lambda path: pd.Series(fetch_project_info(path))\n",
    "    )\n",
    "    return pd.merge(search_results, project_info, left_index=True, right_index=True)\n",
    "    \n",
    "WEBSITE_SEARCH_RESULTS_PATHNAME = 'output/website_search_results.pkl.gz'\n",
    "if not os.path.exists(WEBSITE_SEARCH_RESULTS_PATHNAME):\n",
    "    website_search_results = build_website_search_results()\n",
    "    website_search_results.to_pickle(WEBSITE_SEARCH_RESULTS_PATHNAME)\n",
    "    \n",
    "website_search_results = pd.read_pickle(WEBSITE_SEARCH_RESULTS_PATHNAME)\n",
    "website_search_results.head()"
   ]
  },
  {
   "cell_type": "markdown",
   "metadata": {},
   "source": [
    "### Match Project Names\n",
    "\n",
    "The website project names don't match what we have from the Excel file. Try a fuzzy match and then fix up the ones it gets wrong manually."
   ]
  },
  {
   "cell_type": "code",
   "execution_count": null,
   "metadata": {},
   "outputs": [],
   "source": [
    "def difflib_get_closest_matching_project(target):\n",
    "    matches = difflib.get_close_matches(target, website_search_results.project)\n",
    "    if len(matches) > 0:\n",
    "        return matches[0]\n",
    "    else:\n",
    "        return None\n",
    "uk_projects['website_project'] = uk_projects.project.apply(difflib_get_closest_matching_project)\n",
    "uk_projects[['project', 'website_project']]"
   ]
  },
  {
   "cell_type": "code",
   "execution_count": null,
   "metadata": {},
   "outputs": [],
   "source": [
    "uk_projects.loc[uk_projects.project.str.startswith('BE-GOOD'), 'website_project'] = \\\n",
    "    'BEGOOD'\n",
    "uk_projects.loc[uk_projects.project.str.startswith('E = 0'), 'website_project'] = \\\n",
    "    'E=0: Desirable, warm, affordable homes for life'\n",
    "uk_projects.loc[uk_projects.project.str.startswith('FIBERSORT'), 'website_project'] = \\\n",
    "    'Bringing the Fibersort technology to the market'\n",
    "uk_projects.loc[uk_projects.project.str.startswith('GENCOMM'), 'website_project'] = \\\n",
    "    'GENCOMM: GENerating energy secure COMMunities'\n",
    "uk_projects.loc[uk_projects.project.str.startswith('PowerVIBES'), 'website_project'] = \\\n",
    "    'PowerVIBES - Sustainable solution for the festival market'\n",
    "uk_projects.loc[uk_projects.project.str.startswith('LL4WIDE'), 'website_project'] = \\\n",
    "    'Water Test Network' # the LL4WIDE page is a 404, but a Google Cached Version had the same content as WTN\n",
    "uk_projects.loc[uk_projects.project.str.startswith('UNEET'), 'website_project'] = \\\n",
    "    'UNEET - PROFESSIONAL INTEGRATION OF NW EUROPEAN YOUNG ADULTS INTO THE HOTEL, RESTAURANT AND CATERING SECTOR'\n",
    "    \n",
    "uk_projects[['project', 'website_project']]"
   ]
  },
  {
   "cell_type": "code",
   "execution_count": null,
   "metadata": {},
   "outputs": [],
   "source": [
    "uk_projects_with_website_info = pd.merge(\n",
    "    uk_projects, website_search_results,\n",
    "    left_on='website_project', right_on='project', suffixes=('', '_website'))\n",
    "[uk_projects_with_website_info.shape, uk_projects.shape]"
   ]
  },
  {
   "cell_type": "code",
   "execution_count": null,
   "metadata": {},
   "outputs": [],
   "source": [
    "uk_projects_with_website_info.head()"
   ]
  },
  {
   "cell_type": "markdown",
   "metadata": {},
   "source": [
    "### Check Funding and Budget Amounts\n",
    "\n",
    "With the logic mentioned above to interpret `funding` as either EU contribution or budget, we get pretty close. There is one project that is 12% out (Passion HF), but the rest are <3% out."
   ]
  },
  {
   "cell_type": "code",
   "execution_count": null,
   "metadata": {},
   "outputs": [],
   "source": [
    "def parse_website_eur(frame, column):\n",
    "    RX = r'^€ ([\\d.]+) m$'\n",
    "    assert frame[column].str.match(RX).all()\n",
    "    frame[column + '_eur'] = \\\n",
    "        frame[column].str.replace(RX, r'\\1').astype('float') * 1e6\n",
    "    \n",
    "parse_website_eur(uk_projects_with_website_info, 'eu_funding')\n",
    "parse_website_eur(uk_projects_with_website_info, 'total_budget')\n",
    "\n",
    "uk_projects_with_website_info[['eu_funding', 'eu_funding_eur', 'total_budget', 'total_budget_eur']].head()"
   ]
  },
  {
   "cell_type": "code",
   "execution_count": null,
   "metadata": {},
   "outputs": [],
   "source": [
    "uk_projects_with_website_info['delta_contribution_eur'] = \\\n",
    "    (uk_projects_with_website_info.project_contribution_eur - \\\n",
    "     uk_projects_with_website_info.eu_funding_eur).abs() / \\\n",
    "    uk_projects_with_website_info.eu_funding_eur\n",
    "uk_projects_with_website_info['delta_total_cost_eur'] = \\\n",
    "    (uk_projects_with_website_info.project_total_cost_eur - \\\n",
    "     uk_projects_with_website_info.total_budget_eur).abs() / \\\n",
    "    uk_projects_with_website_info.total_budget_eur\n",
    "uk_projects_with_website_info[['delta_contribution_eur', 'delta_total_cost_eur']].describe()"
   ]
  },
  {
   "cell_type": "code",
   "execution_count": null,
   "metadata": {},
   "outputs": [],
   "source": [
    "uk_projects_with_website_info[uk_projects_with_website_info.delta_contribution_eur > 0.05]"
   ]
  },
  {
   "cell_type": "markdown",
   "metadata": {},
   "source": [
    "### Parse Start and End Dates"
   ]
  },
  {
   "cell_type": "code",
   "execution_count": null,
   "metadata": {},
   "outputs": [],
   "source": [
    "def parse_website_timeline(frame):\n",
    "    RX = r'^(\\d+)-(\\d+)$'\n",
    "    assert frame.timeline.str.match(RX).all()\n",
    "    frame['website_start_date'] = pd.to_datetime(frame.timeline.str.replace(RX, r'\\1-01-01'))\n",
    "    frame['website_end_date'] = pd.to_datetime(frame.timeline.str.replace(RX, r'\\2-12-31'))\n",
    "parse_website_timeline(uk_projects_with_website_info)\n",
    "uk_projects_with_website_info[['timeline', 'start_date', 'website_start_date', 'end_date', 'website_end_date']]"
   ]
  },
  {
   "cell_type": "code",
   "execution_count": null,
   "metadata": {},
   "outputs": [],
   "source": [
    "def fill_missing_dates(frame):\n",
    "    is_missing_dates = frame.start_date.isna()\n",
    "    frame.loc[is_missing_dates, 'start_date'] = frame.website_start_date[is_missing_dates]\n",
    "    frame.loc[is_missing_dates, 'end_date'] = frame.website_end_date[is_missing_dates]\n",
    "fill_missing_dates(uk_projects_with_website_info)\n",
    "uk_projects_with_website_info[['timeline', 'start_date', 'website_start_date', 'end_date', 'website_end_date']]"
   ]
  },
  {
   "cell_type": "markdown",
   "metadata": {},
   "source": [
    "### Use Project Summaries from Website where Missing "
   ]
  },
  {
   "cell_type": "code",
   "execution_count": null,
   "metadata": {},
   "outputs": [],
   "source": [
    "[\n",
    "    uk_projects_with_website_info.project_summary.isna().sum(),\n",
    "    uk_projects_with_website_info.project_summary_website.isna().sum()\n",
    "]"
   ]
  },
  {
   "cell_type": "code",
   "execution_count": null,
   "metadata": {},
   "outputs": [],
   "source": [
    "def convert_project_summary_to_text(input_html):\n",
    "    soup = BeautifulSoup(input_html, 'html5lib')\n",
    "    output_text = soup.get_text().strip()\n",
    "    output_text = re.sub(r'^Project Summary\\s*', '', output_text)\n",
    "    return output_text\n",
    "\n",
    "def use_summary_from_website_where_missing(frame):\n",
    "    is_missing = frame.project_summary.isna()\n",
    "    frame.loc[is_missing, 'project_summary'] = \\\n",
    "        frame.project_summary_website[is_missing].apply(convert_project_summary_to_text)\n",
    "use_summary_from_website_where_missing(uk_projects_with_website_info)\n",
    "uk_projects_with_website_info.head()"
   ]
  },
  {
   "cell_type": "code",
   "execution_count": null,
   "metadata": {},
   "outputs": [],
   "source": []
  },
  {
   "cell_type": "code",
   "execution_count": null,
   "metadata": {},
   "outputs": [],
   "source": []
  },
  {
   "cell_type": "markdown",
   "metadata": {},
   "source": [
    "## Import postcode data and check imported data"
   ]
  },
  {
   "cell_type": "code",
   "execution_count": null,
   "metadata": {},
   "outputs": [],
   "source": [
    "ukpostcodes = pd.read_csv('../postcodes/input/ukpostcodes.csv.gz')"
   ]
  },
  {
   "cell_type": "code",
   "execution_count": null,
   "metadata": {},
   "outputs": [],
   "source": [
    "ukpostcodes.shape"
   ]
  },
  {
   "cell_type": "code",
   "execution_count": null,
   "metadata": {},
   "outputs": [],
   "source": [
    "uk_partnerships.raw_postcode.isin(ukpostcodes.postcode).sum()"
   ]
  },
  {
   "cell_type": "code",
   "execution_count": null,
   "metadata": {},
   "outputs": [],
   "source": [
    "uk_partnerships['postcode'] = uk_partnerships.raw_postcode.\\\n",
    "    str.upper().\\\n",
    "    str.strip().\\\n",
    "    str.replace(r'^UK ', '').\\\n",
    "    str.replace(r'[^A-Z0-9]', '').\\\n",
    "    str.replace(r'^(\\S+)([0-9][A-Z]{2})$', r'\\1 \\2')"
   ]
  },
  {
   "cell_type": "code",
   "execution_count": null,
   "metadata": {},
   "outputs": [],
   "source": [
    "uk_partnerships.postcode.isin(ukpostcodes.postcode).sum()"
   ]
  },
  {
   "cell_type": "code",
   "execution_count": null,
   "metadata": {},
   "outputs": [],
   "source": [
    "uk_partnerships.raw_postcode[~uk_partnerships.postcode.isin(ukpostcodes.postcode)].unique()"
   ]
  },
  {
   "cell_type": "markdown",
   "metadata": {},
   "source": [
    "Typos, deprecated postcodes, one mistake, and one prefixed with UK"
   ]
  },
  {
   "cell_type": "code",
   "execution_count": null,
   "metadata": {},
   "outputs": [],
   "source": [
    "clean_uk_partnerships = uk_partnerships[uk_partnerships.postcode.isin(ukpostcodes.postcode)].copy()\n",
    "clean_uk_partnerships.shape"
   ]
  },
  {
   "cell_type": "code",
   "execution_count": null,
   "metadata": {},
   "outputs": [],
   "source": [
    "clean_uk_projects = uk_projects_with_website_info[\n",
    "    uk_projects_with_website_info.project_id.isin(clean_uk_partnerships.project_id)\n",
    "].copy()\n",
    "clean_uk_projects.shape"
   ]
  },
  {
   "cell_type": "markdown",
   "metadata": {},
   "source": [
    "## Convert Currencies"
   ]
  },
  {
   "cell_type": "code",
   "execution_count": null,
   "metadata": {},
   "outputs": [],
   "source": [
    "eur_gbp = pd.read_pickle('../exchange_rates/output/exchange_rates.pkl.gz')\n",
    "eur_gbp.tail()"
   ]
  },
  {
   "cell_type": "code",
   "execution_count": null,
   "metadata": {},
   "outputs": [],
   "source": [
    "def find_average_eur_gbp_rate(row):\n",
    "    # create timeseries from start to end\n",
    "    days = pd.date_range(row.start_date, row.end_date, closed='left')\n",
    "    daily = pd.DataFrame({\n",
    "        'month_start': days,\n",
    "        'weight': 1.0 / days.shape[0]\n",
    "    })\n",
    "    monthly = daily.resample('MS', on='month_start').sum()\n",
    "    monthly = pd.merge(monthly, eur_gbp, on='month_start', validate='1:1')\n",
    "    return (monthly.weight * monthly.rate).sum()\n",
    "\n",
    "clean_uk_projects['eur_gbp'] = clean_uk_projects.apply(\n",
    "    find_average_eur_gbp_rate, axis=1, result_type='reduce')"
   ]
  },
  {
   "cell_type": "code",
   "execution_count": null,
   "metadata": {},
   "outputs": [],
   "source": [
    "clean_uk_projects.head()"
   ]
  },
  {
   "cell_type": "markdown",
   "metadata": {},
   "source": [
    "## Drop uninteresting columns"
   ]
  },
  {
   "cell_type": "code",
   "execution_count": null,
   "metadata": {},
   "outputs": [],
   "source": [
    "clean_uk_partnerships_to_save = clean_uk_partnerships[[\n",
    "    'project_id', 'partner_number', 'beneficiary', 'postcode',\n",
    "    'contribution_eur', 'total_cost_eur'\n",
    "]]\n",
    "clean_uk_partnerships_to_save.head()"
   ]
  },
  {
   "cell_type": "code",
   "execution_count": null,
   "metadata": {},
   "outputs": [],
   "source": [
    "clean_uk_projects_to_save = clean_uk_projects[[\n",
    "    'project_id', 'project', 'project_summary',\n",
    "    'start_date', 'end_date',\n",
    "    'project_contribution_eur', 'project_total_cost_eur',\n",
    "    'num_countries', 'num_partners',\n",
    "    'image_path', 'page_path', 'eur_gbp'\n",
    "]]"
   ]
  },
  {
   "cell_type": "code",
   "execution_count": null,
   "metadata": {},
   "outputs": [],
   "source": [
    "clean_uk_projects_to_save.head()"
   ]
  },
  {
   "cell_type": "code",
   "execution_count": null,
   "metadata": {},
   "outputs": [],
   "source": [
    "clean_uk_partnerships_to_save.to_pickle('output/partnerships.pkl.gz')"
   ]
  },
  {
   "cell_type": "code",
   "execution_count": null,
   "metadata": {},
   "outputs": [],
   "source": [
    "clean_uk_projects_to_save.to_pickle('output/projects.pkl.gz')"
   ]
  },
  {
   "cell_type": "code",
   "execution_count": null,
   "metadata": {},
   "outputs": [],
   "source": [
    "clean_uk_partnerships.postcode.sort_values().unique()"
   ]
  },
  {
   "cell_type": "code",
   "execution_count": null,
   "metadata": {},
   "outputs": [],
   "source": []
  }
 ],
 "metadata": {
  "kernelspec": {
   "display_name": "Python 3",
   "language": "python",
   "name": "python3"
  },
  "language_info": {
   "codemirror_mode": {
    "name": "ipython",
    "version": 3
   },
   "file_extension": ".py",
   "mimetype": "text/x-python",
   "name": "python",
   "nbconvert_exporter": "python",
   "pygments_lexer": "ipython3",
   "version": "3.6.5"
  }
 },
 "nbformat": 4,
 "nbformat_minor": 2
}
