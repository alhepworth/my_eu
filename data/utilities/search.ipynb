{
 "cells": [
  {
   "cell_type": "markdown",
   "metadata": {},
   "source": [
    "# Search the Data\n",
    "\n",
    "A very quick search utility for finding things on the map."
   ]
  },
  {
   "cell_type": "code",
   "execution_count": null,
   "metadata": {},
   "outputs": [],
   "source": [
    "import glob\n",
    "import json\n",
    "import os\n",
    "import pandas as pd"
   ]
  },
  {
   "cell_type": "markdown",
   "metadata": {},
   "source": [
    "## Load Data"
   ]
  },
  {
   "cell_type": "code",
   "execution_count": null,
   "metadata": {},
   "outputs": [],
   "source": [
    "DATA_PATH = '../map/output/district/'\n",
    "\n",
    "def list_district_data(path):\n",
    "    return glob.glob(os.path.join(path, '*.data.json'))\n",
    "\n",
    "def read_district_data(pathname):\n",
    "    with open(pathname) as file:\n",
    "        return json.load(file)\n",
    "\n",
    "raw_data = [\n",
    "    read_district_data(district_data_file)\n",
    "    for district_data_file in list_district_data(DATA_PATH)\n",
    "]"
   ]
  },
  {
   "cell_type": "markdown",
   "metadata": {},
   "source": [
    "## Build Index (or read if it exists)"
   ]
  },
  {
   "cell_type": "code",
   "execution_count": null,
   "metadata": {},
   "outputs": [],
   "source": [
    "from whoosh.index import create_in, open_dir, exists_in\n",
    "from whoosh.fields import *\n",
    "SCHEMA = Schema(\n",
    "    my_eu_id=ID(stored=True),\n",
    "    postcode=ID(stored=True),\n",
    "    title=TEXT(stored=True),\n",
    "    content=TEXT(stored=True))"
   ]
  },
  {
   "cell_type": "code",
   "execution_count": null,
   "metadata": {},
   "outputs": [],
   "source": [
    "def build_index(raw_district_data):\n",
    "    writer = INDEX.writer()\n",
    "    outward_code = raw_district_data['outwardCode']\n",
    "    \n",
    "    def make_postcode(row):\n",
    "        return '{} {}'.format(outward_code, row['inwardCode'])\n",
    "    \n",
    "    def add_cordis(df):\n",
    "        for _index, row in df[~df.objective.isna()].iterrows():\n",
    "            writer.add_document(\n",
    "                postcode=make_postcode(row),\n",
    "                my_eu_id=row['myEuId'],\n",
    "                title=row['projectTitle'],\n",
    "                content=row['objective']\n",
    "            )\n",
    "                \n",
    "    def add_creative_or_erasmus(df):\n",
    "        for _index, row in df[~df.summary.isna()].iterrows():\n",
    "            writer.add_document(\n",
    "                postcode=make_postcode(row),\n",
    "                my_eu_id=row['myEuId'],\n",
    "                title=row['project'],\n",
    "                content=row['summary']\n",
    "            )\n",
    "\n",
    "    def add_esif(df):\n",
    "        for _index, row in df[~df.summary.isna()].iterrows():\n",
    "            writer.add_document(\n",
    "                postcode=make_postcode(row),\n",
    "                my_eu_id=row['myEuId'],\n",
    "                title=row['projectTitle'],\n",
    "                content=row['summary']\n",
    "            )\n",
    "    \n",
    "    for dataset, data in raw_district_data['datasets'].items():\n",
    "        df = pd.read_json(json.dumps(data), orient='split')\n",
    "        if dataset == 'cordis':\n",
    "            add_cordis(df)\n",
    "        if dataset == 'creative' or dataset == 'erasmus':\n",
    "            add_creative_or_erasmus(df)\n",
    "        if dataset == 'esif':\n",
    "            add_esif(df)\n",
    "            \n",
    "    writer.commit()\n",
    "\n",
    "if exists_in('output'):\n",
    "    INDEX = open_dir('output')\n",
    "else:\n",
    "    INDEX = create_in('output', SCHEMA)\n",
    "    for raw_district_data in raw_data:\n",
    "        build_index(raw_district_data)"
   ]
  },
  {
   "cell_type": "markdown",
   "metadata": {},
   "source": [
    "## Search"
   ]
  },
  {
   "cell_type": "code",
   "execution_count": null,
   "metadata": {},
   "outputs": [],
   "source": [
    "from whoosh.query import *\n",
    "from whoosh.qparser import MultifieldParser\n",
    "\n",
    "def search_word(word, output_file_name=None, limit=20):\n",
    "    if output_file_name is None:\n",
    "        output_file_name = 'output/{}.html'.format(word)\n",
    "    query = Or([Term('title', word), Term('content', word)])\n",
    "    return search_with_query(query, output_file_name, limit)\n",
    "\n",
    "def search(query_string, output_file_name, limit=20):   \n",
    "    parser = MultifieldParser(['title', 'content'], schema=SCHEMA)\n",
    "    query = parser.parse(query_string)\n",
    "    return search_with_query(query, output_file_name, limit)\n",
    "\n",
    "def search_with_query(query, output_file_name, limit=20):\n",
    "    with INDEX.searcher() as searcher:\n",
    "        with open(output_file_name, 'w') as output_file:\n",
    "            output_file.write('<html><body>')\n",
    "            hits = searcher.search(query, limit=limit)\n",
    "            hits.fragmenter.surround = 100\n",
    "            output_file.write('<h1>{} hits for <tt>{}</tt></h1>'.format(len(hits), query))\n",
    "            output_file.write('<dl>')\n",
    "            for hit in hits:\n",
    "                output_file.write(\n",
    "                    '<dt><a href=\"https://www.myeu.uk/#/postcode/{}\">{}</a> ({})</dt>'.format(\n",
    "                        hit['postcode'].replace(' ', '/'),\n",
    "                        hit['postcode'],\n",
    "                        hit['my_eu_id']\n",
    "                    ))\n",
    "                output_file.write('<dd><p style=\"text-decoration: underline;\">')\n",
    "                if hit.highlights('title') == '':\n",
    "                    output_file.write(hit['title'])\n",
    "                else:\n",
    "                    output_file.write(hit.highlights('title'))\n",
    "                output_file.write('</p><p>')\n",
    "                output_file.write(hit.highlights('content', top=5))\n",
    "                output_file.write('</p></dd>')\n",
    "            output_file.write('</dl></body></html>')                "
   ]
  },
  {
   "cell_type": "code",
   "execution_count": null,
   "metadata": {},
   "outputs": [],
   "source": [
    "search_word('women', limit=200)"
   ]
  },
  {
   "cell_type": "code",
   "execution_count": null,
   "metadata": {},
   "outputs": [],
   "source": [
    "search(\"women's services\", 'output/womens_services.html', limit=200)"
   ]
  },
  {
   "cell_type": "code",
   "execution_count": null,
   "metadata": {},
   "outputs": [],
   "source": [
    "search(\"domestic violence\", 'output/domestic_violence.html', limit=200)"
   ]
  },
  {
   "cell_type": "code",
   "execution_count": null,
   "metadata": {},
   "outputs": [],
   "source": [
    "search(\"domestic violence services\", 'output/domestic_violence_services.html', limit=200)"
   ]
  },
  {
   "cell_type": "code",
   "execution_count": null,
   "metadata": {},
   "outputs": [],
   "source": [
    "search(\"local refuge\", 'output/local_refuge.html', limit=200)"
   ]
  },
  {
   "cell_type": "code",
   "execution_count": null,
   "metadata": {},
   "outputs": [],
   "source": [
    "search(\"employment rights\", 'output/employment_rights.html', limit=200)"
   ]
  },
  {
   "cell_type": "code",
   "execution_count": null,
   "metadata": {},
   "outputs": [],
   "source": [
    "search(\"gender pay gap\", 'output/gender_pay_gap.html', limit=200)"
   ]
  },
  {
   "cell_type": "code",
   "execution_count": null,
   "metadata": {},
   "outputs": [],
   "source": [
    "search(\"equality human rights protection\", 'output/equality_human_rights_protection.html', limit=200)"
   ]
  },
  {
   "cell_type": "code",
   "execution_count": null,
   "metadata": {},
   "outputs": [],
   "source": [
    "search(\"women's rights\", 'output/womens_rights.html', limit=200)"
   ]
  },
  {
   "cell_type": "code",
   "execution_count": null,
   "metadata": {},
   "outputs": [],
   "source": [
    "search(\"women's rights gender equality\", 'output/womens_rights_gender_equality.html', limit=200)"
   ]
  },
  {
   "cell_type": "code",
   "execution_count": null,
   "metadata": {},
   "outputs": [],
   "source": [
    "search(\"charter of fundamental rights\", 'output/charter_of_fundamental_rights.html', limit=200)"
   ]
  },
  {
   "cell_type": "code",
   "execution_count": null,
   "metadata": {},
   "outputs": [],
   "source": [
    "search(\"gender equality\", 'output/gender_equality.html', limit=200)"
   ]
  },
  {
   "cell_type": "code",
   "execution_count": null,
   "metadata": {},
   "outputs": [],
   "source": [
    "search_word('gender', limit=200)"
   ]
  },
  {
   "cell_type": "code",
   "execution_count": null,
   "metadata": {},
   "outputs": [],
   "source": []
  }
 ],
 "metadata": {
  "kernelspec": {
   "display_name": "Python 3",
   "language": "python",
   "name": "python3"
  },
  "language_info": {
   "codemirror_mode": {
    "name": "ipython",
    "version": 3
   },
   "file_extension": ".py",
   "mimetype": "text/x-python",
   "name": "python",
   "nbconvert_exporter": "python",
   "pygments_lexer": "ipython3",
   "version": "3.6.5"
  }
 },
 "nbformat": 4,
 "nbformat_minor": 2
}
