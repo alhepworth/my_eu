{
 "cells": [
  {
   "cell_type": "code",
   "execution_count": null,
   "metadata": {},
   "outputs": [],
   "source": [
    "import json\n",
    "\n",
    "import pandas as pd"
   ]
  },
  {
   "cell_type": "markdown",
   "metadata": {},
   "source": [
    "# Load"
   ]
  },
  {
   "cell_type": "code",
   "execution_count": null,
   "metadata": {},
   "outputs": [],
   "source": [
    "beneficiaries = pd.read_csv('data/esif_2014_2020_beneficiaries_lat_lon.csv')"
   ]
  },
  {
   "cell_type": "code",
   "execution_count": null,
   "metadata": {},
   "outputs": [],
   "source": [
    "beneficiaries.head()"
   ]
  },
  {
   "cell_type": "code",
   "execution_count": null,
   "metadata": {},
   "outputs": [],
   "source": [
    "beneficiaries = beneficiaries.rename(columns={\n",
    "    'Coût total du projet £m': 'project_cost', \n",
    "    'Investissement FEDER/FSE £m': 'eu_investment',\n",
    "    '% du projet cofinancé par l’UE': 'prop_eu_financed',\n",
    "    'latitude': 'lat', \n",
    "    'longitude': 'lng',\n",
    "    'Bénéficiaire': 'beneficiary',\n",
    "    'Nom du projet': 'project',\n",
    "    'Zone de partenariat économique local': 'economic_zone',\n",
    "    'Résumé du projet': 'summary',\n",
    "    'Date de commencement': 'start_date'\n",
    "})"
   ]
  },
  {
   "cell_type": "code",
   "execution_count": null,
   "metadata": {},
   "outputs": [],
   "source": [
    "beneficiaries['start_date'] = pd.to_datetime(beneficiaries.start_date, format='%Y-%m-%d')"
   ]
  },
  {
   "cell_type": "code",
   "execution_count": null,
   "metadata": {},
   "outputs": [],
   "source": [
    "beneficiaries[['project_cost', 'eu_investment']] = beneficiaries[['project_cost', 'eu_investment']].apply(\n",
    "    lambda s: s.str.strip().str.replace(',', '').str.replace(r'(\\.)[\\d|\\.]{3,}\\b', '')\n",
    ").astype(float)"
   ]
  },
  {
   "cell_type": "code",
   "execution_count": null,
   "metadata": {},
   "outputs": [],
   "source": [
    "beneficiaries['project'] = beneficiaries.project.str.replace('\\n', '').str.replace(\"''\", '')"
   ]
  },
  {
   "cell_type": "code",
   "execution_count": null,
   "metadata": {},
   "outputs": [],
   "source": [
    "beneficiaries[['beneficiary', 'project', 'summary', 'start_date', 'project_cost', 'eu_investment', 'prop_eu_financed', 'lat', 'lng']].head()"
   ]
  },
  {
   "cell_type": "markdown",
   "metadata": {},
   "source": [
    "# Save "
   ]
  },
  {
   "cell_type": "code",
   "execution_count": null,
   "metadata": {},
   "outputs": [],
   "source": [
    "beneficiaries.to_pickle('data/beneficiaries.pkl')"
   ]
  },
  {
   "cell_type": "code",
   "execution_count": null,
   "metadata": {},
   "outputs": [],
   "source": [
    "def make_beneficiaries_data_geo_json(beneficiaries):\n",
    "    def make_feature(row):\n",
    "        properties = {\n",
    "            property: row[property]\n",
    "            for property in ['beneficiary', 'project', 'project_cost', 'eu_investment']\n",
    "        }\n",
    "        return {\n",
    "            'type': 'Feature',\n",
    "            'geometry': {\n",
    "                \"type\": \"Point\",\n",
    "                \"coordinates\": [row['lng'], row['lat']]\n",
    "            },\n",
    "            'properties': properties\n",
    "        }\n",
    "    features = list(beneficiaries.apply(make_feature, axis=1))\n",
    "    return { 'type': 'FeatureCollection', 'features': features }\n",
    "with open('data/beneficiaries.geo.json', 'w') as file:\n",
    "    json.dump(make_beneficiaries_data_geo_json(beneficiaries), file, sort_keys=True)"
   ]
  },
  {
   "cell_type": "code",
   "execution_count": null,
   "metadata": {},
   "outputs": [],
   "source": []
  }
 ],
 "metadata": {
  "kernelspec": {
   "display_name": "Python 3",
   "language": "python",
   "name": "python3"
  },
  "language_info": {
   "codemirror_mode": {
    "name": "ipython",
    "version": 3
   },
   "file_extension": ".py",
   "mimetype": "text/x-python",
   "name": "python",
   "nbconvert_exporter": "python",
   "pygments_lexer": "ipython3",
   "version": "3.6.5"
  }
 },
 "nbformat": 4,
 "nbformat_minor": 2
}
