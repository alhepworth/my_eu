{
 "cells": [
  {
   "cell_type": "code",
   "execution_count": null,
   "metadata": {},
   "outputs": [],
   "source": [
    "import json\n",
    "import math\n",
    "\n",
    "import pandas as pd\n",
    "import numpy as np\n",
    "import folium"
   ]
  },
  {
   "cell_type": "code",
   "execution_count": null,
   "metadata": {},
   "outputs": [],
   "source": [
    "fp7projects = pd.read_csv('data/research_projects_2007_2013/cordis-fp7projects.csv', sep=';', decimal=',')\n",
    "fp7projects = fp7projects[fp7projects.coordinatorCountry.str.contains('UK') | fp7projects.participantCountries.str.contains('UK')]\n",
    "fp7projects.shape"
   ]
  },
  {
   "cell_type": "code",
   "execution_count": null,
   "metadata": {},
   "outputs": [],
   "source": [
    "fp7projects[fp7projects.coordinatorCountry.str.contains('UK')]['coordinator'].nunique()"
   ]
  },
  {
   "cell_type": "code",
   "execution_count": null,
   "metadata": {},
   "outputs": [],
   "source": [
    " fp7projects.columns"
   ]
  },
  {
   "cell_type": "code",
   "execution_count": null,
   "metadata": {},
   "outputs": [],
   "source": [
    "fp7projects.head()"
   ]
  },
  {
   "cell_type": "code",
   "execution_count": null,
   "metadata": {},
   "outputs": [],
   "source": [
    "# I see some trailing spaces and lower case codes.\n",
    "fp7projects['coordinatorclean'] = fp7projects['coordinator'].str.replace(\"THE\", \"\").str.replace(\"LIMITED\", \"\").str.replace(\"PLC\", \"\").str.replace(\"LLC\", \"\").str.replace(\"LBG\", \"\").str.replace(\"LTD\", \"\").str.replace(\"HIGHER EDUCATION CORPORATION\", \"\").str.replace(\"UNIVERSITY COURT OF\", \"\").str.replace(\"CHANCELLOR MASTERS AND SCHOLARS OF\", \"\").str.replace(\"CHANCELLOR, MASTERS AND SCHOLARS OF\", \"\").str.strip().str.upper()"
   ]
  },
  {
   "cell_type": "code",
   "execution_count": null,
   "metadata": {},
   "outputs": [],
   "source": [
    "fp7projectscoord = fp7projects[fp7projects.coordinatorCountry.str.contains('UK')]\n",
    "fp7projectscoord.shape"
   ]
  },
  {
   "cell_type": "code",
   "execution_count": null,
   "metadata": {},
   "outputs": [],
   "source": [
    "grid = pd.read_csv('data/grid20180625/grid.csv')\n",
    "grid['nameclean'] = grid['Name'].str.replace(\"THE\", \"\").str.replace(\"LIMITED\", \"\").str.replace(\"PLC\", \"\").str.replace(\"LLC\", \"\").str.replace(\"LBG\", \"\").str.replace(\"LTD\", \"\").str.replace(\"HIGHER EDUCATION CORPORATION\", \"\").str.replace(\"UNIVERSITY COURT OF\", \"\").str.replace(\"CHANCELLOR MASTERS AND SCHOLARS OF\", \"\").str.replace(\"CHANCELLOR, MASTERS AND SCHOLARS OF\", \"\").str.strip().str.upper()\n",
    "grid.head()"
   ]
  },
  {
   "cell_type": "code",
   "execution_count": null,
   "metadata": {},
   "outputs": [],
   "source": [
    "grid_addresses = pd.read_csv('data/grid20180625/full_tables/addresses.csv', low_memory=False)\n",
    "grid_addresses.head()"
   ]
  },
  {
   "cell_type": "code",
   "execution_count": null,
   "metadata": {},
   "outputs": [],
   "source": [
    "fp7projectscoord = pd.merge(fp7projectscoord, grid, how='left', left_on='coordinatorclean', right_on='nameclean')\n",
    "fp7projectscoord.shape"
   ]
  },
  {
   "cell_type": "code",
   "execution_count": null,
   "metadata": {},
   "outputs": [],
   "source": [
    "fp7projectscoord = pd.merge(fp7projectscoord, grid_addresses, how='left', left_on='ID', right_on='grid_id')\n",
    "fp7projectscoord.head(20)"
   ]
  },
  {
   "cell_type": "code",
   "execution_count": null,
   "metadata": {},
   "outputs": [],
   "source": [
    "\n",
    "unmatched = fp7projectscoord[pd.isnull(fp7projectscoord.lat)]['coordinatorclean']\n",
    "\n",
    "unmatched = unmatched.to_frame()\n",
    "unmatched.groupby('coordinatorclean').nunique()[60:80]"
   ]
  },
  {
   "cell_type": "code",
   "execution_count": null,
   "metadata": {},
   "outputs": [],
   "source": [
    "fp7projectscoord.columns"
   ]
  },
  {
   "cell_type": "code",
   "execution_count": null,
   "metadata": {},
   "outputs": [],
   "source": [
    "for institute in fp7projectscoord.itertuples():\n",
    "    if not (pd.isnull(institute[33])):\n",
    "        print([ institute[33], institute[34] ])"
   ]
  },
  {
   "cell_type": "markdown",
   "metadata": {},
   "source": [
    "mapit = folium.Map(location=[51.50810, -0.14077], zoom_start=10 )\n",
    "for institute in fp7projectscoord.itertuples():\n",
    "    if not pd.isnull(institute[33]):\n",
    "        folium.Marker(location=[ institute[33], institute[34] ]).add_to(mapit)\n",
    "mapit"
   ]
  },
  {
   "cell_type": "code",
   "execution_count": null,
   "metadata": {},
   "outputs": [],
   "source": [
    "fp7projectscoord[fp7projectscoord.lat  >49.7][['coordinatorclean','coordinatorCountry','Country']]"
   ]
  },
  {
   "cell_type": "code",
   "execution_count": null,
   "metadata": {},
   "outputs": [],
   "source": [
    "fp7projectscoord[~pd.isnull(fp7projectscoord.country_code.str.contains('GB'))]"
   ]
  },
  {
   "cell_type": "code",
   "execution_count": null,
   "metadata": {},
   "outputs": [],
   "source": [
    "fp7projectscoord = fp7projectscoord[~pd.isnull(fp7projectscoord.country) & fp7projectscoord.country.str.contains('United Kingdom')]"
   ]
  },
  {
   "cell_type": "code",
   "execution_count": null,
   "metadata": {},
   "outputs": [],
   "source": []
  },
  {
   "cell_type": "code",
   "execution_count": null,
   "metadata": {},
   "outputs": [],
   "source": [
    "def make_coordis_data_geo_json(coordis_data):\n",
    "    def make_feature(row):\n",
    "        properties = {\n",
    "            property: row[property]\n",
    "            for property in ['acronym', 'title', 'coordinator', 'startDate', 'endDate', 'totalCost', 'ecMaxContribution',\n",
    "                             'projectUrl']\n",
    "            if str(row[property]) != 'nan'\n",
    "        }\n",
    "        return {\n",
    "            'type': 'Feature',\n",
    "            'geometry': {\n",
    "                \"type\": \"Point\",\n",
    "                \"coordinates\": [row['lng'], row['lat']]\n",
    "            },\n",
    "            'properties': properties\n",
    "        }\n",
    "    features = list(coordis_data.apply(make_feature, axis=1))\n",
    "    return { 'type': 'FeatureCollection', 'features': features }\n",
    "with open('data/coordis_data.geo.json', 'w') as file:\n",
    "    json.dump(make_coordis_data_geo_json(\n",
    "        fp7projectscoord[~pd.isnull(fp7projectscoord['lat'])]\n",
    "    ), file, sort_keys=True)"
   ]
  },
  {
   "cell_type": "code",
   "execution_count": null,
   "metadata": {},
   "outputs": [],
   "source": []
  }
 ],
 "metadata": {
  "kernelspec": {
   "display_name": "Python 3",
   "language": "python",
   "name": "python3"
  },
  "language_info": {
   "codemirror_mode": {
    "name": "ipython",
    "version": 3
   },
   "file_extension": ".py",
   "mimetype": "text/x-python",
   "name": "python",
   "nbconvert_exporter": "python",
   "pygments_lexer": "ipython3",
   "version": "3.6.5"
  }
 },
 "nbformat": 4,
 "nbformat_minor": 2
}
