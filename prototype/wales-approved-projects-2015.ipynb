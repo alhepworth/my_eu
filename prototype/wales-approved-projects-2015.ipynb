{
 "cells": [
  {
   "cell_type": "code",
   "execution_count": null,
   "metadata": {},
   "outputs": [],
   "source": [
    "\n",
    "\n",
    "import json\n",
    "import math\n",
    "\n",
    "import pandas as pd\n",
    "import numpy as np\n",
    "import folium"
   ]
  },
  {
   "cell_type": "code",
   "execution_count": null,
   "metadata": {},
   "outputs": [],
   "source": [
    "wales = pd.read_excel('data/wales_erdf_esf/input/wales-approved-projects-2015.xlsx')\n",
    "wales.head()"
   ]
  },
  {
   "cell_type": "code",
   "execution_count": null,
   "metadata": {},
   "outputs": [],
   "source": [
    "wales = wales[~wales['EU Programme'].isnull()]"
   ]
  },
  {
   "cell_type": "code",
   "execution_count": null,
   "metadata": {},
   "outputs": [],
   "source": [
    "grid = pd.read_csv('data/grid20180625/grid.csv')\n",
    "grid.head()"
   ]
  },
  {
   "cell_type": "code",
   "execution_count": null,
   "metadata": {},
   "outputs": [],
   "source": [
    "grid_addresses = pd.read_csv('data/grid20180625/full_tables/addresses.csv', low_memory=False)\n",
    "grid_addresses.head()"
   ]
  },
  {
   "cell_type": "code",
   "execution_count": null,
   "metadata": {},
   "outputs": [],
   "source": [
    "wales = pd.merge(wales, grid, how='left', left_on='Lead Organisation', right_on='Name')\n",
    "wales.shape"
   ]
  },
  {
   "cell_type": "code",
   "execution_count": null,
   "metadata": {},
   "outputs": [],
   "source": [
    "wales_edu = pd.merge(wales, grid_addresses, how='left', left_on='ID', right_on='grid_id')\n",
    "wales.shape"
   ]
  },
  {
   "cell_type": "code",
   "execution_count": null,
   "metadata": {},
   "outputs": [],
   "source": [
    "wales_edu[wales.ID.isnull()].shape"
   ]
  },
  {
   "cell_type": "code",
   "execution_count": null,
   "metadata": {},
   "outputs": [],
   "source": [
    "wales[wales.ID.isnull()][['Lead Organisation']].sort_values(axis=0, by='Lead Organisation').tail(40)"
   ]
  },
  {
   "cell_type": "code",
   "execution_count": null,
   "metadata": {},
   "outputs": [],
   "source": [
    "walesLocations = pd.DataFrame([('Aberystwyth Innovation and Enterprise Campus Ltd', 'SY233EE'),\n",
    "           ('Blaenau Gwent County Borough Counci', 'NP236XB'),\n",
    "           ('Bridgend County Borough Council', 'CF314WB'),\n",
    "           ('Caerphilly County Borough Council', 'CF827PG', 'CF827PG', 'CF827WF'),\n",
    "           ('Carmarthenshire County Council', 'SA183EL'),\n",
    "           ('Ceredigion County Council', 'SY233UE'),\n",
    "           ('Chwarae Teg', 'CF245JW'),\n",
    "           ('Coleg Gwent', 'NP19 4TS'),\n",
    "           ('Coleg Y Cymoedd', 'CF448EN', 'CF818RD', 'CF157QY', 'CF827XR'),\n",
    "           ('Conwy County Borough Council', 'LL328DU'),\n",
    "           ('Denbighshire County Borough Council', 'LL159AZ'),\n",
    "           ('Engineering Education Scheme Wales', 'CF313WT'),       \n",
    "           ('Finance Wales Plc', 'CF104BZ', 'SA148LQ', 'SY161RB', 'LL170JD'),  \n",
    "            ('Grwp Llandrillo-Menai', 'LL284HZ', 'LL572TP', 'LL402SW'),\n",
    "           ('Isle of Anglesey County Council', 'LL777TW'),\n",
    "            ('Marine Power Systems Limited', 'SA18AS'),\n",
    "            ('Menter Mon', 'LL777LR'),\n",
    "            ('Minesto UK LTD', 'LL651UN', 'BT221NZ'),\n",
    "            ('Neath Port Talbot County Borough Council', 'SA131PJ'), \n",
    "            ('Newport City Council', 'NP204UR'),\n",
    "            ('Pembrokeshire Coastal Forum', 'SA726UL'),\n",
    "            ('Pembrokeshire County Council', 'SA611TP'), \n",
    "            ('Powys County Council', 'LD15LG'),\n",
    "            ('Rhondda Cynon Taff Council', 'CF402XX'),\n",
    "            ('SOVA', 'CF101FE'),\n",
    "            ('Swansea Council', 'SA13SN'),\n",
    "            ('TWI Ltd', 'SA131SB'),\n",
    "            ('Torfaen County Borough Council', 'NP46YB'),\n",
    "            ('University of Wales Trinity Saint David', 'SA487ED'),\n",
    "            ('WG - Department for Education and Skills', 'CF103NQ'),\n",
    "            ('WG - Department for Health and Social Services', 'CF103NQ'),\n",
    "            ('WG - Department of Local Government and Communities', 'CF103NQ'),\n",
    "    ('WG - Department for Economy, Science and Transport', 'CF103NQ'),      \n",
    "           ('Wales Co operative Centre', 'CF832AX'),\n",
    "            ('Wales Council for Voluntary Action', 'CF832AX', 'CF105FH', 'SY233AH'),\n",
    "            ('Wave Hub Limited', 'TR274DD'),\n",
    "            ('Wave-Tricity Limited', 'SA726YH'),\n",
    "            ('Welsh Contact Centre Forum Ltd', 'CF642AG')\n",
    "\n",
    " \n",
    "], \n",
    "          \n",
    "          columns=['Lead Organisation', 'postcode1', 'postcode2', 'postcode3', 'postcode4'])\n",
    "walesLocations.head()"
   ]
  },
  {
   "cell_type": "markdown",
   "metadata": {},
   "source": [
    "Not found             ('WAG The Economic Development Group within DEandT'), WAG DEandT WEFO"
   ]
  },
  {
   "cell_type": "code",
   "execution_count": null,
   "metadata": {},
   "outputs": [],
   "source": [
    "wales_nonedu = pd.merge(wales, walesLocations, how='left', left_on='Lead Organisation', right_on='Lead Organisation')\n",
    "wales_nonedu.shape"
   ]
  },
  {
   "cell_type": "code",
   "execution_count": null,
   "metadata": {},
   "outputs": [],
   "source": [
    "postcodes = pd.read_csv('data/postcodes/input/ukpostcodes.csv')"
   ]
  },
  {
   "cell_type": "code",
   "execution_count": null,
   "metadata": {},
   "outputs": [],
   "source": [
    "postcodes.head()"
   ]
  },
  {
   "cell_type": "code",
   "execution_count": null,
   "metadata": {},
   "outputs": [],
   "source": [
    "postcodes['postcode'] = postcodes.postcode.str.strip().str.replace(' ', '')"
   ]
  },
  {
   "cell_type": "code",
   "execution_count": null,
   "metadata": {},
   "outputs": [],
   "source": [
    "wales_nonedu =  pd.merge(wales_nonedu, postcodes,  left_on=['postcode1'], right_on=['postcode'])"
   ]
  },
  {
   "cell_type": "code",
   "execution_count": null,
   "metadata": {},
   "outputs": [],
   "source": [
    "wales_nonedu.columns"
   ]
  },
  {
   "cell_type": "code",
   "execution_count": null,
   "metadata": {},
   "outputs": [],
   "source": [
    "wales_edu.columns"
   ]
  },
  {
   "cell_type": "code",
   "execution_count": null,
   "metadata": {},
   "outputs": [],
   "source": [
    "wales.columns"
   ]
  },
  {
   "cell_type": "code",
   "execution_count": null,
   "metadata": {},
   "outputs": [],
   "source": [
    "wales_edu = wales_edu.rename(index=str, columns={\"Project Title\": \"project\", \"Lead Organisation\": \"beneficiary\", \"EU funds awarded\": \"eu_investment\", \"Total Project cost\": \"project_cost\"})\n",
    "wales_nonedu = wales_nonedu.rename(index=str, columns={\"Project Title\": \"project\", \"Lead Organisation\": \"beneficiary\", \"EU funds awarded\": \"eu_investment\", \"Total Project cost\": \"project_cost\"})"
   ]
  },
  {
   "cell_type": "code",
   "execution_count": null,
   "metadata": {},
   "outputs": [],
   "source": [
    "def make_wales_data_geo_json(coordis_data):\n",
    "    def make_feature(row):\n",
    "        properties = {\n",
    "            property: row[property]\n",
    "            for property in ['project','beneficiary', 'Project Description',  'eu_investment', 'project_cost']\n",
    "            if str(row[property]) != 'nan'\n",
    "        }\n",
    "        properties['Project start date'] = str(row['Project start date'])\n",
    "        properties['Project end date'] = str(row['Project end date'])\n",
    "        return {\n",
    "            'type': 'Feature',\n",
    "            'geometry': {\n",
    "                \"type\": \"Point\",\n",
    "                \"coordinates\": [row['longitude'], row['latitude']]\n",
    "            },\n",
    "            'properties': properties\n",
    "        }\n",
    "    features = list(coordis_data.apply(make_feature, axis=1))\n",
    "    return { 'type': 'FeatureCollection', 'features': features }\n",
    "with open('data/wales_erdf_esf/output/wales_data.geo.json', 'w') as file:\n",
    "    json.dump(make_wales_data_geo_json(\n",
    "        wales_nonedu[~pd.isnull(wales_nonedu['latitude'])]\n",
    "    ), file, sort_keys=True)"
   ]
  },
  {
   "cell_type": "code",
   "execution_count": null,
   "metadata": {},
   "outputs": [],
   "source": [
    "def make_wales_edu_data_geo_json(coordis_data):\n",
    "    def make_feature(row):\n",
    "        properties = {\n",
    "            property: row[property]\n",
    "            for property in ['project','beneficiary', 'Project Description',  'eu_investment', 'project_cost']\n",
    "            if str(row[property]) != 'nan'\n",
    "        }\n",
    "        properties['Project start date'] = str(row['Project start date'])\n",
    "        properties['Project end date'] = str(row['Project end date'])\n",
    "        return {\n",
    "            'type': 'Feature',\n",
    "            'geometry': {\n",
    "                \"type\": \"Point\",\n",
    "                \"coordinates\": [row['lng'], row['lat']]\n",
    "            },\n",
    "            'properties': properties\n",
    "        }\n",
    "    features = list(coordis_data.apply(make_feature, axis=1))\n",
    "    return { 'type': 'FeatureCollection', 'features': features }\n",
    "with open('data/wales_erdf_esf/output/wales_edu_data.geo.json', 'w') as file:\n",
    "    json.dump(make_wales_edu_data_geo_json(\n",
    "        wales_edu[~pd.isnull(wales_edu['lat'])]\n",
    "    ), file, sort_keys=True)"
   ]
  },
  {
   "cell_type": "code",
   "execution_count": null,
   "metadata": {},
   "outputs": [],
   "source": []
  }
 ],
 "metadata": {
  "kernelspec": {
   "display_name": "Python 3",
   "language": "python",
   "name": "python3"
  },
  "language_info": {
   "codemirror_mode": {
    "name": "ipython",
    "version": 3
   },
   "file_extension": ".py",
   "mimetype": "text/x-python",
   "name": "python",
   "nbconvert_exporter": "python",
   "pygments_lexer": "ipython3",
   "version": "3.6.5"
  }
 },
 "nbformat": 4,
 "nbformat_minor": 2
}
